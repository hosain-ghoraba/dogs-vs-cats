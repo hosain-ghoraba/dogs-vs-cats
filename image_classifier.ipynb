{
  "cells": [
    {
      "cell_type": "code",
      "execution_count": 1,
      "metadata": {},
      "outputs": [],
      "source": [
        "# --------------------------------------------------------- Global Variables & Paths\n",
        "# region\n",
        "# @title Global Variables & Paths { display-mode: \"form\" }\n",
        "\n",
        "\n",
        "# --------------- vscode\n",
        "VS_CODE_RAW_DATA_SET_PATH = '../dogs-vs-cats/data/PetImages' # modify per data set\n",
        "VS_CODE_CLEAN_DATA_SET_PATH = '../dogs-vs-cats/data/clean_data'\n",
        "\n",
        "# --------------- kaggle\n",
        "KAGGLE_RAW_DATA_SET_PATH = '/kaggle/input/arabic-letters-numbers-ocr/Dataset' # put (dataset name immediately after /input), and any extra folders modify per data set\n",
        "KAGGLE_CLEAN_DATA_SET_PATH = '/kaggle/working/clean_data'\n",
        "\n",
        "\n",
        "# --------------- colab\n",
        "KAGGLE_CRED_PATH = '/content/gdrive/MyDrive/Bachelor/kaggle'\n",
        "KAGGLE_DATA_SET_NAME = 'mahmoudreda55/arabic-letters-numbers-ocr'  # username/dataset name..t modify per data set\n",
        "\n",
        "COLAB_RAW_DATA_SET_PATH = '/content/kaggle_data/Dataset' # put (dataset_name) after (kaggle_data) , then put any extra folders... modify the part after (kaggle_data) per data set\n",
        "COLAB_CLAEN_DATA_SET_PATH = '/content/clean_data'\n",
        "\n",
        "EPOCHS = 100\n",
        "DATA_PERCENTAGE_TO_USE = 100\n",
        "RENAME_CLEAN_DATA = True\n",
        "COPY_RAW_DATA = True\n",
        "\n",
        "\n",
        "\n",
        "# endregion"
      ]
    },
    {
      "cell_type": "code",
      "execution_count": 2,
      "metadata": {},
      "outputs": [],
      "source": [
        "# --------------------------------------------------------- install libraries\n",
        "# region\n",
        "# @title install libraries { display-mode: \"form\" }\n",
        "\n",
        "# %pip install --upgrade pillow pydrive2\n",
        "# endregion"
      ]
    },
    {
      "cell_type": "code",
      "execution_count": 3,
      "metadata": {},
      "outputs": [
        {
          "name": "stdout",
          "output_type": "stream",
          "text": [
            "WARNING:tensorflow:From c:\\Users\\Dell\\Desktop\\Bachelor\\dogs-vs-cats\\env\\Lib\\site-packages\\keras\\src\\losses.py:2976: The name tf.losses.sparse_softmax_cross_entropy is deprecated. Please use tf.compat.v1.losses.sparse_softmax_cross_entropy instead.\n",
            "\n",
            "imports done\n"
          ]
        }
      ],
      "source": [
        "# --------------------------------------------------------- imports\n",
        "# region\n",
        "# @title imports { display-mode: \"form\" }\n",
        "\n",
        "import os\n",
        "import time\n",
        "import uuid\n",
        "import random\n",
        "import warnings\n",
        "import shutil\n",
        "import zipfile\n",
        "from os import makedirs\n",
        "from os import listdir\n",
        "from shutil import copyfile\n",
        "from random import seed\n",
        "import numpy as np\n",
        "import pandas as pd\n",
        "import seaborn as sns\n",
        "import matplotlib.pyplot as plt\n",
        "from matplotlib.image import imread\n",
        "from PIL import Image\n",
        "from sklearn.model_selection import train_test_split\n",
        "from sklearn.metrics import classification_report,confusion_matrix,ConfusionMatrixDisplay\n",
        "import tensorflow as tf\n",
        "from tensorflow.keras.utils import to_categorical\n",
        "from tensorflow.keras.models import Sequential\n",
        "from tensorflow.keras.preprocessing.image import ImageDataGenerator\n",
        "from tensorflow.keras.layers import Dense,MaxPooling2D,Dropout,Flatten,BatchNormalization,Conv2D\n",
        "from tensorflow.keras.callbacks import ReduceLROnPlateau,EarlyStopping\n",
        "\n",
        "print(\"imports done\")\n",
        "\n",
        "# endregion\n",
        "\n"
      ]
    },
    {
      "cell_type": "code",
      "execution_count": 4,
      "metadata": {},
      "outputs": [
        {
          "name": "stdout",
          "output_type": "stream",
          "text": [
            "functions done\n"
          ]
        }
      ],
      "source": [
        "# --------------------------------------------------------- functions\n",
        "# region\n",
        "# @title functions {display-mode: \"form\"}\n",
        "\n",
        "raw_data_path = None\n",
        "clean_data_path = None\n",
        "\n",
        "def get_environment():\n",
        "    if 'COLAB_GPU' in os.environ:\n",
        "        return 'Google Colab'\n",
        "    elif 'KAGGLE_URL_BASE' in os.environ:\n",
        "        return 'Kaggle'\n",
        "    elif 'VSCODE_PID' in os.environ:\n",
        "        return 'VS Code'\n",
        "    else:\n",
        "        return 'Unknown environment'\n",
        "\n",
        "def do_colab_staff():\n",
        "\n",
        "    from google.colab import drive\n",
        "    drive.mount('/content/gdrive')\n",
        "\n",
        "    # storing kaggle credentials\n",
        "    os.environ['KAGGLE_CONFIG_DIR'] = KAGGLE_CRED_PATH\n",
        "\n",
        "    !kaggle datasets download -d {KAGGLE_DATA_SET_NAME}\n",
        "    print(\"downloaded dataset\" ,KAGGLE_DATA_SET_NAME )\n",
        "    \n",
        "    ! mkdir kaggle_data\n",
        "\n",
        "    downloaded_zip_name = f\"{KAGGLE_DATA_SET_NAME.split('/')[-1]}.zip\" # the !kaggle datasets download command will download the zip file with the same name as the dataset name\n",
        "    extract_folder_path = 'kaggle_data'\n",
        "    with zipfile.ZipFile(downloaded_zip_name, 'r') as zip_ref:\n",
        "         zip_ref.extractall(extract_folder_path)\n",
        "\n",
        "    global raw_data_path\n",
        "    raw_data_path = COLAB_RAW_DATA_SET_PATH\n",
        "    global clean_data_path\n",
        "    clean_data_path = COLAB_CLAEN_DATA_SET_PATH\n",
        "\n",
        "\n",
        "def do_kaggle_staff():\n",
        "    global raw_data_path\n",
        "    raw_data_path = KAGGLE_RAW_DATA_SET_PATH\n",
        "    global clean_data_path\n",
        "    clean_data_path = KAGGLE_CLEAN_DATA_SET_PATH\n",
        "    \n",
        "def do_vscode_staff():\n",
        "    global raw_data_path\n",
        "    raw_data_path = VS_CODE_RAW_DATA_SET_PATH\n",
        "    global clean_data_path\n",
        "    clean_data_path = VS_CODE_CLEAN_DATA_SET_PATH\n",
        "\n",
        "def do_unknown_environment_staff():\n",
        "    print(\"This is an unknown environment, please enter the path to the data set folder:\")\n",
        "    global raw_data_path\n",
        "    raw_data_path = input()     \n",
        "\n",
        "def image_is_ok(image_path):\n",
        "    with warnings.catch_warnings(record=True) as w:\n",
        "        try:\n",
        "            img = Image.open(image_path)\n",
        "            img.verify()\n",
        "            if len(w) > 0:  # if any warnings were issued\n",
        "                return False\n",
        "            return True\n",
        "        except (IOError, SyntaxError):\n",
        "            return False\n",
        "\n",
        "def copy_clean_files(dirty_dataset_path, destination_folder_path):\n",
        "    print(\"copying clean files...\")\n",
        "    # If the destination directory already exists, remove it and all its contents\n",
        "    if os.path.exists(destination_folder_path):\n",
        "        shutil.rmtree(destination_folder_path)\n",
        "        print(f\"removed {destination_folder_path} directory to create a new one...\")\n",
        "    os.makedirs(destination_folder_path)\n",
        "    for root, dirs, files in os.walk(dirty_dataset_path):\n",
        "        for file in files:\n",
        "            file_path = os.path.join(root, file)\n",
        "            if image_is_ok(file_path):\n",
        "                new_file_path = os.path.join(destination_folder_path, os.path.relpath(file_path, dirty_dataset_path))\n",
        "                os.makedirs(os.path.dirname(new_file_path) , exist_ok=True)\n",
        "                shutil.copyfile(file_path, new_file_path)\n",
        "            else:\n",
        "                # print(f\"file: {file_path} is corrupted & skipped from dataset while copying \")    \n",
        "                 print(f\"file: {os.path.relpath(file_path, dirty_dataset_path)} is corrupted & skipped from dataset while copying \")\n",
        "    print(f\"copied files from {dirty_dataset_path} to {destination_folder_path} successfully\")             \n",
        "\n",
        "def rename_files(data_set_path):\n",
        "    all_entities_names = os.listdir(data_set_path)\n",
        "    print(\"giving temporary unique names...\")\n",
        "    for entity_name in all_entities_names:\n",
        "        entity_path = os.path.join(data_set_path, entity_name)\n",
        "        for filename in os.listdir(entity_path):\n",
        "            temp_filename = str(uuid.uuid4()) + \".jpg\"  # generate a unique filename\n",
        "            source = os.path.join(entity_path, filename)\n",
        "            destination = os.path.join(entity_path, temp_filename)\n",
        "            os.rename(source, destination)\n",
        "    # ----------------------------------------------------------------------------------------------------\n",
        "    print(\"renaming...\")\n",
        "    # then rename every file in every folder in the given path\n",
        "\n",
        "    for entity_name in all_entities_names:\n",
        "        entity_path = os.path.join(data_set_path, entity_name)\n",
        "        i = 1\n",
        "        for filename in os.listdir(entity_path):\n",
        "            entity_name = os.fsdecode(entity_name.lower())\n",
        "            new_filename = entity_name + '.' + str(i) + \".jpg\"\n",
        "            source = os.path.join(entity_path, filename)\n",
        "            destination = os.path.join(entity_path, new_filename)\n",
        "            os.rename(source, destination)\n",
        "            i += 1\n",
        "    print(\"done renaming !\")\n",
        "\n",
        "def find_image_folder_after_extracting_zip(extracted_folder_path):\n",
        "    for root, dirs, files in os.walk(extracted_folder_path):\n",
        "        # check if the current directory contains image files\n",
        "        if any(fname.lower().endswith(('.png', '.jpg', '.jpeg')) for fname in files):\n",
        "            return os.path.dirname(root)\n",
        "    return None\n",
        "print(\"functions done\")  \n",
        "\n",
        "\n",
        "\n",
        "# endregion\n",
        "\n",
        "    "
      ]
    },
    {
      "cell_type": "code",
      "execution_count": 5,
      "metadata": {},
      "outputs": [
        {
          "name": "stdout",
          "output_type": "stream",
          "text": [
            "No GPU available, using CPU instead.\n",
            "Environment: VS Code\n",
            "raw data set path: ../dogs-vs-cats/data/PetImages\n",
            "clean data set path: ../dogs-vs-cats/data/clean_data\n",
            "doing specific-environment things done\n"
          ]
        }
      ],
      "source": [
        "# --------------------------------------------------------- doing specific-environment things\n",
        "# region\n",
        "# @title doing specific-environment things {display-mode: \"form\"}\n",
        "\n",
        "# test if the GPU is available\n",
        "gpus = tf.config.experimental.list_physical_devices('GPU')\n",
        "print(gpus if gpus else \"No GPU available, using CPU instead.\")\n",
        "\n",
        "raw_data_path = None    \n",
        "environment_type = get_environment() \n",
        "print(f'Environment: {environment_type}')       \n",
        "print(\"tensowflow version:\", tf.__version__)\n",
        "if environment_type == 'Google Colab':\n",
        "    do_colab_staff()\n",
        "elif environment_type == 'Kaggle':\n",
        "    do_kaggle_staff()\n",
        "elif environment_type == 'VS Code':\n",
        "    do_vscode_staff()\n",
        "else:\n",
        "    do_unknown_environment_staff()\n",
        "\n",
        "print(\"raw data set path:\", raw_data_path)\n",
        "assert os.path.exists(raw_data_path), ' wrong path for data set !' \n",
        "print(\"clean data set path:\", clean_data_path)\n",
        "  \n",
        "\n",
        "print(\"doing specific-environment things done\")\n",
        "\n",
        "# endregion\n",
        "\n",
        "        \n"
      ]
    },
    {
      "cell_type": "code",
      "execution_count": 6,
      "metadata": {},
      "outputs": [
        {
          "name": "stdout",
          "output_type": "stream",
          "text": [
            "raw data path: ../dogs-vs-cats/data/PetImages\n",
            "raw data parent dir: ../dogs-vs-cats/data\n",
            "clean data path: ../dogs-vs-cats/data/clean_data\n",
            "removed ../dogs-vs-cats/data/clean_data directory to create a new one...\n",
            "file: Cat\\666.jpg is corrupted & skipped from dataset while copying \n",
            "file: Cat\\Thumbs.db is corrupted & skipped from dataset while copying \n",
            "file: Dog\\11702.jpg is corrupted & skipped from dataset while copying \n",
            "file: Dog\\9041.jpg is corrupted & skipped from dataset while copying \n",
            "file: Dog\\Thumbs.db is corrupted & skipped from dataset while copying \n",
            "copied files from ../dogs-vs-cats/data/PetImages to ../dogs-vs-cats/data/clean_data successfully\n",
            "giving temporary unique names...\n",
            "renaming...\n",
            "done renaming !\n",
            "we will only use  100 % of the data\n",
            "data preparation done\n"
          ]
        }
      ],
      "source": [
        "# --------------------------------------------------------- data preparation\n",
        "# region\n",
        "# @title data preparation {display-mode: \"form\"}\n",
        "\n",
        "start_time = time.time()\n",
        "\n",
        "print(\"raw data path:\", raw_data_path)\n",
        "parent_dir = os.path.dirname(raw_data_path)\n",
        "print(\"raw data parent dir:\", parent_dir)\n",
        "print(\"clean data path:\", clean_data_path)\n",
        "\n",
        "if(COPY_RAW_DATA):\n",
        "    copy_clean_files(raw_data_path, clean_data_path)\n",
        "if(RENAME_CLEAN_DATA):\n",
        "    rename_files(clean_data_path)\n",
        "ready_data_path = clean_data_path\n",
        "\n",
        "print(\"we will only use \", DATA_PERCENTAGE_TO_USE, \"% of the data\")\n",
        "print(\"data preparation done\")\n",
        "\n",
        "\n",
        "# endregion\n",
        "        \n"
      ]
    },
    {
      "cell_type": "code",
      "execution_count": 7,
      "metadata": {
        "id": "E9g1mXLiOBTX"
      },
      "outputs": [
        {
          "name": "stdout",
          "output_type": "stream",
          "text": [
            "all entities names: ['Cat', 'Dog']\n",
            "selected data set size = 1 * 24997 = 24997\n",
            "Loading Images in a Dataframe done\n"
          ]
        }
      ],
      "source": [
        "# 1 --------------------------------------------------------- Loading Images in a Dataframe\n",
        "# region\n",
        "# @title 1 - Loading Images in a Dataframe { display-mode: \"form\" }\n",
        "\n",
        "all_entities_names = os.listdir(ready_data_path)\n",
        "print(\"all entities names:\", all_entities_names)\n",
        "filenames = []\n",
        "original_data_set_size = 0\n",
        "for entity_name in all_entities_names:\n",
        "    entity_path = os.path.join(ready_data_path, entity_name)\n",
        "    entity_filenames = [file_name for file_name in os.listdir(entity_path)]\n",
        "    original_data_set_size += len(entity_filenames)\n",
        "    random.shuffle(entity_filenames)\n",
        "    entity_filenames = entity_filenames[:int(len(entity_filenames) * (DATA_PERCENTAGE_TO_USE / 100))]\n",
        "    filenames.extend([os.path.join(entity_name, file_name) for file_name in entity_filenames])\n",
        "\n",
        "print(f\"selected data set size = {DATA_PERCENTAGE_TO_USE / 100} * {original_data_set_size} = {len(filenames)}\") \n",
        "file_labels = [x.split(os.sep)[0] for x in filenames] \n",
        "data = pd.DataFrame({\"filename\": filenames, \"label\": file_labels})\n",
        "\n",
        "print(\"Loading Images in a Dataframe done\")\n",
        "# endregion\n"
      ]
    },
    {
      "cell_type": "code",
      "execution_count": 8,
      "metadata": {
        "colab": {
          "base_uri": "https://localhost:8080/"
        },
        "id": "-1t3k6egONtP",
        "outputId": "9150b61f-6e5e-4321-dcba-c16b3430fab5"
      },
      "outputs": [
        {
          "name": "stdout",
          "output_type": "stream",
          "text": [
            " \n",
            "The shape of train data (19997, 2)\n",
            "The shape of test data (2500, 2)\n",
            "The shape of validation data (2500, 2)\n",
            " \n"
          ]
        }
      ],
      "source": [
        "# 2 --------------------------------------------------------- Train Test Split\n",
        "# region\n",
        "# @title 2 - Train Test Split { display-mode: \"form\" }\n",
        "\n",
        "lables = data['label']\n",
        "X_train, X_temp = train_test_split(data, test_size=0.2, stratify=lables, random_state = 42)\n",
        "label_test_val = X_temp['label']\n",
        "X_test, X_val = train_test_split(X_temp, test_size=0.5, stratify=label_test_val, random_state = 42)\n",
        "\n",
        "print(\" \")\n",
        "print('The shape of train data',X_train.shape)\n",
        "print('The shape of test data',X_test.shape)\n",
        "print('The shape of validation data',X_val.shape)\n",
        "print(\" \")\n",
        "\n",
        "# endregion\n"
      ]
    },
    {
      "cell_type": "code",
      "execution_count": 9,
      "metadata": {
        "colab": {
          "base_uri": "https://localhost:8080/"
        },
        "id": "96TshXPJOSrV",
        "outputId": "e82d25d8-db39-45be-d2b4-771d5d644a6c"
      },
      "outputs": [
        {
          "name": "stdout",
          "output_type": "stream",
          "text": [
            "Found 19997 validated image filenames belonging to 2 classes.\n",
            "Found 2500 validated image filenames belonging to 2 classes.\n",
            "Found 2500 validated image filenames belonging to 2 classes.\n",
            "Creating Image Data Generator done\n"
          ]
        }
      ],
      "source": [
        "# 3 --------------------------------------------------------- Creating Image Data Generator\n",
        "# region\n",
        "# @title 3 - Creating Image Data Generator  { display-mode: \"form\" }\n",
        "\n",
        "image_size = 128\n",
        "image_channel = 3\n",
        "bat_size = 32\n",
        "\n",
        "# Creating image data generator\n",
        "train_datagen = ImageDataGenerator(rescale=1./255,\n",
        "                                    rotation_range = 15,\n",
        "                                    horizontal_flip = True,\n",
        "                                    zoom_range = 0.2,\n",
        "                                    shear_range = 0.1,\n",
        "                                    fill_mode = 'reflect',\n",
        "                                    width_shift_range = 0.1,\n",
        "                                    height_shift_range = 0.1)\n",
        "test_datagen = ImageDataGenerator(rescale=1./255)\n",
        "\n",
        "# Applying image data gernerator to train and test data\n",
        "\n",
        "# print(\"all entities path : \", all_entities_path)\n",
        "# print (\"X_train head: \", X_train.head())\n",
        "# print (\"X_val head: \", X_val.head())\n",
        "# print (\"X_test head: \", X_test.head())\n",
        "\n",
        "train_generator = train_datagen.flow_from_dataframe(X_train,\n",
        "                                                directory = ready_data_path ,\n",
        "                                                x_col= 'filename',\n",
        "                                                y_col= 'label',\n",
        "                                                batch_size = bat_size,\n",
        "                                                target_size = (image_size,image_size),\n",
        "                                                class_mode='categorical')\n",
        "# print(\"tain generator indicise : \" ,train_generator.class_indices)\n",
        "# print(\"corrupted files : \", corrupted_file_paths)\n",
        "val_generator = test_datagen.flow_from_dataframe(X_val,\n",
        "                                                directory = ready_data_path ,\n",
        "                                                x_col= 'filename',\n",
        "                                                y_col= 'label',\n",
        "                                                batch_size = bat_size,\n",
        "                                                target_size = (image_size,image_size),\n",
        "                                                shuffle=False,\n",
        "                                                class_mode='categorical')\n",
        "\n",
        "test_generator = test_datagen.flow_from_dataframe(X_test,\n",
        "                                                directory = ready_data_path ,\n",
        "                                                x_col= 'filename',\n",
        "                                                y_col= 'label',\n",
        "                                                batch_size = bat_size,\n",
        "                                                target_size = (image_size,image_size),\n",
        "                                                shuffle=False,\n",
        "                                                class_mode='categorical')\n",
        "\n",
        "print(\"Creating Image Data Generator done\")\n",
        "\n",
        "# endregion\n",
        "\n"
      ]
    },
    {
      "cell_type": "code",
      "execution_count": 10,
      "metadata": {
        "id": "Fm1hLn5HOZt_"
      },
      "outputs": [
        {
          "name": "stdout",
          "output_type": "stream",
          "text": [
            "WARNING:tensorflow:From c:\\Users\\Dell\\Desktop\\Bachelor\\dogs-vs-cats\\env\\Lib\\site-packages\\keras\\src\\backend.py:873: The name tf.get_default_graph is deprecated. Please use tf.compat.v1.get_default_graph instead.\n",
            "\n",
            "WARNING:tensorflow:From c:\\Users\\Dell\\Desktop\\Bachelor\\dogs-vs-cats\\env\\Lib\\site-packages\\keras\\src\\layers\\normalization\\batch_normalization.py:979: The name tf.nn.fused_batch_norm is deprecated. Please use tf.compat.v1.nn.fused_batch_norm instead.\n",
            "\n",
            "Deep Learning Model done\n"
          ]
        }
      ],
      "source": [
        "# 4 --------------------------------------------------------- Deep Learning Model\n",
        "# region\n",
        "# @title 4 - Deep Learning Model { display-mode: \"form\" }\n",
        "\n",
        "model = Sequential()\n",
        "\n",
        "# Input Layer\n",
        "model.add(Conv2D(32,(3,3),activation='relu',input_shape = (image_size,image_size,image_channel)))\n",
        "model.add(BatchNormalization())\n",
        "model.add(MaxPooling2D(pool_size=(2,2)))\n",
        "model.add(Dropout(0.2))\n",
        "\n",
        "# Bloack 1\n",
        "model.add(Conv2D(64,(3,3),activation='relu'))\n",
        "model.add(BatchNormalization())\n",
        "model.add(MaxPooling2D(pool_size=(2,2)))\n",
        "model.add(Dropout(0.2))\n",
        "# Block 2\n",
        "model.add(Conv2D(128,(3,3),activation='relu'))\n",
        "model.add(BatchNormalization())\n",
        "model.add(MaxPooling2D(pool_size=(2,2)))\n",
        "model.add(Dropout(0.2))\n",
        "# Block 3\n",
        "model.add(Conv2D(256,(3,3),activation='relu'))\n",
        "model.add(BatchNormalization())\n",
        "model.add(MaxPooling2D(pool_size=(2,2)))\n",
        "model.add(Dropout(0.2))\n",
        "\n",
        "# Fully Connected layers\n",
        "model.add(Flatten())\n",
        "model.add(Dense(512,activation='relu'))\n",
        "model.add(BatchNormalization())\n",
        "model.add(Dropout(0.2))\n",
        "\n",
        "# Output layer\n",
        "# get the number of classes\n",
        "num_classes = len(train_generator.class_indices)\n",
        "model.add(Dense(num_classes,activation='softmax'))\n",
        "# model.summary()\n",
        "\n",
        "print(\"Deep Learning Model done\")\n",
        "\n",
        "# endregion\n",
        "\n"
      ]
    },
    {
      "cell_type": "code",
      "execution_count": 11,
      "metadata": {
        "id": "TyQcgdqMOguE"
      },
      "outputs": [
        {
          "name": "stdout",
          "output_type": "stream",
          "text": [
            "Callbacks done\n"
          ]
        }
      ],
      "source": [
        "# 5 --------------------------------------------------------- Callbacks\n",
        "# region\n",
        "# @title 5 - Callbacks { display-mode: \"form\" }\n",
        "learning_rate_reduction = ReduceLROnPlateau(monitor = 'val_accuracy',\n",
        "                                            patience=2,\n",
        "                                            factor=0.5,\n",
        "                                            min_lr = 0.00001,\n",
        "                                            verbose = 1)\n",
        "\n",
        "early_stoping = EarlyStopping(monitor='val_loss',patience= 3,restore_best_weights=True,verbose=0)\n",
        "\n",
        "print(\"Callbacks done\")\n",
        "\n",
        "# endregion\n"
      ]
    },
    {
      "cell_type": "code",
      "execution_count": 12,
      "metadata": {
        "id": "wAPVKdDFOiAM"
      },
      "outputs": [
        {
          "name": "stdout",
          "output_type": "stream",
          "text": [
            "WARNING:tensorflow:From c:\\Users\\Dell\\Desktop\\Bachelor\\dogs-vs-cats\\env\\Lib\\site-packages\\keras\\src\\optimizers\\__init__.py:309: The name tf.train.Optimizer is deprecated. Please use tf.compat.v1.train.Optimizer instead.\n",
            "\n",
            "Model Compilation done\n"
          ]
        }
      ],
      "source": [
        "# 6 --------------------------------------------------------- Model Compilation\n",
        "# region\n",
        "# @title 6 - Model Compilation { display-mode: \"form\" }\n",
        "\n",
        "model.compile(optimizer = 'adam',loss = 'categorical_crossentropy',metrics = ['accuracy'])\n",
        "\n",
        "print(\"Model Compilation done\")\n",
        "\n",
        "# endregion\n",
        "\n",
        "#"
      ]
    },
    {
      "cell_type": "code",
      "execution_count": 13,
      "metadata": {
        "colab": {
          "base_uri": "https://localhost:8080/"
        },
        "id": "FDbqrio3OjWh",
        "outputId": "7b04d037-eeb6-44a3-f65b-73c7bfb4d85c"
      },
      "outputs": [
        {
          "name": "stdout",
          "output_type": "stream",
          "text": [
            "x_train length:  19997\n",
            "x_test length:  2500\n",
            "batch size:  32\n",
            "steps_per_epoch:  19997  //  32  =  624\n",
            "validation_steps:  2500  //  32  =  78\n",
            "Epoch 1/100\n",
            "WARNING:tensorflow:From c:\\Users\\Dell\\Desktop\\Bachelor\\dogs-vs-cats\\env\\Lib\\site-packages\\keras\\src\\utils\\tf_utils.py:492: The name tf.ragged.RaggedTensorValue is deprecated. Please use tf.compat.v1.ragged.RaggedTensorValue instead.\n",
            "\n",
            "WARNING:tensorflow:From c:\\Users\\Dell\\Desktop\\Bachelor\\dogs-vs-cats\\env\\Lib\\site-packages\\keras\\src\\engine\\base_layer_utils.py:384: The name tf.executing_eagerly_outside_functions is deprecated. Please use tf.compat.v1.executing_eagerly_outside_functions instead.\n",
            "\n",
            "222/624 [=========>....................] - ETA: 3:30 - loss: 0.8531 - accuracy: 0.6095"
          ]
        },
        {
          "ename": "KeyboardInterrupt",
          "evalue": "",
          "output_type": "error",
          "traceback": [
            "\u001b[1;31m---------------------------------------------------------------------------\u001b[0m",
            "\u001b[1;31mKeyboardInterrupt\u001b[0m                         Traceback (most recent call last)",
            "Cell \u001b[1;32mIn[13], line 10\u001b[0m\n\u001b[0;32m      8\u001b[0m \u001b[38;5;28mprint\u001b[39m(\u001b[38;5;124m\"\u001b[39m\u001b[38;5;124msteps_per_epoch: \u001b[39m\u001b[38;5;124m\"\u001b[39m,\u001b[38;5;28mlen\u001b[39m(X_train) , \u001b[38;5;124m\"\u001b[39m\u001b[38;5;124m // \u001b[39m\u001b[38;5;124m\"\u001b[39m , bat_size , \u001b[38;5;124m\"\u001b[39m\u001b[38;5;124m = \u001b[39m\u001b[38;5;124m\"\u001b[39m , \u001b[38;5;28mlen\u001b[39m(X_train) \u001b[38;5;241m/\u001b[39m\u001b[38;5;241m/\u001b[39m bat_size)\n\u001b[0;32m      9\u001b[0m \u001b[38;5;28mprint\u001b[39m(\u001b[38;5;124m\"\u001b[39m\u001b[38;5;124mvalidation_steps: \u001b[39m\u001b[38;5;124m\"\u001b[39m,\u001b[38;5;28mlen\u001b[39m(X_test) , \u001b[38;5;124m\"\u001b[39m\u001b[38;5;124m // \u001b[39m\u001b[38;5;124m\"\u001b[39m , bat_size , \u001b[38;5;124m\"\u001b[39m\u001b[38;5;124m = \u001b[39m\u001b[38;5;124m\"\u001b[39m , \u001b[38;5;28mlen\u001b[39m(X_test) \u001b[38;5;241m/\u001b[39m\u001b[38;5;241m/\u001b[39m bat_size)\n\u001b[1;32m---> 10\u001b[0m cat_dog \u001b[38;5;241m=\u001b[39m \u001b[43mmodel\u001b[49m\u001b[38;5;241;43m.\u001b[39;49m\u001b[43mfit\u001b[49m\u001b[43m(\u001b[49m\u001b[43mtrain_generator\u001b[49m\u001b[43m,\u001b[49m\n\u001b[0;32m     11\u001b[0m \u001b[43m                    \u001b[49m\u001b[43mvalidation_data\u001b[49m\u001b[43m \u001b[49m\u001b[38;5;241;43m=\u001b[39;49m\u001b[43m \u001b[49m\u001b[43mval_generator\u001b[49m\u001b[43m,\u001b[49m\n\u001b[0;32m     12\u001b[0m \u001b[43m                    \u001b[49m\u001b[43mcallbacks\u001b[49m\u001b[38;5;241;43m=\u001b[39;49m\u001b[43m[\u001b[49m\u001b[43mearly_stoping\u001b[49m\u001b[43m,\u001b[49m\u001b[43mlearning_rate_reduction\u001b[49m\u001b[43m]\u001b[49m\u001b[43m,\u001b[49m\n\u001b[0;32m     13\u001b[0m \u001b[43m                    \u001b[49m\u001b[43mepochs\u001b[49m\u001b[43m \u001b[49m\u001b[38;5;241;43m=\u001b[39;49m\u001b[43m \u001b[49m\u001b[43mEPOCHS\u001b[49m\u001b[43m,\u001b[49m\n\u001b[0;32m     14\u001b[0m \u001b[43m                    \u001b[49m\u001b[38;5;66;43;03m# data generator must generate at least steps_per_epochs * epochs batches\u001b[39;49;00m\n\u001b[0;32m     15\u001b[0m \n\u001b[0;32m     16\u001b[0m \u001b[43m                    \u001b[49m\u001b[43msteps_per_epoch\u001b[49m\u001b[43m \u001b[49m\u001b[38;5;241;43m=\u001b[39;49m\u001b[43m \u001b[49m\u001b[38;5;28;43mlen\u001b[39;49m\u001b[43m(\u001b[49m\u001b[43mX_train\u001b[49m\u001b[43m)\u001b[49m\u001b[43m \u001b[49m\u001b[38;5;241;43m/\u001b[39;49m\u001b[38;5;241;43m/\u001b[39;49m\u001b[43m \u001b[49m\u001b[43mbat_size\u001b[49m\u001b[43m,\u001b[49m\n\u001b[0;32m     17\u001b[0m \u001b[43m                    \u001b[49m\u001b[43mvalidation_steps\u001b[49m\u001b[43m \u001b[49m\u001b[38;5;241;43m=\u001b[39;49m\u001b[43m \u001b[49m\u001b[38;5;28;43mlen\u001b[39;49m\u001b[43m(\u001b[49m\u001b[43mX_test\u001b[49m\u001b[43m)\u001b[49m\u001b[43m \u001b[49m\u001b[38;5;241;43m/\u001b[39;49m\u001b[38;5;241;43m/\u001b[39;49m\u001b[43m \u001b[49m\u001b[43mbat_size\u001b[49m\u001b[43m,\u001b[49m\n\u001b[0;32m     18\u001b[0m \u001b[43m                   \u001b[49m\u001b[43m)\u001b[49m\n\u001b[0;32m     20\u001b[0m \u001b[38;5;28mprint\u001b[39m(\u001b[38;5;124m\"\u001b[39m\u001b[38;5;124mModel Fitting done\u001b[39m\u001b[38;5;124m\"\u001b[39m)\n\u001b[0;32m     21\u001b[0m \u001b[38;5;66;03m# endregion\u001b[39;00m\n\u001b[0;32m     22\u001b[0m \n\u001b[0;32m     23\u001b[0m \u001b[38;5;66;03m#\u001b[39;00m\n",
            "File \u001b[1;32mc:\\Users\\Dell\\Desktop\\Bachelor\\dogs-vs-cats\\env\\Lib\\site-packages\\keras\\src\\utils\\traceback_utils.py:65\u001b[0m, in \u001b[0;36mfilter_traceback.<locals>.error_handler\u001b[1;34m(*args, **kwargs)\u001b[0m\n\u001b[0;32m     63\u001b[0m filtered_tb \u001b[38;5;241m=\u001b[39m \u001b[38;5;28;01mNone\u001b[39;00m\n\u001b[0;32m     64\u001b[0m \u001b[38;5;28;01mtry\u001b[39;00m:\n\u001b[1;32m---> 65\u001b[0m     \u001b[38;5;28;01mreturn\u001b[39;00m \u001b[43mfn\u001b[49m\u001b[43m(\u001b[49m\u001b[38;5;241;43m*\u001b[39;49m\u001b[43margs\u001b[49m\u001b[43m,\u001b[49m\u001b[43m \u001b[49m\u001b[38;5;241;43m*\u001b[39;49m\u001b[38;5;241;43m*\u001b[39;49m\u001b[43mkwargs\u001b[49m\u001b[43m)\u001b[49m\n\u001b[0;32m     66\u001b[0m \u001b[38;5;28;01mexcept\u001b[39;00m \u001b[38;5;167;01mException\u001b[39;00m \u001b[38;5;28;01mas\u001b[39;00m e:\n\u001b[0;32m     67\u001b[0m     filtered_tb \u001b[38;5;241m=\u001b[39m _process_traceback_frames(e\u001b[38;5;241m.\u001b[39m__traceback__)\n",
            "File \u001b[1;32mc:\\Users\\Dell\\Desktop\\Bachelor\\dogs-vs-cats\\env\\Lib\\site-packages\\keras\\src\\engine\\training.py:1807\u001b[0m, in \u001b[0;36mModel.fit\u001b[1;34m(self, x, y, batch_size, epochs, verbose, callbacks, validation_split, validation_data, shuffle, class_weight, sample_weight, initial_epoch, steps_per_epoch, validation_steps, validation_batch_size, validation_freq, max_queue_size, workers, use_multiprocessing)\u001b[0m\n\u001b[0;32m   1799\u001b[0m \u001b[38;5;28;01mwith\u001b[39;00m tf\u001b[38;5;241m.\u001b[39mprofiler\u001b[38;5;241m.\u001b[39mexperimental\u001b[38;5;241m.\u001b[39mTrace(\n\u001b[0;32m   1800\u001b[0m     \u001b[38;5;124m\"\u001b[39m\u001b[38;5;124mtrain\u001b[39m\u001b[38;5;124m\"\u001b[39m,\n\u001b[0;32m   1801\u001b[0m     epoch_num\u001b[38;5;241m=\u001b[39mepoch,\n\u001b[1;32m   (...)\u001b[0m\n\u001b[0;32m   1804\u001b[0m     _r\u001b[38;5;241m=\u001b[39m\u001b[38;5;241m1\u001b[39m,\n\u001b[0;32m   1805\u001b[0m ):\n\u001b[0;32m   1806\u001b[0m     callbacks\u001b[38;5;241m.\u001b[39mon_train_batch_begin(step)\n\u001b[1;32m-> 1807\u001b[0m     tmp_logs \u001b[38;5;241m=\u001b[39m \u001b[38;5;28;43mself\u001b[39;49m\u001b[38;5;241;43m.\u001b[39;49m\u001b[43mtrain_function\u001b[49m\u001b[43m(\u001b[49m\u001b[43miterator\u001b[49m\u001b[43m)\u001b[49m\n\u001b[0;32m   1808\u001b[0m     \u001b[38;5;28;01mif\u001b[39;00m data_handler\u001b[38;5;241m.\u001b[39mshould_sync:\n\u001b[0;32m   1809\u001b[0m         context\u001b[38;5;241m.\u001b[39masync_wait()\n",
            "File \u001b[1;32mc:\\Users\\Dell\\Desktop\\Bachelor\\dogs-vs-cats\\env\\Lib\\site-packages\\tensorflow\\python\\util\\traceback_utils.py:150\u001b[0m, in \u001b[0;36mfilter_traceback.<locals>.error_handler\u001b[1;34m(*args, **kwargs)\u001b[0m\n\u001b[0;32m    148\u001b[0m filtered_tb \u001b[38;5;241m=\u001b[39m \u001b[38;5;28;01mNone\u001b[39;00m\n\u001b[0;32m    149\u001b[0m \u001b[38;5;28;01mtry\u001b[39;00m:\n\u001b[1;32m--> 150\u001b[0m   \u001b[38;5;28;01mreturn\u001b[39;00m \u001b[43mfn\u001b[49m\u001b[43m(\u001b[49m\u001b[38;5;241;43m*\u001b[39;49m\u001b[43margs\u001b[49m\u001b[43m,\u001b[49m\u001b[43m \u001b[49m\u001b[38;5;241;43m*\u001b[39;49m\u001b[38;5;241;43m*\u001b[39;49m\u001b[43mkwargs\u001b[49m\u001b[43m)\u001b[49m\n\u001b[0;32m    151\u001b[0m \u001b[38;5;28;01mexcept\u001b[39;00m \u001b[38;5;167;01mException\u001b[39;00m \u001b[38;5;28;01mas\u001b[39;00m e:\n\u001b[0;32m    152\u001b[0m   filtered_tb \u001b[38;5;241m=\u001b[39m _process_traceback_frames(e\u001b[38;5;241m.\u001b[39m__traceback__)\n",
            "File \u001b[1;32mc:\\Users\\Dell\\Desktop\\Bachelor\\dogs-vs-cats\\env\\Lib\\site-packages\\tensorflow\\python\\eager\\polymorphic_function\\polymorphic_function.py:832\u001b[0m, in \u001b[0;36mFunction.__call__\u001b[1;34m(self, *args, **kwds)\u001b[0m\n\u001b[0;32m    829\u001b[0m compiler \u001b[38;5;241m=\u001b[39m \u001b[38;5;124m\"\u001b[39m\u001b[38;5;124mxla\u001b[39m\u001b[38;5;124m\"\u001b[39m \u001b[38;5;28;01mif\u001b[39;00m \u001b[38;5;28mself\u001b[39m\u001b[38;5;241m.\u001b[39m_jit_compile \u001b[38;5;28;01melse\u001b[39;00m \u001b[38;5;124m\"\u001b[39m\u001b[38;5;124mnonXla\u001b[39m\u001b[38;5;124m\"\u001b[39m\n\u001b[0;32m    831\u001b[0m \u001b[38;5;28;01mwith\u001b[39;00m OptionalXlaContext(\u001b[38;5;28mself\u001b[39m\u001b[38;5;241m.\u001b[39m_jit_compile):\n\u001b[1;32m--> 832\u001b[0m   result \u001b[38;5;241m=\u001b[39m \u001b[38;5;28;43mself\u001b[39;49m\u001b[38;5;241;43m.\u001b[39;49m\u001b[43m_call\u001b[49m\u001b[43m(\u001b[49m\u001b[38;5;241;43m*\u001b[39;49m\u001b[43margs\u001b[49m\u001b[43m,\u001b[49m\u001b[43m \u001b[49m\u001b[38;5;241;43m*\u001b[39;49m\u001b[38;5;241;43m*\u001b[39;49m\u001b[43mkwds\u001b[49m\u001b[43m)\u001b[49m\n\u001b[0;32m    834\u001b[0m new_tracing_count \u001b[38;5;241m=\u001b[39m \u001b[38;5;28mself\u001b[39m\u001b[38;5;241m.\u001b[39mexperimental_get_tracing_count()\n\u001b[0;32m    835\u001b[0m without_tracing \u001b[38;5;241m=\u001b[39m (tracing_count \u001b[38;5;241m==\u001b[39m new_tracing_count)\n",
            "File \u001b[1;32mc:\\Users\\Dell\\Desktop\\Bachelor\\dogs-vs-cats\\env\\Lib\\site-packages\\tensorflow\\python\\eager\\polymorphic_function\\polymorphic_function.py:868\u001b[0m, in \u001b[0;36mFunction._call\u001b[1;34m(self, *args, **kwds)\u001b[0m\n\u001b[0;32m    865\u001b[0m   \u001b[38;5;28mself\u001b[39m\u001b[38;5;241m.\u001b[39m_lock\u001b[38;5;241m.\u001b[39mrelease()\n\u001b[0;32m    866\u001b[0m   \u001b[38;5;66;03m# In this case we have created variables on the first call, so we run the\u001b[39;00m\n\u001b[0;32m    867\u001b[0m   \u001b[38;5;66;03m# defunned version which is guaranteed to never create variables.\u001b[39;00m\n\u001b[1;32m--> 868\u001b[0m   \u001b[38;5;28;01mreturn\u001b[39;00m \u001b[43mtracing_compilation\u001b[49m\u001b[38;5;241;43m.\u001b[39;49m\u001b[43mcall_function\u001b[49m\u001b[43m(\u001b[49m\n\u001b[0;32m    869\u001b[0m \u001b[43m      \u001b[49m\u001b[43margs\u001b[49m\u001b[43m,\u001b[49m\u001b[43m \u001b[49m\u001b[43mkwds\u001b[49m\u001b[43m,\u001b[49m\u001b[43m \u001b[49m\u001b[38;5;28;43mself\u001b[39;49m\u001b[38;5;241;43m.\u001b[39;49m\u001b[43m_no_variable_creation_config\u001b[49m\n\u001b[0;32m    870\u001b[0m \u001b[43m  \u001b[49m\u001b[43m)\u001b[49m\n\u001b[0;32m    871\u001b[0m \u001b[38;5;28;01melif\u001b[39;00m \u001b[38;5;28mself\u001b[39m\u001b[38;5;241m.\u001b[39m_variable_creation_config \u001b[38;5;129;01mis\u001b[39;00m \u001b[38;5;129;01mnot\u001b[39;00m \u001b[38;5;28;01mNone\u001b[39;00m:\n\u001b[0;32m    872\u001b[0m   \u001b[38;5;66;03m# Release the lock early so that multiple threads can perform the call\u001b[39;00m\n\u001b[0;32m    873\u001b[0m   \u001b[38;5;66;03m# in parallel.\u001b[39;00m\n\u001b[0;32m    874\u001b[0m   \u001b[38;5;28mself\u001b[39m\u001b[38;5;241m.\u001b[39m_lock\u001b[38;5;241m.\u001b[39mrelease()\n",
            "File \u001b[1;32mc:\\Users\\Dell\\Desktop\\Bachelor\\dogs-vs-cats\\env\\Lib\\site-packages\\tensorflow\\python\\eager\\polymorphic_function\\tracing_compilation.py:139\u001b[0m, in \u001b[0;36mcall_function\u001b[1;34m(args, kwargs, tracing_options)\u001b[0m\n\u001b[0;32m    137\u001b[0m bound_args \u001b[38;5;241m=\u001b[39m function\u001b[38;5;241m.\u001b[39mfunction_type\u001b[38;5;241m.\u001b[39mbind(\u001b[38;5;241m*\u001b[39margs, \u001b[38;5;241m*\u001b[39m\u001b[38;5;241m*\u001b[39mkwargs)\n\u001b[0;32m    138\u001b[0m flat_inputs \u001b[38;5;241m=\u001b[39m function\u001b[38;5;241m.\u001b[39mfunction_type\u001b[38;5;241m.\u001b[39munpack_inputs(bound_args)\n\u001b[1;32m--> 139\u001b[0m \u001b[38;5;28;01mreturn\u001b[39;00m \u001b[43mfunction\u001b[49m\u001b[38;5;241;43m.\u001b[39;49m\u001b[43m_call_flat\u001b[49m\u001b[43m(\u001b[49m\u001b[43m  \u001b[49m\u001b[38;5;66;43;03m# pylint: disable=protected-access\u001b[39;49;00m\n\u001b[0;32m    140\u001b[0m \u001b[43m    \u001b[49m\u001b[43mflat_inputs\u001b[49m\u001b[43m,\u001b[49m\u001b[43m \u001b[49m\u001b[43mcaptured_inputs\u001b[49m\u001b[38;5;241;43m=\u001b[39;49m\u001b[43mfunction\u001b[49m\u001b[38;5;241;43m.\u001b[39;49m\u001b[43mcaptured_inputs\u001b[49m\n\u001b[0;32m    141\u001b[0m \u001b[43m\u001b[49m\u001b[43m)\u001b[49m\n",
            "File \u001b[1;32mc:\\Users\\Dell\\Desktop\\Bachelor\\dogs-vs-cats\\env\\Lib\\site-packages\\tensorflow\\python\\eager\\polymorphic_function\\concrete_function.py:1323\u001b[0m, in \u001b[0;36mConcreteFunction._call_flat\u001b[1;34m(self, tensor_inputs, captured_inputs)\u001b[0m\n\u001b[0;32m   1319\u001b[0m possible_gradient_type \u001b[38;5;241m=\u001b[39m gradients_util\u001b[38;5;241m.\u001b[39mPossibleTapeGradientTypes(args)\n\u001b[0;32m   1320\u001b[0m \u001b[38;5;28;01mif\u001b[39;00m (possible_gradient_type \u001b[38;5;241m==\u001b[39m gradients_util\u001b[38;5;241m.\u001b[39mPOSSIBLE_GRADIENT_TYPES_NONE\n\u001b[0;32m   1321\u001b[0m     \u001b[38;5;129;01mand\u001b[39;00m executing_eagerly):\n\u001b[0;32m   1322\u001b[0m   \u001b[38;5;66;03m# No tape is watching; skip to running the function.\u001b[39;00m\n\u001b[1;32m-> 1323\u001b[0m   \u001b[38;5;28;01mreturn\u001b[39;00m \u001b[38;5;28;43mself\u001b[39;49m\u001b[38;5;241;43m.\u001b[39;49m\u001b[43m_inference_function\u001b[49m\u001b[38;5;241;43m.\u001b[39;49m\u001b[43mcall_preflattened\u001b[49m\u001b[43m(\u001b[49m\u001b[43margs\u001b[49m\u001b[43m)\u001b[49m\n\u001b[0;32m   1324\u001b[0m forward_backward \u001b[38;5;241m=\u001b[39m \u001b[38;5;28mself\u001b[39m\u001b[38;5;241m.\u001b[39m_select_forward_and_backward_functions(\n\u001b[0;32m   1325\u001b[0m     args,\n\u001b[0;32m   1326\u001b[0m     possible_gradient_type,\n\u001b[0;32m   1327\u001b[0m     executing_eagerly)\n\u001b[0;32m   1328\u001b[0m forward_function, args_with_tangents \u001b[38;5;241m=\u001b[39m forward_backward\u001b[38;5;241m.\u001b[39mforward()\n",
            "File \u001b[1;32mc:\\Users\\Dell\\Desktop\\Bachelor\\dogs-vs-cats\\env\\Lib\\site-packages\\tensorflow\\python\\eager\\polymorphic_function\\atomic_function.py:216\u001b[0m, in \u001b[0;36mAtomicFunction.call_preflattened\u001b[1;34m(self, args)\u001b[0m\n\u001b[0;32m    214\u001b[0m \u001b[38;5;28;01mdef\u001b[39;00m \u001b[38;5;21mcall_preflattened\u001b[39m(\u001b[38;5;28mself\u001b[39m, args: Sequence[core\u001b[38;5;241m.\u001b[39mTensor]) \u001b[38;5;241m-\u001b[39m\u001b[38;5;241m>\u001b[39m Any:\n\u001b[0;32m    215\u001b[0m \u001b[38;5;250m  \u001b[39m\u001b[38;5;124;03m\"\"\"Calls with flattened tensor inputs and returns the structured output.\"\"\"\u001b[39;00m\n\u001b[1;32m--> 216\u001b[0m   flat_outputs \u001b[38;5;241m=\u001b[39m \u001b[38;5;28;43mself\u001b[39;49m\u001b[38;5;241;43m.\u001b[39;49m\u001b[43mcall_flat\u001b[49m\u001b[43m(\u001b[49m\u001b[38;5;241;43m*\u001b[39;49m\u001b[43margs\u001b[49m\u001b[43m)\u001b[49m\n\u001b[0;32m    217\u001b[0m   \u001b[38;5;28;01mreturn\u001b[39;00m \u001b[38;5;28mself\u001b[39m\u001b[38;5;241m.\u001b[39mfunction_type\u001b[38;5;241m.\u001b[39mpack_output(flat_outputs)\n",
            "File \u001b[1;32mc:\\Users\\Dell\\Desktop\\Bachelor\\dogs-vs-cats\\env\\Lib\\site-packages\\tensorflow\\python\\eager\\polymorphic_function\\atomic_function.py:251\u001b[0m, in \u001b[0;36mAtomicFunction.call_flat\u001b[1;34m(self, *args)\u001b[0m\n\u001b[0;32m    249\u001b[0m \u001b[38;5;28;01mwith\u001b[39;00m record\u001b[38;5;241m.\u001b[39mstop_recording():\n\u001b[0;32m    250\u001b[0m   \u001b[38;5;28;01mif\u001b[39;00m \u001b[38;5;28mself\u001b[39m\u001b[38;5;241m.\u001b[39m_bound_context\u001b[38;5;241m.\u001b[39mexecuting_eagerly():\n\u001b[1;32m--> 251\u001b[0m     outputs \u001b[38;5;241m=\u001b[39m \u001b[38;5;28;43mself\u001b[39;49m\u001b[38;5;241;43m.\u001b[39;49m\u001b[43m_bound_context\u001b[49m\u001b[38;5;241;43m.\u001b[39;49m\u001b[43mcall_function\u001b[49m\u001b[43m(\u001b[49m\n\u001b[0;32m    252\u001b[0m \u001b[43m        \u001b[49m\u001b[38;5;28;43mself\u001b[39;49m\u001b[38;5;241;43m.\u001b[39;49m\u001b[43mname\u001b[49m\u001b[43m,\u001b[49m\n\u001b[0;32m    253\u001b[0m \u001b[43m        \u001b[49m\u001b[38;5;28;43mlist\u001b[39;49m\u001b[43m(\u001b[49m\u001b[43margs\u001b[49m\u001b[43m)\u001b[49m\u001b[43m,\u001b[49m\n\u001b[0;32m    254\u001b[0m \u001b[43m        \u001b[49m\u001b[38;5;28;43mlen\u001b[39;49m\u001b[43m(\u001b[49m\u001b[38;5;28;43mself\u001b[39;49m\u001b[38;5;241;43m.\u001b[39;49m\u001b[43mfunction_type\u001b[49m\u001b[38;5;241;43m.\u001b[39;49m\u001b[43mflat_outputs\u001b[49m\u001b[43m)\u001b[49m\u001b[43m,\u001b[49m\n\u001b[0;32m    255\u001b[0m \u001b[43m    \u001b[49m\u001b[43m)\u001b[49m\n\u001b[0;32m    256\u001b[0m   \u001b[38;5;28;01melse\u001b[39;00m:\n\u001b[0;32m    257\u001b[0m     outputs \u001b[38;5;241m=\u001b[39m make_call_op_in_graph(\n\u001b[0;32m    258\u001b[0m         \u001b[38;5;28mself\u001b[39m,\n\u001b[0;32m    259\u001b[0m         \u001b[38;5;28mlist\u001b[39m(args),\n\u001b[0;32m    260\u001b[0m         \u001b[38;5;28mself\u001b[39m\u001b[38;5;241m.\u001b[39m_bound_context\u001b[38;5;241m.\u001b[39mfunction_call_options\u001b[38;5;241m.\u001b[39mas_attrs(),\n\u001b[0;32m    261\u001b[0m     )\n",
            "File \u001b[1;32mc:\\Users\\Dell\\Desktop\\Bachelor\\dogs-vs-cats\\env\\Lib\\site-packages\\tensorflow\\python\\eager\\context.py:1486\u001b[0m, in \u001b[0;36mContext.call_function\u001b[1;34m(self, name, tensor_inputs, num_outputs)\u001b[0m\n\u001b[0;32m   1484\u001b[0m cancellation_context \u001b[38;5;241m=\u001b[39m cancellation\u001b[38;5;241m.\u001b[39mcontext()\n\u001b[0;32m   1485\u001b[0m \u001b[38;5;28;01mif\u001b[39;00m cancellation_context \u001b[38;5;129;01mis\u001b[39;00m \u001b[38;5;28;01mNone\u001b[39;00m:\n\u001b[1;32m-> 1486\u001b[0m   outputs \u001b[38;5;241m=\u001b[39m \u001b[43mexecute\u001b[49m\u001b[38;5;241;43m.\u001b[39;49m\u001b[43mexecute\u001b[49m\u001b[43m(\u001b[49m\n\u001b[0;32m   1487\u001b[0m \u001b[43m      \u001b[49m\u001b[43mname\u001b[49m\u001b[38;5;241;43m.\u001b[39;49m\u001b[43mdecode\u001b[49m\u001b[43m(\u001b[49m\u001b[38;5;124;43m\"\u001b[39;49m\u001b[38;5;124;43mutf-8\u001b[39;49m\u001b[38;5;124;43m\"\u001b[39;49m\u001b[43m)\u001b[49m\u001b[43m,\u001b[49m\n\u001b[0;32m   1488\u001b[0m \u001b[43m      \u001b[49m\u001b[43mnum_outputs\u001b[49m\u001b[38;5;241;43m=\u001b[39;49m\u001b[43mnum_outputs\u001b[49m\u001b[43m,\u001b[49m\n\u001b[0;32m   1489\u001b[0m \u001b[43m      \u001b[49m\u001b[43minputs\u001b[49m\u001b[38;5;241;43m=\u001b[39;49m\u001b[43mtensor_inputs\u001b[49m\u001b[43m,\u001b[49m\n\u001b[0;32m   1490\u001b[0m \u001b[43m      \u001b[49m\u001b[43mattrs\u001b[49m\u001b[38;5;241;43m=\u001b[39;49m\u001b[43mattrs\u001b[49m\u001b[43m,\u001b[49m\n\u001b[0;32m   1491\u001b[0m \u001b[43m      \u001b[49m\u001b[43mctx\u001b[49m\u001b[38;5;241;43m=\u001b[39;49m\u001b[38;5;28;43mself\u001b[39;49m\u001b[43m,\u001b[49m\n\u001b[0;32m   1492\u001b[0m \u001b[43m  \u001b[49m\u001b[43m)\u001b[49m\n\u001b[0;32m   1493\u001b[0m \u001b[38;5;28;01melse\u001b[39;00m:\n\u001b[0;32m   1494\u001b[0m   outputs \u001b[38;5;241m=\u001b[39m execute\u001b[38;5;241m.\u001b[39mexecute_with_cancellation(\n\u001b[0;32m   1495\u001b[0m       name\u001b[38;5;241m.\u001b[39mdecode(\u001b[38;5;124m\"\u001b[39m\u001b[38;5;124mutf-8\u001b[39m\u001b[38;5;124m\"\u001b[39m),\n\u001b[0;32m   1496\u001b[0m       num_outputs\u001b[38;5;241m=\u001b[39mnum_outputs,\n\u001b[1;32m   (...)\u001b[0m\n\u001b[0;32m   1500\u001b[0m       cancellation_manager\u001b[38;5;241m=\u001b[39mcancellation_context,\n\u001b[0;32m   1501\u001b[0m   )\n",
            "File \u001b[1;32mc:\\Users\\Dell\\Desktop\\Bachelor\\dogs-vs-cats\\env\\Lib\\site-packages\\tensorflow\\python\\eager\\execute.py:53\u001b[0m, in \u001b[0;36mquick_execute\u001b[1;34m(op_name, num_outputs, inputs, attrs, ctx, name)\u001b[0m\n\u001b[0;32m     51\u001b[0m \u001b[38;5;28;01mtry\u001b[39;00m:\n\u001b[0;32m     52\u001b[0m   ctx\u001b[38;5;241m.\u001b[39mensure_initialized()\n\u001b[1;32m---> 53\u001b[0m   tensors \u001b[38;5;241m=\u001b[39m \u001b[43mpywrap_tfe\u001b[49m\u001b[38;5;241;43m.\u001b[39;49m\u001b[43mTFE_Py_Execute\u001b[49m\u001b[43m(\u001b[49m\u001b[43mctx\u001b[49m\u001b[38;5;241;43m.\u001b[39;49m\u001b[43m_handle\u001b[49m\u001b[43m,\u001b[49m\u001b[43m \u001b[49m\u001b[43mdevice_name\u001b[49m\u001b[43m,\u001b[49m\u001b[43m \u001b[49m\u001b[43mop_name\u001b[49m\u001b[43m,\u001b[49m\n\u001b[0;32m     54\u001b[0m \u001b[43m                                      \u001b[49m\u001b[43minputs\u001b[49m\u001b[43m,\u001b[49m\u001b[43m \u001b[49m\u001b[43mattrs\u001b[49m\u001b[43m,\u001b[49m\u001b[43m \u001b[49m\u001b[43mnum_outputs\u001b[49m\u001b[43m)\u001b[49m\n\u001b[0;32m     55\u001b[0m \u001b[38;5;28;01mexcept\u001b[39;00m core\u001b[38;5;241m.\u001b[39m_NotOkStatusException \u001b[38;5;28;01mas\u001b[39;00m e:\n\u001b[0;32m     56\u001b[0m   \u001b[38;5;28;01mif\u001b[39;00m name \u001b[38;5;129;01mis\u001b[39;00m \u001b[38;5;129;01mnot\u001b[39;00m \u001b[38;5;28;01mNone\u001b[39;00m:\n",
            "\u001b[1;31mKeyboardInterrupt\u001b[0m: "
          ]
        }
      ],
      "source": [
        "# 7 --------------------------------------------------------- Model Fitting\n",
        "# region\n",
        "# @title 7 - Model Fitting { display-mode: \"form\" }\n",
        "\n",
        "print(\"number of samples in train generator: \", train_generator.samples)\n",
        "print(\"number of samples in test generator: \", test_generator.samples)\n",
        "print(\"batch size: \", bat_size)\n",
        "\n",
        "steps_per_epoch = train_generator.samples // train_generator.batch_size\n",
        "validation_steps = val_generator.samples // val_generator.batch_size\n",
        "\n",
        "print(\"steps_per_epoch: \", steps_per_epoch)\n",
        "print(\"validation_steps: \", validation_steps)\n",
        "\n",
        "cat_dog = model.fit(train_generator,\n",
        "                    validation_data = val_generator,\n",
        "                    callbacks=[early_stoping,learning_rate_reduction],\n",
        "                    epochs = EPOCHS,\n",
        "                    steps_per_epoch = steps_per_epoch,\n",
        "                    validation_steps = validation_steps,\n",
        "                   )\n",
        "\n",
        "print(\"Model Fitting done\")\n",
        "# endregion\n",
        "\n",
        "#"
      ]
    },
    {
      "cell_type": "code",
      "execution_count": null,
      "metadata": {
        "id": "g9VvirSWOk0v"
      },
      "outputs": [],
      "source": [
        "# 8 --------------------------------------------------------- Plot the results\n",
        "# region\n",
        "# @title 8 - Plot the results { display-mode: \"form\" }\n",
        "# plots for accuracy and Loss with epochs\n",
        "\n",
        "error = pd.DataFrame(cat_dog.history)\n",
        "\n",
        "plt.figure(figsize=(18,5),dpi=200)\n",
        "sns.set_style('darkgrid')\n",
        "\n",
        "plt.subplot(121)\n",
        "plt.title('Cross Entropy Loss',fontsize=15)\n",
        "plt.xlabel('Epochs',fontsize=12)\n",
        "plt.ylabel('Loss',fontsize=12)\n",
        "plt.plot(error['loss'])\n",
        "plt.plot(error['val_loss'])\n",
        "\n",
        "plt.subplot(122)\n",
        "plt.title('Classification Accuracy',fontsize=15)\n",
        "plt.xlabel('Epochs',fontsize=12)\n",
        "plt.ylabel('Accuracy',fontsize=12)\n",
        "plt.plot(error['accuracy'])\n",
        "plt.plot(error['val_accuracy'])\n",
        "\n",
        "plt.show(block=False)  # hosain : prevent the popup\n",
        "\n",
        "print(\"Plot the results done\")\n",
        "\n",
        "# endregion\n",
        "\n",
        "#"
      ]
    },
    {
      "cell_type": "code",
      "execution_count": null,
      "metadata": {
        "id": "VV3c2l1ROmpD"
      },
      "outputs": [],
      "source": [
        "# 9 --------------------------------------------------------- Evaluation\n",
        "# region\n",
        "# @title 9 - Evaluation { display-mode: \"form\" }\n",
        "# Evaluvate for train generator\n",
        "loss,acc = model.evaluate(train_generator,batch_size = bat_size, verbose = 0)\n",
        "\n",
        "print('The accuracy of the model for training data is:',acc*100)\n",
        "print('The Loss of the model for training data is:',loss)\n",
        "\n",
        "# Evaluvate for validation generator\n",
        "loss,acc = model.evaluate(val_generator,batch_size = bat_size, verbose = 0)\n",
        "\n",
        "print('The accuracy of the model for validation data is:',acc*100)\n",
        "print('The Loss of the model for validation data is:',loss)\n",
        "\n",
        "#  endregion\n",
        "\n",
        "#"
      ]
    },
    {
      "cell_type": "code",
      "execution_count": null,
      "metadata": {
        "id": "HRWnjhtoOoVd"
      },
      "outputs": [],
      "source": [
        "# 10 --------------------------------------------------------- save the model\n",
        "# region\n",
        "# @title 10 - save the model { display-mode: \"form\" }\n",
        "model.save(\"model.keras\")\n",
        "\n",
        "print(\"Model saved\")\n",
        "# endregion\n",
        "\n",
        "#"
      ]
    },
    {
      "cell_type": "code",
      "execution_count": null,
      "metadata": {
        "id": "vlpmx-GlOp3M"
      },
      "outputs": [],
      "source": [
        "# 11 --------------------------------------------------------- Prediction\n",
        "# region\n",
        "# @title 11 - Prediction { display-mode: \"form\" }\n",
        "result = model.predict(test_generator,batch_size = bat_size,verbose = 0)\n",
        "\n",
        "y_pred = np.argmax(result, axis = 1)\n",
        "\n",
        "y_true = test_generator.labels\n",
        "\n",
        "# Evaluvate\n",
        "loss,acc = model.evaluate(test_generator, batch_size = bat_size, verbose = 0)\n",
        "\n",
        "print('The accuracy of the model for testing data is:',acc*100)\n",
        "print('The Loss of the model for testing data is:',loss)\n",
        "\n",
        "# endregion\n",
        "\n",
        "#"
      ]
    },
    {
      "cell_type": "code",
      "execution_count": null,
      "metadata": {
        "id": "GSFPmSxjOrNe"
      },
      "outputs": [],
      "source": [
        "# 12 --------------------------------------------------------- Classification Report\n",
        "# region\n",
        "# @title 12 - Classification Report { display-mode: \"form\" }\n",
        "\n",
        "print(\"all entities names:\", all_entities_names)\n",
        "print(classification_report(y_true, y_pred,target_names=all_entities_names))\n",
        "\n",
        "# endregion\n",
        "\n",
        "#"
      ]
    },
    {
      "cell_type": "code",
      "execution_count": null,
      "metadata": {
        "id": "B4g02--rOspL"
      },
      "outputs": [],
      "source": [
        "# 13 --------------------------------------------------------- Confusion Matrix\n",
        "# region\n",
        "# @title 13 - Confusion Matrix { display-mode: \"form\" }\n",
        "\n",
        "# Normalize the confusion matrix\n",
        "confusion_mtx = confusion_matrix(y_true, y_pred)\n",
        "confusion_mtx = confusion_mtx.astype('float') / confusion_mtx.sum(axis=1)[:, np.newaxis]\n",
        "\n",
        "print(\"Normalized Confusion Matrix: \\n\", confusion_mtx)\n",
        "\n",
        "f, ax = plt.subplots(figsize=(8, 4), dpi=200)\n",
        "sns.heatmap(confusion_mtx, annot=True, linewidths=0.1, cmap=\"gist_yarg_r\", linecolor=\"black\", fmt='.2%', ax=ax, cbar=False, xticklabels=all_entities_names, yticklabels=all_entities_names)\n",
        "\n",
        "plt.xlabel(\"Predicted Label\", fontsize=10)\n",
        "plt.ylabel(\"True Label\", fontsize=10)\n",
        "plt.title(\"Confusion Matrix\", fontsize=13)\n",
        "\n",
        "plt.show()\n",
        "# endregion\n",
        "\n"
      ]
    },
    {
      "cell_type": "code",
      "execution_count": null,
      "metadata": {},
      "outputs": [],
      "source": [
        "# 14 --------------------------------------------------------- Execution Time\n",
        "# region\n",
        "# @title 14 - Execution time  { display-mode: \"form\" }\n",
        "\n",
        "end_time = time.time()\n",
        "execution_time = end_time - start_time\n",
        "\n",
        "print(f\"Execution time: {execution_time} seconds\")\n",
        "# endregion\n",
        "\n"
      ]
    },
    {
      "cell_type": "code",
      "execution_count": null,
      "metadata": {},
      "outputs": [],
      "source": [
        "# --------------------------------------------------------- reference codes\n",
        "# region\n",
        "#  @title  reference codes { display-mode: \"form\" }\n",
        "\n",
        "# from google.colab import drive\n",
        "# drive.mount('/content/gdrive')\n",
        "\n",
        "# import zipfile\n",
        "# import os\n",
        "# extract_source = \"/content/gdrive/My Drive/GUC Bachelor : Arabic Image-to-Letters Script Recognition/data set/data set 2.zip\"\n",
        "# extract_destination = \"/content/extracted_from_drive\"\n",
        "# zip_ref = zipfile.ZipFile(extract_source, 'r')\n",
        "# print(\"extracting...\")\n",
        "# zip_ref.extractall(extract_destination)\n",
        "# extracted_folder_name = os.listdir(extract_destination)[0]\n",
        "# zip_ref.close()\n",
        "# print(\"extracted files from drive to colab successfully !\")\n",
        "# all_entities_path = os.path.join(extract_destination, extracted_folder_name)\n",
        "\n",
        "\n",
        "# def get_corrupted_files_paths(all_entities_path):\n",
        "#     all_entities_names = os.listdir(all_entities_path)\n",
        "#     corrupted_file_paths = set()\n",
        "#     print(\"\\nVerifying all files are non-corrupted images...\")\n",
        "#     for entity_name in all_entities_names:\n",
        "#         entity_path = os.path.join(all_entities_path, entity_name)\n",
        "#         for filename in os.listdir(entity_path):\n",
        "#             file_path = os.path.join(entity_path, filename)\n",
        "#             if not image_is_ok(file_path):\n",
        "#                 print(f\"File {file_path} is corrupted and will be skipped.\")\n",
        "#                 corrupted_file_paths.add(file_path)\n",
        "#     print(\"Your data is ok.\" if not corrupted_file_paths else \"Done reporting error files.\")\n",
        "#     return corrupted_file_paths\n",
        "\n"
      ]
    }
  ],
  "metadata": {
    "colab": {
      "provenance": []
    },
    "kernelspec": {
      "display_name": "Python 3",
      "name": "python3"
    },
    "language_info": {
      "codemirror_mode": {
        "name": "ipython",
        "version": 3
      },
      "file_extension": ".py",
      "mimetype": "text/x-python",
      "name": "python",
      "nbconvert_exporter": "python",
      "pygments_lexer": "ipython3",
      "version": "3.11.8"
    }
  },
  "nbformat": 4,
  "nbformat_minor": 0
}
