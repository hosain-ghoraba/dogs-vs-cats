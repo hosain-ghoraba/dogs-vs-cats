{
  "cells": [
    {
      "cell_type": "markdown",
      "metadata": {},
      "source": [
        "<h1> Global Variables & Paths <h1>"
      ]
    },
    {
      "cell_type": "code",
      "execution_count": 1,
      "metadata": {},
      "outputs": [
        {
          "name": "stdout",
          "output_type": "stream",
          "text": [
            "img size:  16\n",
            "Global Variables & Paths are set successfully.\n"
          ]
        }
      ],
      "source": [
        "# --------------------------------------------------------- Global Variables & Paths\n",
        "# region\n",
        "# @title Global Variables & Paths { display-mode: \"form\" }\n",
        "import os\n",
        "\n",
        "# --------------- vscode\n",
        "VS_CODE_RAW_DATA_SET_PATH = r\"C:\\Users\\Dell\\Desktop\\Bachelor\\datasets\\2500 (tiny images)..Ready\\2500 (tiny images)\\Dataset\"\n",
        "VS_CODE_CLEAN_DATA_SET_PATH = '../image_classification/data/clean_data'\n",
        "\n",
        "# --------------- kaggle\n",
        "KAGGLE_RAW_DATA_SET_PATH = '/kaggle/input/arabic-letters-numbers-ocr/Dataset' # put (dataset name immediately after /input), and any extra folders modify per data set\n",
        "KAGGLE_CLEAN_DATA_SET_PATH = '/kaggle/working/clean_data'\n",
        "\n",
        "\n",
        "# --------------- colab\n",
        "KAGGLE_CRED_PATH = '/content/gdrive/MyDrive/Bachelor/kaggle'\n",
        "KAGGLE_DATA_SET_NAME = 'mahmoudreda55/arabic-letters-numbers-ocr'  # username/dataset name..t modify per data set\n",
        "COLAB_RAW_DATA_SET_PATH = '/content/kaggle_data/Dataset' # put (dataset_name) after (kaggle_data) , then put any extra folders... modify the part after (kaggle_data) per data set\n",
        "COLAB_CLAEN_DATA_SET_PATH = '/content/clean_data'\n",
        "\n",
        "# ----------------- global variables\n",
        "EPOCHS = 100\n",
        "DATA_PERCENTAGE_TO_USE = 100\n",
        "image_size = 16\n",
        "CLUSTERS_COUNT = 2\n",
        "\n",
        "# only use raw data if inside vscode\n",
        "# USE_RAW_DATA = 'VSCODE_PID' in os.environ\n",
        "USE_RAW_DATA = True\n",
        "RENAME_CLEAN_DATA = False\n",
        "\n",
        "\n",
        "print(\"img size: \", image_size)\n",
        "print('Global Variables & Paths are set successfully.')\n",
        "# endregion"
      ]
    },
    {
      "cell_type": "markdown",
      "metadata": {},
      "source": [
        "<h1> time calculation function <h1>"
      ]
    },
    {
      "cell_type": "code",
      "execution_count": 2,
      "metadata": {},
      "outputs": [
        {
          "name": "stdout",
          "output_type": "stream",
          "text": [
            "time calculation function is set successfully.\n"
          ]
        }
      ],
      "source": [
        "# --------------------------------------------------------- time calculation function\n",
        "# region\n",
        "# @title time calculation function { display-mode: \"form\" }\n",
        "\n",
        "\n",
        "import time\n",
        "\n",
        "global_start_time = time.time() # to calculate time taken for the whole notebook to run\n",
        "def calculate_and_print_time(start_time , section_name):\n",
        "    end_time = time.time()\n",
        "    time_taken = end_time - start_time\n",
        "    hours = int(time_taken // 3600)\n",
        "    minutes = int((time_taken % 3600) // 60)\n",
        "    seconds = int((time_taken % 3600) % 60)\n",
        "    print(f'\\n{section_name} done in : {hours} h, {minutes} m, {seconds} s')\n",
        "\n",
        "print('time calculation function is set successfully.')"
      ]
    },
    {
      "cell_type": "markdown",
      "metadata": {},
      "source": [
        "<h1> install libraries <h1>"
      ]
    },
    {
      "cell_type": "code",
      "execution_count": 3,
      "metadata": {},
      "outputs": [
        {
          "name": "stdout",
          "output_type": "stream",
          "text": [
            "seaborn (0.13.2) is installed\n",
            "tensorflow (2.16.1) is installed\n",
            "natsort (8.4.0) is installed\n",
            "\n",
            "installing required packages done in : 0 h, 0 m, 0 s\n"
          ]
        }
      ],
      "source": [
        "# --------------------------------------------------------- install libraries\n",
        "# region\n",
        "# @title install libraries { display-mode: \"form\" }\n",
        "\n",
        "\n",
        "\n",
        "start_time = time.time()\n",
        "\n",
        "import pkg_resources\n",
        "REQUIRED_PACKAGES = ['seaborn', 'tensorflow','natsort']\n",
        "\n",
        "for package in REQUIRED_PACKAGES:\n",
        "    try:\n",
        "        dist = pkg_resources.get_distribution(package)\n",
        "        print('{} ({}) is installed'.format(dist.key, dist.version))\n",
        "    except pkg_resources.DistributionNotFound:\n",
        "        print('{} is NOT installed'.format(package))\n",
        "        %pip install {package} \n",
        "# uninstall the standalone keras package to force using the one installed with tensorflow\n",
        "# %pip uninstall keras -y\n",
        "\n",
        "\n",
        "calculate_and_print_time(start_time, 'installing required packages')\n",
        "# print(\"installing required packages done\")\n",
        "# endregion"
      ]
    },
    {
      "cell_type": "markdown",
      "metadata": {},
      "source": [
        "<h1> imports <h1>"
      ]
    },
    {
      "cell_type": "code",
      "execution_count": 4,
      "metadata": {},
      "outputs": [
        {
          "name": "stdout",
          "output_type": "stream",
          "text": [
            "\n",
            "imports done in : 0 h, 0 m, 14 s\n"
          ]
        }
      ],
      "source": [
        "# --------------------------------------------------------- imports\n",
        "# region\n",
        "# @title imports { display-mode: \"form\" }\n",
        "start_time = time.time()\n",
        "\n",
        "import os\n",
        "\n",
        "import uuid\n",
        "import time\n",
        "import json\n",
        "import random\n",
        "import warnings\n",
        "import shutil\n",
        "import zipfile\n",
        "from natsort import natsorted\n",
        "from os import makedirs\n",
        "from os import listdir\n",
        "from tqdm import tqdm\n",
        "from shutil import copyfile\n",
        "from random import seed\n",
        "import numpy as np\n",
        "import pandas as pd\n",
        "import seaborn as sns\n",
        "import matplotlib.pyplot as plt\n",
        "from matplotlib.image import imread\n",
        "from PIL import Image\n",
        "from sklearn.model_selection import train_test_split\n",
        "from sklearn.metrics import classification_report,confusion_matrix,ConfusionMatrixDisplay\n",
        "import tensorflow as tf\n",
        "# import keras\n",
        "from tensorflow.keras.utils import to_categorical\n",
        "from tensorflow.keras.models import Sequential\n",
        "from tensorflow.keras.preprocessing.image import ImageDataGenerator\n",
        "from tensorflow.keras.layers import Dense,MaxPooling2D,Dropout,Flatten,BatchNormalization,Conv2D\n",
        "from tensorflow.keras.callbacks import ReduceLROnPlateau,EarlyStopping\n",
        "from keras.preprocessing import image\n",
        "from sklearn.cluster import KMeans\n",
        "\n",
        "calculate_and_print_time(start_time, 'imports')\n",
        "# print(\"imports done\")\n",
        "\n",
        "# endregion\n",
        "\n"
      ]
    },
    {
      "cell_type": "markdown",
      "metadata": {},
      "source": [
        "<h1> detect Hardware <h1>"
      ]
    },
    {
      "cell_type": "code",
      "execution_count": 5,
      "metadata": {},
      "outputs": [
        {
          "name": "stdout",
          "output_type": "stream",
          "text": [
            "Running on CPU\n",
            "REPLICAS:  1\n",
            "\n",
            "detecting hardware done in : 0 h, 0 m, 0 s\n"
          ]
        }
      ],
      "source": [
        "# --------------------------------------------------------- detect Hardware\n",
        "# region\n",
        "# @title detect Hardware {display-mode: \"form\"}\n",
        "start_time = time.time()\n",
        "\n",
        "try:\n",
        "    tpu = tf.distribute.cluster_resolver.TPUClusterResolver()\n",
        "    tf.config.experimental_connect_to_cluster(tpu)\n",
        "    tf.tpu.experimental.initialize_tpu_system(tpu)\n",
        "    strategy = tf.distribute.TPUStrategy(tpu)\n",
        "    print(\"Running on TPU\")\n",
        "    print('TPU details: ', tpu.cluster_spec().as_dict())\n",
        "except ValueError:\n",
        "    tpu = None\n",
        "    strategy = tf.distribute.get_strategy() # default strategy that works on CPU and single GPU\n",
        "    gpus = tf.config.experimental.list_physical_devices('GPU')\n",
        "    if(gpus):\n",
        "        print(\"Running on \", len(gpus), \" GPU(s) \")\n",
        "        for gpu in gpus:\n",
        "            tf.config.experimental.set_memory_growth(gpu, True)\n",
        "        strategy = tf.distribute.MirroredStrategy(devices=[\"GPU:{}\".format(i) for i in range(len(gpus))])\n",
        "    else:        \n",
        "        print(\"Running on CPU\")\n",
        "\n",
        "print(\"REPLICAS: \", strategy.num_replicas_in_sync)\n",
        "calculate_and_print_time(start_time,'detecting hardware')\n",
        "# extra\n",
        "# endregion"
      ]
    },
    {
      "cell_type": "markdown",
      "metadata": {},
      "source": [
        "<h1> functions <h1>"
      ]
    },
    {
      "cell_type": "code",
      "execution_count": 6,
      "metadata": {},
      "outputs": [
        {
          "name": "stdout",
          "output_type": "stream",
          "text": [
            "\n",
            "functions done in : 0 h, 0 m, 0 s\n"
          ]
        }
      ],
      "source": [
        "# --------------------------------------------------------- functions\n",
        "# region\n",
        "# @title functions {display-mode: \"form\"}\n",
        "start_time = time.time()\n",
        "\n",
        "raw_data_path = None\n",
        "clean_data_path = None\n",
        "\n",
        "def get_environment():\n",
        "    if 'COLAB_GPU' in os.environ:\n",
        "        return 'Google Colab'\n",
        "    elif 'KAGGLE_URL_BASE' in os.environ:\n",
        "        return 'Kaggle'\n",
        "    elif 'VSCODE_PID' in os.environ:\n",
        "        return 'VS Code'\n",
        "    else:\n",
        "        return 'Unknown environment'\n",
        "\n",
        "def do_colab_staff():\n",
        "\n",
        "    from google.colab import drive\n",
        "    drive.mount('/content/gdrive')\n",
        "\n",
        "    # storing kaggle credentials\n",
        "    os.environ['KAGGLE_CONFIG_DIR'] = KAGGLE_CRED_PATH\n",
        "\n",
        "    !kaggle datasets download -d {KAGGLE_DATA_SET_NAME}\n",
        "    print(\"downloaded dataset\" ,KAGGLE_DATA_SET_NAME )\n",
        "    \n",
        "    \n",
        "    ! mkdir kaggle_data\n",
        "    downloaded_zip_name = f\"{KAGGLE_DATA_SET_NAME.split('/')[-1]}.zip\" # the !kaggle datasets download command will download the zip file with the same name as the dataset name\n",
        "    extract_folder_path = 'kaggle_data'\n",
        "    extract_zip(downloaded_zip_name, extract_folder_path)\n",
        "\n",
        "    global raw_data_path\n",
        "    raw_data_path = COLAB_RAW_DATA_SET_PATH\n",
        "    global clean_data_path\n",
        "    clean_data_path = COLAB_CLAEN_DATA_SET_PATH\n",
        "\n",
        "\n",
        "def do_kaggle_staff():\n",
        "    global raw_data_path\n",
        "    raw_data_path = KAGGLE_RAW_DATA_SET_PATH\n",
        "    global clean_data_path\n",
        "    clean_data_path = KAGGLE_CLEAN_DATA_SET_PATH\n",
        "    \n",
        "def do_vscode_staff():\n",
        "    global raw_data_path\n",
        "    raw_data_path = VS_CODE_RAW_DATA_SET_PATH\n",
        "    global clean_data_path\n",
        "    clean_data_path = VS_CODE_CLEAN_DATA_SET_PATH\n",
        "\n",
        "def do_unknown_environment_staff():\n",
        "    print(\"This is an unknown environment, please enter the path to the data set folder:\")\n",
        "    global raw_data_path\n",
        "    raw_data_path = input()     \n",
        "\n",
        "def image_is_ok(image_path):\n",
        "    with warnings.catch_warnings(record=True) as w:\n",
        "        try:\n",
        "            img = Image.open(image_path)\n",
        "            img.verify()\n",
        "            if len(w) > 0:  # if any warnings were issued\n",
        "                return False\n",
        "            return True\n",
        "        except (IOError, SyntaxError):\n",
        "            return False\n",
        "\n",
        "def copy_clean_files(dirty_dataset_path, destination_folder_path):\n",
        "    print(\"copying clean files...\")\n",
        "    # If the destination directory already exists, remove it and all its contents\n",
        "    if os.path.exists(destination_folder_path):\n",
        "        print(f\"removing {destination_folder_path} directory to create a new one...\")\n",
        "        shutil.rmtree(destination_folder_path)\n",
        "        print(f\"removed {destination_folder_path} directory to create a new one...\")\n",
        "    os.makedirs(destination_folder_path)\n",
        "    \n",
        "    # Get the total number of files for the progress bar\n",
        "    total_files = sum([len(files) for r, d, files in os.walk(dirty_dataset_path)])\n",
        "    \n",
        "    progress_bar = tqdm(total=total_files, desc=\"Copying files\", unit=\"file\")\n",
        "    \n",
        "    for root, dirs, files in os.walk(dirty_dataset_path):\n",
        "        for file in files:\n",
        "            file_path = os.path.join(root, file)\n",
        "            if image_is_ok(file_path):\n",
        "                new_file_path = os.path.join(destination_folder_path, os.path.relpath(file_path, dirty_dataset_path))\n",
        "                os.makedirs(os.path.dirname(new_file_path) , exist_ok=True)\n",
        "                shutil.copyfile(file_path, new_file_path)\n",
        "            else:\n",
        "                print(f\"file: {os.path.relpath(file_path, dirty_dataset_path)} is corrupted & skipped from dataset while copying \")\n",
        "            \n",
        "            progress_bar.update(1)\n",
        "    \n",
        "    progress_bar.close()\n",
        "    print(f\"copied files from {dirty_dataset_path} to {destination_folder_path} successfully\") \n",
        "\n",
        "def rename_files(data_set_path):\n",
        "    all_entities_names = natsorted(os.listdir(data_set_path))\n",
        "    print(\"giving temporary unique names...\")\n",
        "    for entity_name in all_entities_names:\n",
        "        entity_path = os.path.join(data_set_path, entity_name)\n",
        "        for filename in os.listdir(entity_path):\n",
        "            temp_filename = str(uuid.uuid4()) + \".jpg\"  # generate a unique filename\n",
        "            source = os.path.join(entity_path, filename)\n",
        "            destination = os.path.join(entity_path, temp_filename)\n",
        "            os.rename(source, destination)\n",
        "    # ----------------------------------------------------------------------------------------------------\n",
        "    print(\"renaming...\")\n",
        "    # then rename every file in every folder in the given path\n",
        "\n",
        "    for entity_name in all_entities_names:\n",
        "        entity_path = os.path.join(data_set_path, entity_name)\n",
        "        i = 1\n",
        "        for filename in os.listdir(entity_path):\n",
        "            entity_name = os.fsdecode(entity_name.lower())\n",
        "            new_filename = entity_name + '.' + str(i) + \".jpg\"\n",
        "            source = os.path.join(entity_path, filename)\n",
        "            destination = os.path.join(entity_path, new_filename)\n",
        "            os.rename(source, destination)\n",
        "            i += 1\n",
        "    print(\"done renaming !\")\n",
        "\n",
        "def find_image_folder_after_extracting_zip(extracted_folder_path):\n",
        "    for root, dirs, files in os.walk(extracted_folder_path):\n",
        "        # check if the current directory contains image files\n",
        "        if any(fname.lower().endswith(('.png', '.jpg', '.jpeg')) for fname in files):\n",
        "            return os.path.dirname(root)\n",
        "    return None\n",
        "\n",
        "def extract_zip(source_path, destination_path):\n",
        "    # delete the destination folder if it exists\n",
        "    if os.path.exists(destination_path):\n",
        "        print('Deleting the existing destination folder...')\n",
        "        shutil.rmtree(destination_path)\n",
        "\n",
        "    print(\"Extracting files...\") \n",
        "    with zipfile.ZipFile(source_path, 'r') as zip_ref:\n",
        "        files = zip_ref.infolist()\n",
        "        for file in tqdm(files, desc=\"Extracting files\", unit=\"file\"):\n",
        "            try:\n",
        "                file.filename = file.filename.encode('cp437').decode('utf-8')  # try 'cp437' encoding first\n",
        "            except UnicodeDecodeError:\n",
        "                file.filename = file.filename.encode('utf-8').decode('utf-8')  # fallback to 'utf-8' if 'cp437' fails\n",
        "            zip_ref.extract(file, path=destination_path)\n",
        "\n",
        "    print(\"Extraction complete.\")\n",
        "\n",
        "\n",
        "calculate_and_print_time(start_time, 'functions')\n",
        "# print(\"functions done\")\n",
        "# endregion\n",
        "\n",
        "    "
      ]
    },
    {
      "cell_type": "markdown",
      "metadata": {},
      "source": [
        "<h1> doing specific-environment things <h1>"
      ]
    },
    {
      "cell_type": "code",
      "execution_count": 7,
      "metadata": {},
      "outputs": [
        {
          "name": "stdout",
          "output_type": "stream",
          "text": [
            "Environment: VS Code\n",
            "tensowflow version: 2.16.1\n",
            "raw data set path: C:\\Users\\Dell\\Desktop\\Bachelor\\datasets\\2500 (tiny images)..Ready\\2500 (tiny images)\\Dataset\n",
            "clean data set path: ../image_classification/data/clean_data\n",
            "\n",
            "doing specific-environment things done in : 0 h, 0 m, 0 s\n"
          ]
        }
      ],
      "source": [
        "# --------------------------------------------------------- doing specific-environment things\n",
        "# region\n",
        "# @title doing specific-environment things {display-mode: \"form\"}\n",
        "start_time = time.time()\n",
        "\n",
        "# test if the tpu & GPU is available\n",
        "\n",
        "raw_data_path = None    \n",
        "environment_type = get_environment() \n",
        "print(f'Environment: {environment_type}')     \n",
        "\n",
        "print(\"tensowflow version:\", tf.__version__)\n",
        "if environment_type == 'Google Colab':\n",
        "    do_colab_staff()\n",
        "elif environment_type == 'Kaggle':\n",
        "    do_kaggle_staff()\n",
        "elif environment_type == 'VS Code':\n",
        "    do_vscode_staff()\n",
        "else:\n",
        "    do_unknown_environment_staff()\n",
        "\n",
        "print(\"raw data set path:\", raw_data_path)\n",
        "assert os.path.exists(raw_data_path), ' wrong path for data set !' \n",
        "print(\"clean data set path:\", clean_data_path)\n",
        "  \n",
        "calculate_and_print_time(start_time, 'doing specific-environment things')\n",
        "# print(\"doing specific-environment things done\")\n",
        "\n",
        "# endregion\n",
        "\n",
        "        \n"
      ]
    },
    {
      "cell_type": "markdown",
      "metadata": {},
      "source": [
        "<h1> data preparation <h1>"
      ]
    },
    {
      "cell_type": "code",
      "execution_count": 8,
      "metadata": {},
      "outputs": [
        {
          "name": "stdout",
          "output_type": "stream",
          "text": [
            "raw data path: C:\\Users\\Dell\\Desktop\\Bachelor\\datasets\\2500 (tiny images)..Ready\\2500 (tiny images)\\Dataset\n",
            "raw data parent dir: C:\\Users\\Dell\\Desktop\\Bachelor\\datasets\\2500 (tiny images)..Ready\\2500 (tiny images)\n",
            "clean data path: ../image_classification/data/clean_data\n",
            "we will use raw data directly\n",
            "we will use  100 % of the data\n",
            "\n",
            "data preparation done in : 0 h, 0 m, 0 s\n"
          ]
        }
      ],
      "source": [
        "# --------------------------------------------------------- data preparation\n",
        "# region\n",
        "# @title data preparation {display-mode: \"form\"}\n",
        "start_time = time.time()\n",
        "\n",
        "print(\"raw data path:\", raw_data_path)\n",
        "parent_dir = os.path.dirname(raw_data_path)\n",
        "print(\"raw data parent dir:\", parent_dir)\n",
        "print(\"clean data path:\", clean_data_path)\n",
        "\n",
        "if USE_RAW_DATA:\n",
        "    ready_data_path = raw_data_path\n",
        "    print(\"we will use raw data directly\")\n",
        "else :\n",
        "    if os.path.exists('data_is_clean.txt'):\n",
        "        print(\"data was previously copied and cleaned\")\n",
        "    else:\n",
        "        print(\"data_is_clean.txt file does not exist, assuming data is not clean.\")\n",
        "        copy_clean_files(raw_data_path, clean_data_path)\n",
        "        if RENAME_CLEAN_DATA:\n",
        "            rename_files(clean_data_path)\n",
        "        with open('data_is_clean.txt', 'w') as f:\n",
        "            f.write('the existance of this file means the data is claen, that is all !')\n",
        "    ready_data_path = clean_data_path        \n",
        "\n",
        "# ----------------------------\n",
        "\n",
        "\n",
        "print(\"we will use \", DATA_PERCENTAGE_TO_USE, \"% of the data\")\n",
        "calculate_and_print_time(start_time, 'data preparation')\n",
        "# print(\"data preparation done\")\n",
        "\n",
        "\n",
        "# endregion\n",
        "        \n"
      ]
    },
    {
      "cell_type": "markdown",
      "metadata": {},
      "source": [
        "<h1 > 1 - Loading Images in a Dataframe <h1>"
      ]
    },
    {
      "cell_type": "code",
      "execution_count": 9,
      "metadata": {
        "id": "E9g1mXLiOBTX"
      },
      "outputs": [
        {
          "name": "stdout",
          "output_type": "stream",
          "text": [
            "all entities names: ['٠', '١', '٢', '٣', '٤', '٥', '٦', '٧', '٨', '٩', 'ا', 'ب', 'ت', 'ث', 'ج', 'ح', 'خ', 'د', 'ذ', 'ر', 'ز', 'س', 'ش', 'ص', 'ض', 'ط', 'ظ', 'ع', 'غ', 'ف', 'ق', 'ك', 'ل', 'لا', 'م', 'ن', 'ه', 'و', 'ي']\n",
            "entity name: ٠\n",
            "entity name: ١\n",
            "entity name: ٢\n",
            "entity name: ٣\n",
            "entity name: ٤\n",
            "entity name: ٥\n",
            "entity name: ٦\n",
            "entity name: ٧\n",
            "entity name: ٨\n",
            "entity name: ٩\n",
            "entity name: ا\n",
            "entity name: ب\n",
            "entity name: ت\n",
            "entity name: ث\n",
            "entity name: ج\n",
            "entity name: ح\n",
            "entity name: خ\n",
            "entity name: د\n",
            "entity name: ذ\n",
            "entity name: ر\n",
            "entity name: ز\n",
            "entity name: س\n",
            "entity name: ش\n",
            "entity name: ص\n",
            "entity name: ض\n",
            "entity name: ط\n",
            "entity name: ظ\n",
            "entity name: ع\n",
            "entity name: غ\n",
            "entity name: ف\n",
            "entity name: ق\n",
            "entity name: ك\n",
            "entity name: ل\n",
            "entity name: لا\n",
            "entity name: م\n",
            "entity name: ن\n",
            "entity name: ه\n",
            "entity name: و\n",
            "entity name: ي\n",
            "selected data set size = 1.0 * 96749 = 96749\n",
            "data head :      filename label\n",
            "0  ٠\\315w.png     ٠\n",
            "1  ٠\\597w.png     ٠\n",
            "2   ٠\\723.png     ٠\n",
            "3  ٠\\1039.png     ٠\n",
            "4  ٠\\800w.png     ٠\n",
            "data tail :          filename label\n",
            "96744  ي\\1953.png     ي\n",
            "96745  ي\\2293.png     ي\n",
            "96746  ي\\1046.png     ي\n",
            "96747  ي\\1582.png     ي\n",
            "96748  ي\\1536.png     ي\n",
            "flattening images...\n"
          ]
        },
        {
          "data": {
            "image/png": "[encoded data removed]",
            "text/plain": [
              "<Figure size 640x480 with 1 Axes>"
            ]
          },
          "metadata": {},
          "output_type": "display_data"
        },
        {
          "name": "stdout",
          "output_type": "stream",
          "text": [
            "performing KMeans clustering...\n",
            "\n",
            "Loading Images in a Dataframe done in : 0 h, 8 m, 47 s\n"
          ]
        }
      ],
      "source": [
        "# 1 --------------------------------------------------------- Loading Images in a Dataframe\n",
        "# region\n",
        "# @title 1 - Loading Images in a Dataframe { display-mode: \"form\" }\n",
        "start_time = time.time()\n",
        "\n",
        "all_entities_names = natsorted(os.listdir(ready_data_path))\n",
        "print(\"all entities names:\", all_entities_names)\n",
        "filenames = []\n",
        "original_data_set_size = 0\n",
        "images = []  # for clustring part\n",
        "for entity_name in all_entities_names:\n",
        "    print(\"entity name:\", entity_name)\n",
        "    entity_path = os.path.join(ready_data_path, entity_name)\n",
        "    entity_filenames = [file_name for file_name in os.listdir(entity_path)]\n",
        "    original_data_set_size += len(entity_filenames)\n",
        "    random.shuffle(entity_filenames)\n",
        "    entity_filenames = entity_filenames[:int(len(entity_filenames) * (DATA_PERCENTAGE_TO_USE / 100))]\n",
        "    filenames.extend([os.path.join(entity_name, file_name) for file_name in entity_filenames])\n",
        "\n",
        "    # ----------------for clustring part\n",
        "    for file_name in entity_filenames:\n",
        "        img_path = os.path.join(entity_path, file_name)\n",
        "        if image_is_ok(img_path):\n",
        "            img = image.load_img(img_path, target_size=(image_size, image_size))\n",
        "            img = image.img_to_array(img)\n",
        "            images.append(img)\n",
        "        else:\n",
        "            print(f\"file: {file_name} in entity: {entity_name} is corrupted & skipped from dataset while loading images\")\n",
        "\n",
        " \n",
        "\n",
        "print(f\"selected data set size = {DATA_PERCENTAGE_TO_USE / 100} * {original_data_set_size} = {len(filenames)}\") \n",
        "file_labels = [x.split(os.sep)[0] for x in filenames] \n",
        "data = pd.DataFrame({\"filename\": filenames, \"label\": file_labels})\n",
        "# sort the data frame by the labels using natsort\n",
        "data = data.iloc[natsorted(data.index.values)] \n",
        "# data = data.sort_values('label', kind='mergesort')\n",
        "print(\"data head :\", data.head())\n",
        "print(\"data tail :\", data.tail())        \n",
        "\n",
        "# clustering part ------------------------------------------------------------\n",
        "\n",
        "# Flatten your images into 1D arrays\n",
        "print(\"flattening images...\")\n",
        "flattened_images = np.array(images).reshape(len(images), -1)\n",
        "\n",
        "# -------------------- Elbow Method to find the optimal number of clusters\n",
        "wcss = []\n",
        "for i in range(1, 11):  # change the range according to your needs\n",
        "    kmeans = KMeans(n_clusters=i, init='k-means++', max_iter=300, n_init=10, random_state=0)\n",
        "    kmeans.fit(flattened_images)\n",
        "    wcss.append(kmeans.inertia_)\n",
        "plt.plot(range(1, 11), wcss)\n",
        "plt.title('Elbow Method')\n",
        "plt.xlabel('Number of clusters')\n",
        "plt.ylabel('WCSS')\n",
        "plt.show()\n",
        "# -------------------------------------\n",
        "\n",
        "\n",
        "# Perform KMeans clustering\n",
        "print(\"performing KMeans clustering...\")\n",
        "kmeans = KMeans(n_clusters= CLUSTERS_COUNT, random_state=0).fit(flattened_images)\n",
        "\n",
        "# Get the cluster labels for each image\n",
        "labels = kmeans.labels_\n",
        "\n",
        "# Add the cluster labels to the DataFrame\n",
        "data['cluster'] = labels\n",
        "\n",
        "\n",
        "\n",
        "calculate_and_print_time(start_time, 'Loading Images in a Dataframe')\n",
        "# print(\"Loading Images in a Dataframe done\")\n",
        "# endregion\n",
        "\n"
      ]
    },
    {
      "cell_type": "markdown",
      "metadata": {},
      "source": [
        "<h1> 2 - Train Test Split <h1>"
      ]
    },
    {
      "cell_type": "code",
      "execution_count": 10,
      "metadata": {
        "colab": {
          "base_uri": "https://localhost:8080/"
        },
        "id": "-1t3k6egONtP",
        "outputId": "9150b61f-6e5e-4321-dcba-c16b3430fab5"
      },
      "outputs": [
        {
          "name": "stdout",
          "output_type": "stream",
          "text": [
            "we have  2 clusters\n",
            "Cluster 0 class distribution:\n",
            "total images in the current cluster: 49747\n",
            "label\n",
            "٠     2480\n",
            "٢     2480\n",
            "٣     2480\n",
            "٥     2480\n",
            "٧     2480\n",
            "٩     2480\n",
            "١     2479\n",
            "٤     2479\n",
            "٨     2479\n",
            "٦     2478\n",
            "ر     2410\n",
            "ز     2406\n",
            "ي     1966\n",
            "ن     1803\n",
            "و     1771\n",
            "ب     1644\n",
            "س     1584\n",
            "ث     1435\n",
            "ت     1410\n",
            "ش     1330\n",
            "د      642\n",
            "ل      631\n",
            "ج      593\n",
            "خ      590\n",
            "ك      585\n",
            "ح      565\n",
            "ع      540\n",
            "ذ      491\n",
            "ف      477\n",
            "ص      442\n",
            "ض      423\n",
            "ق      419\n",
            "غ      305\n",
            "ه      223\n",
            "ظ      113\n",
            "م       59\n",
            "ط       58\n",
            "ا       27\n",
            "لا      10\n",
            "Name: count, dtype: int64\n",
            "Cluster 0:\n",
            "The shape of train data (39797, 3)\n",
            "The shape of test data (4975, 3)\n",
            "The shape of validation data (4975, 3)\n",
            " \n",
            "Cluster 1 class distribution:\n",
            "total images in the current cluster: 47002\n",
            "label\n",
            "لا    2471\n",
            "ا     2454\n",
            "ط     2423\n",
            "م     2422\n",
            "ظ     2368\n",
            "ه     2258\n",
            "غ     2176\n",
            "ق     2062\n",
            "ض     2058\n",
            "ص     2039\n",
            "ف     2004\n",
            "ذ     1990\n",
            "ع     1941\n",
            "ح     1916\n",
            "ك     1896\n",
            "خ     1891\n",
            "ج     1888\n",
            "ل     1850\n",
            "د     1839\n",
            "ش     1151\n",
            "ت     1071\n",
            "ث     1046\n",
            "س      897\n",
            "ب      837\n",
            "و      710\n",
            "ن      678\n",
            "ي      515\n",
            "ز       75\n",
            "ر       71\n",
            "٦        2\n",
            "٤        1\n",
            "٨        1\n",
            "١        1\n",
            "Name: count, dtype: int64\n"
          ]
        },
        {
          "ename": "ValueError",
          "evalue": "The least populated class in y has only 1 member, which is too few. The minimum number of groups for any class cannot be less than 2.",
          "output_type": "error",
          "traceback": [
            "\u001b[1;31m---------------------------------------------------------------------------\u001b[0m",
            "\u001b[1;31mValueError\u001b[0m                                Traceback (most recent call last)",
            "Cell \u001b[1;32mIn[10], line 18\u001b[0m\n\u001b[0;32m     16\u001b[0m \u001b[38;5;28mprint\u001b[39m(\u001b[38;5;124m\"\u001b[39m\u001b[38;5;124mtotal images in the current cluster:\u001b[39m\u001b[38;5;124m\"\u001b[39m, \u001b[38;5;28mlen\u001b[39m(cluster_data))\n\u001b[0;32m     17\u001b[0m \u001b[38;5;28mprint\u001b[39m(labels\u001b[38;5;241m.\u001b[39mvalue_counts())\n\u001b[1;32m---> 18\u001b[0m X_train, X_temp \u001b[38;5;241m=\u001b[39m \u001b[43mtrain_test_split\u001b[49m\u001b[43m(\u001b[49m\u001b[43mcluster_data\u001b[49m\u001b[43m,\u001b[49m\u001b[43m \u001b[49m\u001b[43mtest_size\u001b[49m\u001b[38;5;241;43m=\u001b[39;49m\u001b[38;5;241;43m0.2\u001b[39;49m\u001b[43m,\u001b[49m\u001b[43m \u001b[49m\u001b[43mstratify\u001b[49m\u001b[38;5;241;43m=\u001b[39;49m\u001b[43mlabels\u001b[49m\u001b[43m,\u001b[49m\u001b[43m \u001b[49m\u001b[43mrandom_state\u001b[49m\u001b[38;5;241;43m=\u001b[39;49m\u001b[38;5;241;43m42\u001b[39;49m\u001b[43m)\u001b[49m\n\u001b[0;32m     19\u001b[0m label_test_val \u001b[38;5;241m=\u001b[39m X_temp[\u001b[38;5;124m'\u001b[39m\u001b[38;5;124mlabel\u001b[39m\u001b[38;5;124m'\u001b[39m]\n\u001b[0;32m     20\u001b[0m X_test, X_val \u001b[38;5;241m=\u001b[39m train_test_split(X_temp, test_size\u001b[38;5;241m=\u001b[39m\u001b[38;5;241m0.5\u001b[39m, stratify\u001b[38;5;241m=\u001b[39mlabel_test_val, random_state\u001b[38;5;241m=\u001b[39m\u001b[38;5;241m42\u001b[39m)\n",
            "File \u001b[1;32mc:\\Users\\Dell\\Desktop\\Bachelor\\image_classification\\env\\Lib\\site-packages\\sklearn\\utils\\_param_validation.py:213\u001b[0m, in \u001b[0;36mvalidate_params.<locals>.decorator.<locals>.wrapper\u001b[1;34m(*args, **kwargs)\u001b[0m\n\u001b[0;32m    207\u001b[0m \u001b[38;5;28;01mtry\u001b[39;00m:\n\u001b[0;32m    208\u001b[0m     \u001b[38;5;28;01mwith\u001b[39;00m config_context(\n\u001b[0;32m    209\u001b[0m         skip_parameter_validation\u001b[38;5;241m=\u001b[39m(\n\u001b[0;32m    210\u001b[0m             prefer_skip_nested_validation \u001b[38;5;129;01mor\u001b[39;00m global_skip_validation\n\u001b[0;32m    211\u001b[0m         )\n\u001b[0;32m    212\u001b[0m     ):\n\u001b[1;32m--> 213\u001b[0m         \u001b[38;5;28;01mreturn\u001b[39;00m \u001b[43mfunc\u001b[49m\u001b[43m(\u001b[49m\u001b[38;5;241;43m*\u001b[39;49m\u001b[43margs\u001b[49m\u001b[43m,\u001b[49m\u001b[43m \u001b[49m\u001b[38;5;241;43m*\u001b[39;49m\u001b[38;5;241;43m*\u001b[39;49m\u001b[43mkwargs\u001b[49m\u001b[43m)\u001b[49m\n\u001b[0;32m    214\u001b[0m \u001b[38;5;28;01mexcept\u001b[39;00m InvalidParameterError \u001b[38;5;28;01mas\u001b[39;00m e:\n\u001b[0;32m    215\u001b[0m     \u001b[38;5;66;03m# When the function is just a wrapper around an estimator, we allow\u001b[39;00m\n\u001b[0;32m    216\u001b[0m     \u001b[38;5;66;03m# the function to delegate validation to the estimator, but we replace\u001b[39;00m\n\u001b[0;32m    217\u001b[0m     \u001b[38;5;66;03m# the name of the estimator by the name of the function in the error\u001b[39;00m\n\u001b[0;32m    218\u001b[0m     \u001b[38;5;66;03m# message to avoid confusion.\u001b[39;00m\n\u001b[0;32m    219\u001b[0m     msg \u001b[38;5;241m=\u001b[39m re\u001b[38;5;241m.\u001b[39msub(\n\u001b[0;32m    220\u001b[0m         \u001b[38;5;124mr\u001b[39m\u001b[38;5;124m\"\u001b[39m\u001b[38;5;124mparameter of \u001b[39m\u001b[38;5;124m\\\u001b[39m\u001b[38;5;124mw+ must be\u001b[39m\u001b[38;5;124m\"\u001b[39m,\n\u001b[0;32m    221\u001b[0m         \u001b[38;5;124mf\u001b[39m\u001b[38;5;124m\"\u001b[39m\u001b[38;5;124mparameter of \u001b[39m\u001b[38;5;132;01m{\u001b[39;00mfunc\u001b[38;5;241m.\u001b[39m\u001b[38;5;18m__qualname__\u001b[39m\u001b[38;5;132;01m}\u001b[39;00m\u001b[38;5;124m must be\u001b[39m\u001b[38;5;124m\"\u001b[39m,\n\u001b[0;32m    222\u001b[0m         \u001b[38;5;28mstr\u001b[39m(e),\n\u001b[0;32m    223\u001b[0m     )\n",
            "File \u001b[1;32mc:\\Users\\Dell\\Desktop\\Bachelor\\image_classification\\env\\Lib\\site-packages\\sklearn\\model_selection\\_split.py:2681\u001b[0m, in \u001b[0;36mtrain_test_split\u001b[1;34m(test_size, train_size, random_state, shuffle, stratify, *arrays)\u001b[0m\n\u001b[0;32m   2677\u001b[0m         CVClass \u001b[38;5;241m=\u001b[39m ShuffleSplit\n\u001b[0;32m   2679\u001b[0m     cv \u001b[38;5;241m=\u001b[39m CVClass(test_size\u001b[38;5;241m=\u001b[39mn_test, train_size\u001b[38;5;241m=\u001b[39mn_train, random_state\u001b[38;5;241m=\u001b[39mrandom_state)\n\u001b[1;32m-> 2681\u001b[0m     train, test \u001b[38;5;241m=\u001b[39m \u001b[38;5;28;43mnext\u001b[39;49m\u001b[43m(\u001b[49m\u001b[43mcv\u001b[49m\u001b[38;5;241;43m.\u001b[39;49m\u001b[43msplit\u001b[49m\u001b[43m(\u001b[49m\u001b[43mX\u001b[49m\u001b[38;5;241;43m=\u001b[39;49m\u001b[43marrays\u001b[49m\u001b[43m[\u001b[49m\u001b[38;5;241;43m0\u001b[39;49m\u001b[43m]\u001b[49m\u001b[43m,\u001b[49m\u001b[43m \u001b[49m\u001b[43my\u001b[49m\u001b[38;5;241;43m=\u001b[39;49m\u001b[43mstratify\u001b[49m\u001b[43m)\u001b[49m\u001b[43m)\u001b[49m\n\u001b[0;32m   2683\u001b[0m \u001b[38;5;28;01mreturn\u001b[39;00m \u001b[38;5;28mlist\u001b[39m(\n\u001b[0;32m   2684\u001b[0m     chain\u001b[38;5;241m.\u001b[39mfrom_iterable(\n\u001b[0;32m   2685\u001b[0m         (_safe_indexing(a, train), _safe_indexing(a, test)) \u001b[38;5;28;01mfor\u001b[39;00m a \u001b[38;5;129;01min\u001b[39;00m arrays\n\u001b[0;32m   2686\u001b[0m     )\n\u001b[0;32m   2687\u001b[0m )\n",
            "File \u001b[1;32mc:\\Users\\Dell\\Desktop\\Bachelor\\image_classification\\env\\Lib\\site-packages\\sklearn\\model_selection\\_split.py:1749\u001b[0m, in \u001b[0;36mBaseShuffleSplit.split\u001b[1;34m(self, X, y, groups)\u001b[0m\n\u001b[0;32m   1719\u001b[0m \u001b[38;5;250m\u001b[39m\u001b[38;5;124;03m\"\"\"Generate indices to split data into training and test set.\u001b[39;00m\n\u001b[0;32m   1720\u001b[0m \n\u001b[0;32m   1721\u001b[0m \u001b[38;5;124;03mParameters\u001b[39;00m\n\u001b[1;32m   (...)\u001b[0m\n\u001b[0;32m   1746\u001b[0m \u001b[38;5;124;03mto an integer.\u001b[39;00m\n\u001b[0;32m   1747\u001b[0m \u001b[38;5;124;03m\"\"\"\u001b[39;00m\n\u001b[0;32m   1748\u001b[0m X, y, groups \u001b[38;5;241m=\u001b[39m indexable(X, y, groups)\n\u001b[1;32m-> 1749\u001b[0m \u001b[43m\u001b[49m\u001b[38;5;28;43;01mfor\u001b[39;49;00m\u001b[43m \u001b[49m\u001b[43mtrain\u001b[49m\u001b[43m,\u001b[49m\u001b[43m \u001b[49m\u001b[43mtest\u001b[49m\u001b[43m \u001b[49m\u001b[38;5;129;43;01min\u001b[39;49;00m\u001b[43m \u001b[49m\u001b[38;5;28;43mself\u001b[39;49m\u001b[38;5;241;43m.\u001b[39;49m\u001b[43m_iter_indices\u001b[49m\u001b[43m(\u001b[49m\u001b[43mX\u001b[49m\u001b[43m,\u001b[49m\u001b[43m \u001b[49m\u001b[43my\u001b[49m\u001b[43m,\u001b[49m\u001b[43m \u001b[49m\u001b[43mgroups\u001b[49m\u001b[43m)\u001b[49m\u001b[43m:\u001b[49m\n\u001b[0;32m   1750\u001b[0m \u001b[43m    \u001b[49m\u001b[38;5;28;43;01myield\u001b[39;49;00m\u001b[43m \u001b[49m\u001b[43mtrain\u001b[49m\u001b[43m,\u001b[49m\u001b[43m \u001b[49m\u001b[43mtest\u001b[49m\n",
            "File \u001b[1;32mc:\\Users\\Dell\\Desktop\\Bachelor\\image_classification\\env\\Lib\\site-packages\\sklearn\\model_selection\\_split.py:2150\u001b[0m, in \u001b[0;36mStratifiedShuffleSplit._iter_indices\u001b[1;34m(self, X, y, groups)\u001b[0m\n\u001b[0;32m   2148\u001b[0m class_counts \u001b[38;5;241m=\u001b[39m np\u001b[38;5;241m.\u001b[39mbincount(y_indices)\n\u001b[0;32m   2149\u001b[0m \u001b[38;5;28;01mif\u001b[39;00m np\u001b[38;5;241m.\u001b[39mmin(class_counts) \u001b[38;5;241m<\u001b[39m \u001b[38;5;241m2\u001b[39m:\n\u001b[1;32m-> 2150\u001b[0m     \u001b[38;5;28;01mraise\u001b[39;00m \u001b[38;5;167;01mValueError\u001b[39;00m(\n\u001b[0;32m   2151\u001b[0m         \u001b[38;5;124m\"\u001b[39m\u001b[38;5;124mThe least populated class in y has only 1\u001b[39m\u001b[38;5;124m\"\u001b[39m\n\u001b[0;32m   2152\u001b[0m         \u001b[38;5;124m\"\u001b[39m\u001b[38;5;124m member, which is too few. The minimum\u001b[39m\u001b[38;5;124m\"\u001b[39m\n\u001b[0;32m   2153\u001b[0m         \u001b[38;5;124m\"\u001b[39m\u001b[38;5;124m number of groups for any class cannot\u001b[39m\u001b[38;5;124m\"\u001b[39m\n\u001b[0;32m   2154\u001b[0m         \u001b[38;5;124m\"\u001b[39m\u001b[38;5;124m be less than 2.\u001b[39m\u001b[38;5;124m\"\u001b[39m\n\u001b[0;32m   2155\u001b[0m     )\n\u001b[0;32m   2157\u001b[0m \u001b[38;5;28;01mif\u001b[39;00m n_train \u001b[38;5;241m<\u001b[39m n_classes:\n\u001b[0;32m   2158\u001b[0m     \u001b[38;5;28;01mraise\u001b[39;00m \u001b[38;5;167;01mValueError\u001b[39;00m(\n\u001b[0;32m   2159\u001b[0m         \u001b[38;5;124m\"\u001b[39m\u001b[38;5;124mThe train_size = \u001b[39m\u001b[38;5;132;01m%d\u001b[39;00m\u001b[38;5;124m should be greater or \u001b[39m\u001b[38;5;124m\"\u001b[39m\n\u001b[0;32m   2160\u001b[0m         \u001b[38;5;124m\"\u001b[39m\u001b[38;5;124mequal to the number of classes = \u001b[39m\u001b[38;5;132;01m%d\u001b[39;00m\u001b[38;5;124m\"\u001b[39m \u001b[38;5;241m%\u001b[39m (n_train, n_classes)\n\u001b[0;32m   2161\u001b[0m     )\n",
            "\u001b[1;31mValueError\u001b[0m: The least populated class in y has only 1 member, which is too few. The minimum number of groups for any class cannot be less than 2."
          ]
        }
      ],
      "source": [
        "from sklearn.model_selection import train_test_split\n",
        "\n",
        "# ...\n",
        "\n",
        "# Split data for each cluster\n",
        "clusters = data['cluster'].unique()\n",
        "train_data = {}\n",
        "test_data = {}\n",
        "val_data = {}\n",
        "\n",
        "print(\"we have \", len(clusters), \"clusters\")\n",
        "for cluster in clusters:\n",
        "    cluster_data = data[data['cluster'] == cluster]\n",
        "    labels = cluster_data['label']\n",
        "    print(f\"Cluster {cluster} class distribution:\")\n",
        "    print(\"total images in the current cluster:\", len(cluster_data))\n",
        "    print(labels.value_counts())\n",
        "    X_train, X_temp = train_test_split(cluster_data, test_size=0.2, stratify=labels, random_state=42)\n",
        "    label_test_val = X_temp['label']\n",
        "    X_test, X_val = train_test_split(X_temp, test_size=0.5, stratify=label_test_val, random_state=42)\n",
        "\n",
        "    train_data[cluster] = X_train\n",
        "    test_data[cluster] = X_test\n",
        "    val_data[cluster] = X_val\n",
        "\n",
        "    print(f\"Cluster {cluster}:\")\n",
        "    print('The shape of train data', X_train.shape)\n",
        "    print('The shape of test data', X_test.shape)\n",
        "    print('The shape of validation data', X_val.shape)\n",
        "    print(\" \")\n",
        "\n",
        "# ..."
      ]
    },
    {
      "cell_type": "markdown",
      "metadata": {},
      "source": [
        "<h1> 3 - Creating Image Data Generator <h1>"
      ]
    },
    {
      "cell_type": "code",
      "execution_count": null,
      "metadata": {
        "colab": {
          "base_uri": "https://localhost:8080/"
        },
        "id": "96TshXPJOSrV",
        "outputId": "e82d25d8-db39-45be-d2b4-771d5d644a6c"
      },
      "outputs": [],
      "source": [
        "# 3 --------------------------------------------------------- Creating Image Data Generator\n",
        "# region\n",
        "# @title 3 - Creating Image Data Generator  { display-mode: \"form\" }\n",
        "start_time = time.time()\n",
        "\n",
        "image_channel = 3\n",
        "if tpu:\n",
        "    bat_size = 128 * strategy.num_replicas_in_sync\n",
        "else:    \n",
        "    bat_size = 32\n",
        "\n",
        "# Creating image data generator\n",
        "train_datagen = ImageDataGenerator(rescale=1./255,\n",
        "                                    rotation_range = 15,\n",
        "                                    horizontal_flip = True,\n",
        "                                    zoom_range = 0.2,\n",
        "                                    shear_range = 0.1,\n",
        "                                    fill_mode = 'reflect',\n",
        "                                    width_shift_range = 0.1,\n",
        "                                    height_shift_range = 0.1)\n",
        "test_datagen = ImageDataGenerator(rescale=1./255)\n",
        "\n",
        "# Applying image data gernerator to train and test data\n",
        "\n",
        "# print(\"all entities path : \", all_entities_path)\n",
        "# print (\"X_train head: \", X_train.head())\n",
        "# print (\"X_val head: \", X_val.head())\n",
        "# print (\"X_test head: \", X_test.head())\n",
        "\n",
        "train_generator = train_datagen.flow_from_dataframe(X_train,\n",
        "                                                directory = ready_data_path ,\n",
        "                                                x_col= 'filename',\n",
        "                                                y_col= 'label',\n",
        "                                                batch_size = bat_size,\n",
        "                                                target_size = (image_size,image_size),\n",
        "                                                class_mode='categorical')\n",
        "# print(\"tain generator indicise : \" ,train_generator.class_indices)\n",
        "# print(\"corrupted files : \", corrupted_file_paths)\n",
        "val_generator = test_datagen.flow_from_dataframe(X_val,\n",
        "                                                directory = ready_data_path ,\n",
        "                                                x_col= 'filename',\n",
        "                                                y_col= 'label',\n",
        "                                                batch_size = bat_size,\n",
        "                                                target_size = (image_size,image_size),\n",
        "                                                shuffle=False,\n",
        "                                                class_mode='categorical')\n",
        "\n",
        "test_generator = test_datagen.flow_from_dataframe(X_test,\n",
        "                                                directory = ready_data_path ,\n",
        "                                                x_col= 'filename',\n",
        "                                                y_col= 'label',\n",
        "                                                batch_size = bat_size,\n",
        "                                                target_size = (image_size,image_size),\n",
        "                                                shuffle=False,\n",
        "                                                class_mode='categorical')\n",
        "\n",
        "calculate_and_print_time(start_time, 'Creating Image Data Generator')\n",
        "# print(\"Creating Image Data Generator done\")\n",
        "\n",
        "# endregion\n",
        "\n"
      ]
    },
    {
      "cell_type": "markdown",
      "metadata": {},
      "source": [
        "<h1> 4 - Deep Learning Model <h1>"
      ]
    },
    {
      "cell_type": "code",
      "execution_count": null,
      "metadata": {
        "id": "Fm1hLn5HOZt_"
      },
      "outputs": [],
      "source": [
        "# 4 --------------------------------------------------------- Deep Learning Model\n",
        "# region\n",
        "# @title 4 - Deep Learning Model { display-mode: \"form\" }\n",
        "start_time = time.time()\n",
        "\n",
        "def create_model():\n",
        "    model = Sequential()\n",
        "\n",
        "    # Input Layer\n",
        "    model.add(Conv2D(32,(3,3),activation='relu', padding='same', input_shape = (image_size,image_size,image_channel)))\n",
        "    model.add(BatchNormalization())\n",
        "    model.add(MaxPooling2D(pool_size=(2,2)))\n",
        "    model.add(Dropout(0.2))\n",
        "\n",
        "    # Block 1\n",
        "    model.add(Conv2D(64,(3,3),activation='relu', padding='same'))\n",
        "    model.add(BatchNormalization())\n",
        "    model.add(MaxPooling2D(pool_size=(2,2)))\n",
        "    model.add(Dropout(0.2))\n",
        "\n",
        "    # Block 2\n",
        "    model.add(Conv2D(128,(3,3),activation='relu', padding='same'))\n",
        "    model.add(BatchNormalization())\n",
        "    model.add(MaxPooling2D(pool_size=(2,2)))\n",
        "    model.add(Dropout(0.2))\n",
        "\n",
        "    # Block 3\n",
        "    model.add(Conv2D(256,(3,3),activation='relu', padding='same'))\n",
        "    model.add(BatchNormalization())\n",
        "    model.add(MaxPooling2D(pool_size=(2,2)))\n",
        "    model.add(Dropout(0.2))\n",
        "\n",
        "    # Fully Connected layers\n",
        "    model.add(Flatten())\n",
        "    model.add(Dense(512,activation='relu'))\n",
        "    model.add(BatchNormalization())\n",
        "    model.add(Dropout(0.2))\n",
        "\n",
        "    # Output layer\n",
        "    # get the number of classes\n",
        "    num_classes = len(train_generator.class_indices)\n",
        "    model.add(Dense(num_classes,activation='softmax'))\n",
        "\n",
        "    return model\n",
        "\n",
        "\n",
        "with strategy.scope():\n",
        "    model = create_model()\n",
        "# model.summary()\n",
        "\n",
        "calculate_and_print_time(start_time, 'Deep Learning Model')\n",
        "# print(\"Deep Learning Model done\")\n",
        "\n",
        "# endregion\n",
        "\n"
      ]
    },
    {
      "cell_type": "markdown",
      "metadata": {},
      "source": [
        "<h1> 5 - Callbacks <h1>"
      ]
    },
    {
      "cell_type": "code",
      "execution_count": null,
      "metadata": {
        "id": "TyQcgdqMOguE"
      },
      "outputs": [],
      "source": [
        "# 5 --------------------------------------------------------- Callbacks\n",
        "# region\n",
        "# @title 5 - Callbacks { display-mode: \"form\" }\n",
        "start_time = time.time()\n",
        "\n",
        "learning_rate_reduction = ReduceLROnPlateau(monitor = 'val_accuracy',\n",
        "                                            patience=2,\n",
        "                                            factor=0.5,\n",
        "                                            min_lr = 0.00001,\n",
        "                                            verbose = 1)\n",
        "\n",
        "early_stoping = EarlyStopping(monitor='val_loss',patience= 3,restore_best_weights=True,verbose=0)\n",
        "\n",
        "calculate_and_print_time(start_time, 'Callbacks')\n",
        "# print(\"Callbacks done\")\n",
        "\n",
        "# endregion\n"
      ]
    },
    {
      "cell_type": "markdown",
      "metadata": {},
      "source": [
        "<h1> 6 - Model Compilation <h1>"
      ]
    },
    {
      "cell_type": "code",
      "execution_count": null,
      "metadata": {
        "id": "wAPVKdDFOiAM"
      },
      "outputs": [],
      "source": [
        "# 6 --------------------------------------------------------- Model Compilation\n",
        "# region\n",
        "# @title 6 - Model Compilation { display-mode: \"form\" }\n",
        "start_time = time.time()\n",
        "\n",
        "with strategy.scope():\n",
        "    model.compile(optimizer='adam',loss='categorical_crossentropy',metrics=['accuracy'])\n",
        "\n",
        "calculate_and_print_time(start_time, 'Model Compilation')\n",
        "# print(\"Model Compilation done\")\n",
        "\n",
        "# endregion\n",
        "\n",
        "#"
      ]
    },
    {
      "cell_type": "markdown",
      "metadata": {},
      "source": [
        "<h1> 7 - Model Fitting <h1>"
      ]
    },
    {
      "cell_type": "code",
      "execution_count": null,
      "metadata": {
        "colab": {
          "base_uri": "https://localhost:8080/"
        },
        "id": "FDbqrio3OjWh",
        "outputId": "7b04d037-eeb6-44a3-f65b-73c7bfb4d85c"
      },
      "outputs": [],
      "source": [
        "# 7 --------------------------------------------------------- Model Fitting\n",
        "# region\n",
        "# @title 7 - Model Fitting { display-mode: \"form\" }\n",
        "start_time = time.time()\n",
        "\n",
        "print(\"number of samples in train generator: \", train_generator.samples)\n",
        "print(\"number of samples in test generator: \", test_generator.samples)\n",
        "print(\"batch size: \", bat_size)\n",
        "\n",
        "steps_per_epoch = train_generator.samples // train_generator.batch_size\n",
        "validation_steps = val_generator.samples // val_generator.batch_size\n",
        "\n",
        "print(\"steps_per_epoch: \", steps_per_epoch)\n",
        "print(\"validation_steps: \", validation_steps)\n",
        "\n",
        "with strategy.scope():\n",
        "    training_history = model.fit(train_generator,\n",
        "                    validation_data = val_generator,\n",
        "                    callbacks=[early_stoping,learning_rate_reduction],\n",
        "                    epochs = EPOCHS,\n",
        "                    steps_per_epoch = steps_per_epoch,\n",
        "                    validation_steps = validation_steps,\n",
        "                   )\n",
        "\n",
        "calculate_and_print_time(start_time, 'Model Fitting')\n",
        "# print(\"Model Fitting done\")\n",
        "# endregion\n",
        "\n",
        "#"
      ]
    },
    {
      "cell_type": "markdown",
      "metadata": {},
      "source": [
        "<h1> 8 - Plot the results <h1>"
      ]
    },
    {
      "cell_type": "code",
      "execution_count": null,
      "metadata": {
        "id": "g9VvirSWOk0v"
      },
      "outputs": [],
      "source": [
        "# plots for accuracy and Loss with epochs\n",
        "start_time = time.time()\n",
        "\n",
        "error = pd.DataFrame(training_history.history)\n",
        "\n",
        "plt.figure(figsize=(18,5),dpi=200)\n",
        "sns.set_style('darkgrid')\n",
        "\n",
        "plt.subplot(121)\n",
        "plt.title('Cross Entropy Loss',fontsize=15)\n",
        "plt.xlabel('Epochs',fontsize=12)\n",
        "plt.ylabel('Loss',fontsize=12)\n",
        "plt.plot(error['loss'], label='Training Loss')\n",
        "plt.plot(error['val_loss'], label='Validation Loss')\n",
        "plt.legend()\n",
        "\n",
        "plt.subplot(122)\n",
        "plt.title('Classification Accuracy',fontsize=15)\n",
        "plt.xlabel('Epochs',fontsize=12)\n",
        "plt.ylabel('Accuracy',fontsize=12)\n",
        "plt.plot(error['accuracy'], label='Training Accuracy')\n",
        "plt.plot(error['val_accuracy'], label='Validation Accuracy')\n",
        "plt.legend()\n",
        "\n",
        "plt.show(block=False)  # hosain : prevent the popup\n",
        "\n",
        "calculate_and_print_time(start_time, 'Plot the results')"
      ]
    },
    {
      "cell_type": "markdown",
      "metadata": {},
      "source": [
        "<h1> 9 - Evaluation <h1>"
      ]
    },
    {
      "cell_type": "code",
      "execution_count": null,
      "metadata": {
        "id": "VV3c2l1ROmpD"
      },
      "outputs": [],
      "source": [
        "# 9 --------------------------------------------------------- Evaluation\n",
        "# region\n",
        "# @title 9 - Evaluation { display-mode: \"form\" }\n",
        "# Evaluvate for train generator\n",
        "start_time = time.time()\n",
        "\n",
        "loss,acc = model.evaluate(train_generator,batch_size = bat_size, verbose = 0)\n",
        "\n",
        "print('The accuracy of the model for training data is:',acc*100)\n",
        "print('The Loss of the model for training data is:',loss)\n",
        "\n",
        "# Evaluvate for validation generator\n",
        "loss,acc = model.evaluate(val_generator,batch_size = bat_size, verbose = 0)\n",
        "\n",
        "print('The accuracy of the model for validation data is:',acc*100)\n",
        "print('The Loss of the model for validation data is:',loss)\n",
        "\n",
        "calculate_and_print_time(start_time, 'Evaluation')\n",
        "# print(\"Evaluation done\")\n",
        "\n",
        "#  endregion\n",
        "\n",
        "#"
      ]
    },
    {
      "cell_type": "markdown",
      "metadata": {},
      "source": [
        "<h1> 10 - save the model <h1>"
      ]
    },
    {
      "cell_type": "code",
      "execution_count": null,
      "metadata": {
        "id": "HRWnjhtoOoVd"
      },
      "outputs": [],
      "source": [
        "# 10 --------------------------------------------------------- save the model\n",
        "# region\n",
        "# @title 10 - save the model { display-mode: \"form\" }\n",
        "start_time = time.time()\n",
        "model_name = 'model ' + 'img_size_' + str(image_size) + '.keras'\n",
        "model.save(model_name)\n",
        "# save the labels of the classes ,with same order they appear in confusion matrix,\n",
        "#  to print the label of the predicted class when using the model\n",
        "\n",
        "class_indices = train_generator.class_indices\n",
        "index_to_label = {index: label for label, index in class_indices.items()}\n",
        "created_json_file_name = f'index_to_label img_size_{image_size}.json'\n",
        "\n",
        "with open(created_json_file_name, 'w', encoding='utf-8') as f:\n",
        "    json.dump(index_to_label, f, ensure_ascii=False)\n",
        "\n",
        "\n",
        "calculate_and_print_time(start_time, 'saving the model')\n",
        "# print(\"Model saved\")\n",
        "# endregion\n",
        "\n",
        "#"
      ]
    },
    {
      "cell_type": "markdown",
      "metadata": {},
      "source": [
        "<h1> 11 - Prediction <h1>"
      ]
    },
    {
      "cell_type": "code",
      "execution_count": null,
      "metadata": {
        "id": "vlpmx-GlOp3M"
      },
      "outputs": [],
      "source": [
        "# 11 --------------------------------------------------------- Prediction\n",
        "# region\n",
        "# @title 11 - Prediction { display-mode: \"form\" }\n",
        "start_time = time.time()\n",
        "result = model.predict(test_generator,batch_size = bat_size,verbose = 0)\n",
        "\n",
        "y_pred = np.argmax(result, axis = 1)\n",
        "\n",
        "y_true = test_generator.labels\n",
        "\n",
        "# Evaluvate\n",
        "loss,acc = model.evaluate(test_generator, batch_size = bat_size, verbose = 0)\n",
        "\n",
        "print('The accuracy of the model for testing data is:',acc*100)\n",
        "print('The Loss of the model for testing data is:',loss)\n",
        "\n",
        "calculate_and_print_time(start_time, 'Prediction')\n",
        "# print(\"Prediction done\")\n",
        "\n",
        "# endregion\n",
        "\n",
        "#"
      ]
    },
    {
      "cell_type": "markdown",
      "metadata": {},
      "source": [
        "<h1> 12 - Classification Report <h1>"
      ]
    },
    {
      "cell_type": "code",
      "execution_count": null,
      "metadata": {
        "id": "GSFPmSxjOrNe"
      },
      "outputs": [],
      "source": [
        "# 12 --------------------------------------------------------- Classification Report\n",
        "# region\n",
        "# @title 12 - Classification Report { display-mode: \"form\" }\n",
        "start_time = time.time()\n",
        "\n",
        "print(\"all entities names:\", all_entities_names)\n",
        "print(classification_report(y_true, y_pred,target_names=all_entities_names))\n",
        "\n",
        "calculate_and_print_time(start_time , 'Classification Report')\n",
        "# print(\"Classification Report done\")\n",
        "\n",
        "# endregion\n",
        "\n",
        "#"
      ]
    },
    {
      "cell_type": "markdown",
      "metadata": {},
      "source": [
        "<h1> 13 - Confusion Matrix <h1>"
      ]
    },
    {
      "cell_type": "code",
      "execution_count": null,
      "metadata": {
        "id": "B4g02--rOspL"
      },
      "outputs": [],
      "source": [
        "\n",
        "# 13 --------------------------------------------------------- Confusion Matrix\n",
        "# Normalize the confusion matrix\n",
        "# region\n",
        "# @title 13 - Confusion Matrix { display-mode: \"form\" }\n",
        "start_time = time.time()\n",
        "\n",
        "confusion_mtx = confusion_matrix(y_true, y_pred)\n",
        "confusion_mtx = confusion_mtx.astype('float') / confusion_mtx.sum(axis=1)[:, np.newaxis]\n",
        "\n",
        "num_classes = confusion_mtx.shape[0]\n",
        "figsize = 40  # adjust as needed\n",
        "\n",
        "f, ax = plt.subplots(figsize=(figsize, figsize), dpi=200)\n",
        "sns.heatmap(confusion_mtx, annot=True, linewidths=0.1, cmap=\"gist_yarg_r\", linecolor=\"black\", fmt='.2%', ax=ax, cbar=False, xticklabels=all_entities_names, yticklabels=all_entities_names)\n",
        "\n",
        "plt.xlabel(\"Predicted Label\", fontsize=10)\n",
        "plt.ylabel(\"True Label\", fontsize=10)\n",
        "plt.title(\"Confusion Matrix\", fontsize=13)\n",
        "\n",
        "# plt.savefig('confusion_matrix.png', dpi=300)\n",
        "plt.show()\n",
        "\n",
        "\n",
        "# Print accuracy for each class\n",
        "for i in range(num_classes):\n",
        "    true_positives = confusion_mtx[i, i]\n",
        "    accuracy = true_positives * 100  # convert to percentage\n",
        "    print(f\"Accuracy for class ( {all_entities_names[i]} ) : {accuracy:.2f}%\")\n",
        "\n",
        "    # Print confusion with other classes\n",
        "    for j in range(num_classes):\n",
        "        if i != j and confusion_mtx[i, j] > 0:\n",
        "            confusion = confusion_mtx[i, j] * 100  # convert to percentage\n",
        "            print(f\"Class ({all_entities_names[i]}) was wrongly seen as class ({all_entities_names[j]}) in {confusion:.2f}% of cases\")\n",
        "    print()        \n",
        "\n",
        "calculate_and_print_time(start_time , 'Confusion Matrix')\n",
        "# print(\"Confusion Matrix done\")\n",
        "\n",
        "# endregion "
      ]
    },
    {
      "cell_type": "markdown",
      "metadata": {},
      "source": [
        "<h1> 14 - Execution Time <h1>"
      ]
    },
    {
      "cell_type": "code",
      "execution_count": null,
      "metadata": {},
      "outputs": [],
      "source": [
        "# 14 --------------------------------------------------------- Execution Time\n",
        "# region\n",
        "# @title 14 - Execution time  { display-mode: \"form\" }\n",
        "\n",
        "calculate_and_print_time(global_start_time , 'Whole notebook execution time')\n",
        "\n",
        "\n"
      ]
    },
    {
      "cell_type": "markdown",
      "metadata": {},
      "source": [
        "<h1> 15 - reference codes <h1>"
      ]
    },
    {
      "cell_type": "code",
      "execution_count": null,
      "metadata": {},
      "outputs": [],
      "source": [
        "# --------------------------------------------------------- reference codes\n",
        "# region\n",
        "#  @title  reference codes { display-mode: \"form\" }\n",
        "\n",
        "# from google.colab import drive\n",
        "# drive.mount('/content/gdrive')\n",
        "\n",
        "# import zipfile\n",
        "# import os\n",
        "# extract_source = \"/content/gdrive/My Drive/GUC Bachelor : Arabic Image-to-Letters Script Recognition/data set/data set 2.zip\"\n",
        "# extract_destination = \"/content/extracted_from_drive\"\n",
        "# zip_ref = zipfile.ZipFile(extract_source, 'r')\n",
        "# print(\"extracting...\")\n",
        "# zip_ref.extractall(extract_destination)\n",
        "# extracted_folder_name = os.listdir(extract_destination)[0]\n",
        "# zip_ref.close()\n",
        "# print(\"extracted files from drive to colab successfully !\")\n",
        "# all_entities_path = os.path.join(extract_destination, extracted_folder_name)\n",
        "\n",
        "\n",
        "# def get_corrupted_files_paths(all_entities_path):\n",
        "#     all_entities_names = os.listdir(all_entities_path)\n",
        "#     corrupted_file_paths = set()\n",
        "#     print(\"\\nVerifying all files are non-corrupted images...\")\n",
        "#     for entity_name in all_entities_names:\n",
        "#         entity_path = os.path.join(all_entities_path, entity_name)\n",
        "#         for filename in os.listdir(entity_path):\n",
        "#             file_path = os.path.join(entity_path, filename)\n",
        "#             if not image_is_ok(file_path):\n",
        "#                 print(f\"File {file_path} is corrupted and will be skipped.\")\n",
        "#                 corrupted_file_paths.add(file_path)\n",
        "#     print(\"Your data is ok.\" if not corrupted_file_paths else \"Done reporting error files.\")\n",
        "#     return corrupted_file_paths\n",
        "\n"
      ]
    }
  ],
  "metadata": {
    "colab": {
      "provenance": []
    },
    "kernelspec": {
      "display_name": "Python 3",
      "name": "python3"
    },
    "language_info": {
      "codemirror_mode": {
        "name": "ipython",
        "version": 3
      },
      "file_extension": ".py",
      "mimetype": "text/x-python",
      "name": "python",
      "nbconvert_exporter": "python",
      "pygments_lexer": "ipython3",
      "version": "3.11.8"
    }
  },
  "nbformat": 4,
  "nbformat_minor": 0
}
