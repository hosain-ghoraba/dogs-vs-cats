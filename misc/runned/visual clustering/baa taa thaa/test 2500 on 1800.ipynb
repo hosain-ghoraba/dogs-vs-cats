{
 "cells": [
  {
   "cell_type": "code",
   "execution_count": 1,
   "id": "9af7ae8f",
   "metadata": {
    "_cell_guid": "b1076dfc-b9ad-4769-8c92-a6c4dae69d19",
    "_uuid": "8f2839f25d086af736a60e9eeb907d3b93b6e0e5",
    "execution": {
     "iopub.execute_input": "2024-04-24T09:02:33.854195Z",
     "iopub.status.busy": "2024-04-24T09:02:33.853760Z",
     "iopub.status.idle": "2024-04-24T09:04:38.021594Z",
     "shell.execute_reply": "2024-04-24T09:04:38.020491Z"
    },
    "papermill": {
     "duration": 124.175407,
     "end_time": "2024-04-24T09:04:38.024163",
     "exception": false,
     "start_time": "2024-04-24T09:02:33.848756",
     "status": "completed"
    },
    "tags": []
   },
   "outputs": [
    {
     "name": "stderr",
     "output_type": "stream",
     "text": [
      "2024-04-24 09:02:35.561641: E external/local_xla/xla/stream_executor/cuda/cuda_dnn.cc:9261] Unable to register cuDNN factory: Attempting to register factory for plugin cuDNN when one has already been registered\n",
      "2024-04-24 09:02:35.561747: E external/local_xla/xla/stream_executor/cuda/cuda_fft.cc:607] Unable to register cuFFT factory: Attempting to register factory for plugin cuFFT when one has already been registered\n",
      "2024-04-24 09:02:35.691638: E external/local_xla/xla/stream_executor/cuda/cuda_blas.cc:1515] Unable to register cuBLAS factory: Attempting to register factory for plugin cuBLAS when one has already been registered\n"
     ]
    },
    {
     "name": "stdout",
     "output_type": "stream",
     "text": [
      "copying models to kaggle to be able to work with WRITE ACESS ...\n",
      "loading models in RAM...\n",
      "loading model in : /kaggle/working/models/1800-baa-taa-thaa-model_dataset_imgsize_imgsize_128_model.keras ...\n",
      "Testing dataset : /kaggle/input/2500-baa-taa-thaa ...\n",
      "trained data size : 1800\n",
      "image size : 128\n",
      "using : 1800 ,128_model ...\n",
      "Testing model : 1800 ,128_model ...\n",
      "Found 7443 images belonging to 3 classes.\n",
      "\n"
     ]
    },
    {
     "name": "stderr",
     "output_type": "stream",
     "text": [
      "/opt/conda/lib/python3.10/site-packages/keras/src/trainers/data_adapters/py_dataset_adapter.py:120: UserWarning: Your `PyDataset` class should call `super().__init__(**kwargs)` in its constructor. `**kwargs` can include `workers`, `use_multiprocessing`, `max_queue_size`. Do not pass these arguments to `fit()`, as they will be ignored.\n",
      "  self._warn_if_super_not_called()\n"
     ]
    },
    {
     "name": "stdout",
     "output_type": "stream",
     "text": [
      "\u001b[1m233/233\u001b[0m \u001b[32m━━━━━━━━━━━━━━━━━━━━\u001b[0m\u001b[37m\u001b[0m \u001b[1m42s\u001b[0m 174ms/step\n",
      "Accuracy of model 1800 ,128_model on dataset 2500-baa-taa-thaa : 0.333\n",
      "Testing dataset : /kaggle/input/1800-baa-taa-thaa ...\n",
      "trained data size : 1800\n",
      "image size : 128\n",
      "using : 1800 ,128_model ...\n",
      "Testing model : 1800 ,128_model ...\n",
      "Found 5616 images belonging to 3 classes.\n",
      "\n",
      "\u001b[1m  2/176\u001b[0m \u001b[37m━━━━━━━━━━━━━━━━━━━━\u001b[0m \u001b[1m9s\u001b[0m 56ms/step "
     ]
    },
    {
     "name": "stderr",
     "output_type": "stream",
     "text": [
      "/opt/conda/lib/python3.10/site-packages/keras/src/trainers/data_adapters/py_dataset_adapter.py:120: UserWarning: Your `PyDataset` class should call `super().__init__(**kwargs)` in its constructor. `**kwargs` can include `workers`, `use_multiprocessing`, `max_queue_size`. Do not pass these arguments to `fit()`, as they will be ignored.\n",
      "  self._warn_if_super_not_called()\n"
     ]
    },
    {
     "name": "stdout",
     "output_type": "stream",
     "text": [
      "\u001b[1m176/176\u001b[0m \u001b[32m━━━━━━━━━━━━━━━━━━━━\u001b[0m\u001b[37m\u001b[0m \u001b[1m41s\u001b[0m 236ms/step\n",
      "Accuracy of model 1800 ,128_model on dataset 1800-baa-taa-thaa : 0.952\n",
      "all datasets accuracies : {'2500-baa-taa-thaa': {'1800 ,128_model': 0.333}, '1800-baa-taa-thaa': {'1800 ,128_model': 0.952}}\n"
     ]
    },
    {
     "data": {
      "text/html": [
       "<style type=\"text/css\">\n",
       "#T_2f775 th {\n",
       "  text-align: center;\n",
       "}\n",
       "#T_2f775_row0_col0 {\n",
       "  background-color: #9edae5;\n",
       "  color: #000000;\n",
       "}\n",
       "#T_2f775_row1_col0 {\n",
       "  background-color: #1f77b4;\n",
       "  color: #f1f1f1;\n",
       "}\n",
       "</style>\n",
       "<table id=\"T_2f775\">\n",
       "  <thead>\n",
       "    <tr>\n",
       "      <th class=\"blank level0\" >&nbsp;</th>\n",
       "      <th id=\"T_2f775_level0_col0\" class=\"col_heading level0 col0\" >1800 ,128_model</th>\n",
       "    </tr>\n",
       "  </thead>\n",
       "  <tbody>\n",
       "    <tr>\n",
       "      <th id=\"T_2f775_level0_row0\" class=\"row_heading level0 row0\" >2500-baa-taa-thaa</th>\n",
       "      <td id=\"T_2f775_row0_col0\" class=\"data row0 col0\" >0.333000</td>\n",
       "    </tr>\n",
       "    <tr>\n",
       "      <th id=\"T_2f775_level0_row1\" class=\"row_heading level0 row1\" >1800-baa-taa-thaa</th>\n",
       "      <td id=\"T_2f775_row1_col0\" class=\"data row1 col0\" >0.952000</td>\n",
       "    </tr>\n",
       "  </tbody>\n",
       "</table>\n"
      ],
      "text/plain": [
       "<pandas.io.formats.style.Styler at 0x7a8b37b0fca0>"
      ]
     },
     "metadata": {},
     "output_type": "display_data"
    }
   ],
   "source": [
    "from tensorflow.keras.preprocessing.image import ImageDataGenerator\n",
    "from tensorflow.keras.models import load_model\n",
    "from sklearn.metrics import accuracy_score\n",
    "import pandas as pd\n",
    "import shutil\n",
    "import os\n",
    "import numpy as np\n",
    "\n",
    "def copy_models_to_kaggle(model_paths):\n",
    "    os.makedirs('/kaggle/working/models', exist_ok=True)\n",
    "    new_paths = []\n",
    "    for model_path in model_paths:\n",
    "        model_trained_data_size = model_path.split(\"/\")[3]\n",
    "        model_trained_img_size = model_path.split(\"/\")[5]\n",
    "        new_model_path = '/kaggle/working/models/' + model_trained_data_size + \"_dataset\" + \"_imgsize_\" + model_trained_img_size + \"_model.keras\"\n",
    "        new_paths.append(new_model_path)\n",
    "        if os.path.exists(new_model_path):\n",
    "            # raise Exception(f\"model already exists at {new_model_path}\")\n",
    "            print(f\"model already exists at {new_model_path}\")\n",
    "        shutil.copy(model_path, new_model_path)\n",
    "    return new_paths\n",
    " \n",
    "\n",
    "batch_size = 32\n",
    "test_dataset_paths = [\n",
    "    # '/kaggle/input/sample-1800',\n",
    "    # '/kaggle/input/sample-2500',\n",
    "    # '/kaggle/input/clean-2500-letters-only',\n",
    "    # '/kaggle/input/clean-1800-letters-only'\n",
    "    '/kaggle/input/2500-baa-taa-thaa',\n",
    "    '/kaggle/input/1800-baa-taa-thaa'\n",
    "]\n",
    "models_paths = [\n",
    "        # '/kaggle/input/1800-model/keras/16/1/model img_size_16.keras',\n",
    "        # '/kaggle/input/1800-model/keras/32/1/model img_size_32.keras',\n",
    "        # '/kaggle/input/1800-model/keras/64/1/model img_size_64.keras',\n",
    "        # '/kaggle/input/1800-model/keras/128/1/model img_size_128.keras',\n",
    "        # '/kaggle/input/1800-model/keras/256/1/model img_size_256.keras',\n",
    "        # '/kaggle/input/1800-model/keras/300/1/model img_size_300.keras',\n",
    "\n",
    "        # '/kaggle/input/2500-model/keras/16/1/model img_size_16.keras',\n",
    "        # '/kaggle/input/2500-model/keras/32/1/model img_size_32.keras',\n",
    "        # '/kaggle/input/2500-model/keras/64/1/model img_size_64.keras',\n",
    "        # '/kaggle/input/2500-model/keras/128/1/model img_size_128.keras',\n",
    "        # '/kaggle/input/2500-model/keras/256/1/model img_size_256.keras',\n",
    "        # '/kaggle/input/2500-model/keras/300/1/model img_size_300.keras'\n",
    "        '/kaggle/input/1800-baa-taa-thaa-model/keras/imgsize_128/1/model_5616_images_img_size_128.keras'\n",
    "    \n",
    "]\n",
    "print(\"copying models to kaggle to be able to work with WRITE ACESS ...\")\n",
    "copied_models_paths = copy_models_to_kaggle(models_paths)\n",
    "print(f\"loading models in RAM...\")\n",
    "model_path_to_model = {}\n",
    "for model_path in copied_models_paths:\n",
    "    print(f\"loading model in : {model_path} ...\")\n",
    "    model = load_model(model_path)\n",
    "    model_path_to_model[model_path] = model\n",
    "\n",
    "all_datasets_accuracies = {}\n",
    "for dataset_path in test_dataset_paths:\n",
    "    dataset_name  = dataset_path.split(\"/\")[-1]\n",
    "    print(f\"Testing dataset : {dataset_path} ...\")\n",
    "    dataset_test_accuracies = {}\n",
    "    for model_path in copied_models_paths:\n",
    "        # /kaggle/working/models/2500-model_dataset_imgsize_300_model.keras\n",
    "        trained_data_size = int(model_path.split(\"/\")[4].split(\"-\")[0])\n",
    "        print(f\"trained data size : {trained_data_size}\")\n",
    "        img_size = int(model_path.split(\"/\")[4].split(\"_\")[-2])\n",
    "        print(f\"image size : {img_size}\")\n",
    "        current_model_name =  str(trained_data_size) + \" ,\" + str(img_size) + \"_model\"\n",
    "        print(f\"using : {current_model_name} ...\")\n",
    "        model = model_path_to_model[model_path]\n",
    "\n",
    "        print(f\"Testing model : {current_model_name} ...\")\n",
    "        test_datagen = ImageDataGenerator(rescale=1./255)\n",
    "        test_generator = test_datagen.flow_from_directory(\n",
    "            dataset_path,\n",
    "            target_size=(img_size, img_size),\n",
    "            batch_size=batch_size,\n",
    "            class_mode='categorical',\n",
    "            shuffle=False)\n",
    "        print()\n",
    "\n",
    "        # Predict the output\n",
    "        steps = int(np.ceil(test_generator.samples / test_generator.batch_size))\n",
    "        predictions = model.predict(test_generator, steps=steps)\n",
    "        predictions = predictions.argmax(axis=-1)                    \n",
    "        true_classes = test_generator.classes\n",
    "        accuracy = round(accuracy_score(true_classes, predictions), 3)\n",
    "        dataset_test_accuracies[current_model_name] = accuracy\n",
    "        print(f\"Accuracy of model {current_model_name} on dataset {dataset_name} : {accuracy}\")\n",
    "    all_datasets_accuracies[dataset_name] = dataset_test_accuracies\n",
    "\n",
    "print(f\"all datasets accuracies : {all_datasets_accuracies}\")\n",
    "accuracies_df = pd.DataFrame(all_datasets_accuracies).transpose()\n",
    "accuracies_df = accuracies_df.style.background_gradient(cmap='tab20_r').set_table_styles([dict(selector=\"th\", props=[(\"text-align\", \"center\")])])\n",
    "display(accuracies_df)\n"
   ]
  }
 ],
 "metadata": {
  "kaggle": {
   "accelerator": "gpu",
   "dataSources": [
    {
     "datasetId": 4819728,
     "sourceId": 8177275,
     "sourceType": "datasetVersion"
    },
    {
     "datasetId": 4819790,
     "sourceId": 8177358,
     "sourceType": "datasetVersion"
    },
    {
     "datasetId": 4852399,
     "sourceId": 8193116,
     "sourceType": "datasetVersion"
    },
    {
     "datasetId": 4852442,
     "sourceId": 8193171,
     "sourceType": "datasetVersion"
    },
    {
     "datasetId": 4864472,
     "sourceId": 8208945,
     "sourceType": "datasetVersion"
    },
    {
     "datasetId": 4864638,
     "sourceId": 8209147,
     "sourceType": "datasetVersion"
    },
    {
     "isSourceIdPinned": true,
     "modelInstanceId": 30259,
     "sourceId": 35932,
     "sourceType": "modelInstanceVersion"
    },
    {
     "isSourceIdPinned": true,
     "modelInstanceId": 30261,
     "sourceId": 35934,
     "sourceType": "modelInstanceVersion"
    },
    {
     "isSourceIdPinned": true,
     "modelInstanceId": 30265,
     "sourceId": 35938,
     "sourceType": "modelInstanceVersion"
    },
    {
     "isSourceIdPinned": true,
     "modelInstanceId": 30269,
     "sourceId": 35942,
     "sourceType": "modelInstanceVersion"
    },
    {
     "isSourceIdPinned": true,
     "modelInstanceId": 30270,
     "sourceId": 35943,
     "sourceType": "modelInstanceVersion"
    },
    {
     "isSourceIdPinned": true,
     "modelInstanceId": 30273,
     "sourceId": 35946,
     "sourceType": "modelInstanceVersion"
    },
    {
     "isSourceIdPinned": true,
     "modelInstanceId": 30277,
     "sourceId": 35950,
     "sourceType": "modelInstanceVersion"
    },
    {
     "isSourceIdPinned": true,
     "modelInstanceId": 30281,
     "sourceId": 35956,
     "sourceType": "modelInstanceVersion"
    },
    {
     "isSourceIdPinned": true,
     "modelInstanceId": 30291,
     "sourceId": 35967,
     "sourceType": "modelInstanceVersion"
    },
    {
     "isSourceIdPinned": true,
     "modelInstanceId": 30292,
     "sourceId": 35968,
     "sourceType": "modelInstanceVersion"
    },
    {
     "isSourceIdPinned": true,
     "modelInstanceId": 30295,
     "sourceId": 35971,
     "sourceType": "modelInstanceVersion"
    },
    {
     "isSourceIdPinned": true,
     "modelInstanceId": 30296,
     "sourceId": 35972,
     "sourceType": "modelInstanceVersion"
    },
    {
     "isSourceIdPinned": true,
     "modelInstanceId": 31219,
     "sourceId": 37086,
     "sourceType": "modelInstanceVersion"
    }
   ],
   "dockerImageVersionId": 30699,
   "isGpuEnabled": true,
   "isInternetEnabled": true,
   "language": "python",
   "sourceType": "notebook"
  },
  "kernelspec": {
   "display_name": "Python 3",
   "language": "python",
   "name": "python3"
  },
  "language_info": {
   "codemirror_mode": {
    "name": "ipython",
    "version": 3
   },
   "file_extension": ".py",
   "mimetype": "text/x-python",
   "name": "python",
   "nbconvert_exporter": "python",
   "pygments_lexer": "ipython3",
   "version": "3.10.13"
  },
  "papermill": {
   "default_parameters": {},
   "duration": 128.867581,
   "end_time": "2024-04-24T09:04:39.888119",
   "environment_variables": {},
   "exception": null,
   "input_path": "__notebook__.ipynb",
   "output_path": "__notebook__.ipynb",
   "parameters": {},
   "start_time": "2024-04-24T09:02:31.020538",
   "version": "2.5.0"
  }
 },
 "nbformat": 4,
 "nbformat_minor": 5
}
