{
 "cells": [
  {
   "cell_type": "code",
   "execution_count": 1,
   "id": "b7d7d5e3",
   "metadata": {
    "_cell_guid": "b1076dfc-b9ad-4769-8c92-a6c4dae69d19",
    "_uuid": "8f2839f25d086af736a60e9eeb907d3b93b6e0e5",
    "execution": {
     "iopub.execute_input": "2024-04-22T15:16:59.403730Z",
     "iopub.status.busy": "2024-04-22T15:16:59.403367Z",
     "iopub.status.idle": "2024-04-22T16:08:28.663427Z",
     "shell.execute_reply": "2024-04-22T16:08:28.662369Z"
    },
    "papermill": {
     "duration": 3089.267327,
     "end_time": "2024-04-22T16:08:28.665794",
     "exception": false,
     "start_time": "2024-04-22T15:16:59.398467",
     "status": "completed"
    },
    "tags": []
   },
   "outputs": [
    {
     "name": "stderr",
     "output_type": "stream",
     "text": [
      "2024-04-22 15:17:01.080666: E external/local_xla/xla/stream_executor/cuda/cuda_dnn.cc:9261] Unable to register cuDNN factory: Attempting to register factory for plugin cuDNN when one has already been registered\n",
      "2024-04-22 15:17:01.080791: E external/local_xla/xla/stream_executor/cuda/cuda_fft.cc:607] Unable to register cuFFT factory: Attempting to register factory for plugin cuFFT when one has already been registered\n",
      "2024-04-22 15:17:01.194170: E external/local_xla/xla/stream_executor/cuda/cuda_blas.cc:1515] Unable to register cuBLAS factory: Attempting to register factory for plugin cuBLAS when one has already been registered\n"
     ]
    },
    {
     "name": "stdout",
     "output_type": "stream",
     "text": [
      "copying models to kaggle to be able to work with WRITE ACESS ...\n",
      "loading models in RAM...\n",
      "loading model in : /kaggle/working/models/1800-model_dataset_imgsize_16_model.keras ...\n",
      "loading model in : /kaggle/working/models/1800-model_dataset_imgsize_32_model.keras ...\n",
      "loading model in : /kaggle/working/models/1800-model_dataset_imgsize_64_model.keras ...\n",
      "loading model in : /kaggle/working/models/1800-model_dataset_imgsize_128_model.keras ...\n",
      "loading model in : /kaggle/working/models/1800-model_dataset_imgsize_256_model.keras ...\n",
      "loading model in : /kaggle/working/models/1800-model_dataset_imgsize_300_model.keras ...\n",
      "loading model in : /kaggle/working/models/2500-model_dataset_imgsize_16_model.keras ...\n",
      "loading model in : /kaggle/working/models/2500-model_dataset_imgsize_32_model.keras ...\n",
      "loading model in : /kaggle/working/models/2500-model_dataset_imgsize_64_model.keras ...\n",
      "loading model in : /kaggle/working/models/2500-model_dataset_imgsize_128_model.keras ...\n",
      "loading model in : /kaggle/working/models/2500-model_dataset_imgsize_256_model.keras ...\n",
      "loading model in : /kaggle/working/models/2500-model_dataset_imgsize_300_model.keras ...\n",
      "Testing dataset : /kaggle/input/sample-1800 ...\n",
      "trained data size : 1800\n",
      "image size : 16\n",
      "using : 1800 ,16_model ...\n",
      "Testing model : 1800 ,16_model ...\n",
      "Found 448 images belonging to 28 classes.\n",
      "\n"
     ]
    },
    {
     "name": "stderr",
     "output_type": "stream",
     "text": [
      "/opt/conda/lib/python3.10/site-packages/keras/src/trainers/data_adapters/py_dataset_adapter.py:120: UserWarning: Your `PyDataset` class should call `super().__init__(**kwargs)` in its constructor. `**kwargs` can include `workers`, `use_multiprocessing`, `max_queue_size`. Do not pass these arguments to `fit()`, as they will be ignored.\n",
      "  self._warn_if_super_not_called()\n"
     ]
    },
    {
     "name": "stdout",
     "output_type": "stream",
     "text": [
      "\u001b[1m14/14\u001b[0m \u001b[32m━━━━━━━━━━━━━━━━━━━━\u001b[0m\u001b[37m\u001b[0m \u001b[1m3s\u001b[0m 157ms/step\n",
      "Accuracy of model 1800 ,16_model on dataset sample-1800 : 0.174\n",
      "trained data size : 1800\n",
      "image size : 32\n",
      "using : 1800 ,32_model ...\n",
      "Testing model : 1800 ,32_model ...\n",
      "Found 448 images belonging to 28 classes.\n",
      "\n"
     ]
    },
    {
     "name": "stderr",
     "output_type": "stream",
     "text": [
      "/opt/conda/lib/python3.10/site-packages/keras/src/trainers/data_adapters/py_dataset_adapter.py:120: UserWarning: Your `PyDataset` class should call `super().__init__(**kwargs)` in its constructor. `**kwargs` can include `workers`, `use_multiprocessing`, `max_queue_size`. Do not pass these arguments to `fit()`, as they will be ignored.\n",
      "  self._warn_if_super_not_called()\n"
     ]
    },
    {
     "name": "stdout",
     "output_type": "stream",
     "text": [
      "\u001b[1m14/14\u001b[0m \u001b[32m━━━━━━━━━━━━━━━━━━━━\u001b[0m\u001b[37m\u001b[0m \u001b[1m1s\u001b[0m 40ms/step\n",
      "Accuracy of model 1800 ,32_model on dataset sample-1800 : 0.4\n",
      "trained data size : 1800\n",
      "image size : 64\n",
      "using : 1800 ,64_model ...\n",
      "Testing model : 1800 ,64_model ...\n",
      "Found 448 images belonging to 28 classes.\n",
      "\n"
     ]
    },
    {
     "name": "stderr",
     "output_type": "stream",
     "text": [
      "/opt/conda/lib/python3.10/site-packages/keras/src/trainers/data_adapters/py_dataset_adapter.py:120: UserWarning: Your `PyDataset` class should call `super().__init__(**kwargs)` in its constructor. `**kwargs` can include `workers`, `use_multiprocessing`, `max_queue_size`. Do not pass these arguments to `fit()`, as they will be ignored.\n",
      "  self._warn_if_super_not_called()\n"
     ]
    },
    {
     "name": "stdout",
     "output_type": "stream",
     "text": [
      "\u001b[1m14/14\u001b[0m \u001b[32m━━━━━━━━━━━━━━━━━━━━\u001b[0m\u001b[37m\u001b[0m \u001b[1m1s\u001b[0m 45ms/step\n",
      "Accuracy of model 1800 ,64_model on dataset sample-1800 : 0.475\n",
      "trained data size : 1800\n",
      "image size : 128\n",
      "using : 1800 ,128_model ...\n",
      "Testing model : 1800 ,128_model ...\n",
      "Found 448 images belonging to 28 classes.\n",
      "\n"
     ]
    },
    {
     "name": "stderr",
     "output_type": "stream",
     "text": [
      "/opt/conda/lib/python3.10/site-packages/keras/src/trainers/data_adapters/py_dataset_adapter.py:120: UserWarning: Your `PyDataset` class should call `super().__init__(**kwargs)` in its constructor. `**kwargs` can include `workers`, `use_multiprocessing`, `max_queue_size`. Do not pass these arguments to `fit()`, as they will be ignored.\n",
      "  self._warn_if_super_not_called()\n"
     ]
    },
    {
     "name": "stdout",
     "output_type": "stream",
     "text": [
      "\u001b[1m14/14\u001b[0m \u001b[32m━━━━━━━━━━━━━━━━━━━━\u001b[0m\u001b[37m\u001b[0m \u001b[1m1s\u001b[0m 47ms/step\n",
      "Accuracy of model 1800 ,128_model on dataset sample-1800 : 0.833\n",
      "trained data size : 1800\n",
      "image size : 256\n",
      "using : 1800 ,256_model ...\n",
      "Testing model : 1800 ,256_model ...\n",
      "Found 448 images belonging to 28 classes.\n",
      "\n"
     ]
    },
    {
     "name": "stderr",
     "output_type": "stream",
     "text": [
      "/opt/conda/lib/python3.10/site-packages/keras/src/trainers/data_adapters/py_dataset_adapter.py:120: UserWarning: Your `PyDataset` class should call `super().__init__(**kwargs)` in its constructor. `**kwargs` can include `workers`, `use_multiprocessing`, `max_queue_size`. Do not pass these arguments to `fit()`, as they will be ignored.\n",
      "  self._warn_if_super_not_called()\n"
     ]
    },
    {
     "name": "stdout",
     "output_type": "stream",
     "text": [
      "\u001b[1m14/14\u001b[0m \u001b[32m━━━━━━━━━━━━━━━━━━━━\u001b[0m\u001b[37m\u001b[0m \u001b[1m2s\u001b[0m 75ms/step\n",
      "Accuracy of model 1800 ,256_model on dataset sample-1800 : 0.058\n",
      "trained data size : 1800\n",
      "image size : 300\n",
      "using : 1800 ,300_model ...\n",
      "Testing model : 1800 ,300_model ...\n",
      "Found 448 images belonging to 28 classes.\n",
      "\n"
     ]
    },
    {
     "name": "stderr",
     "output_type": "stream",
     "text": [
      "/opt/conda/lib/python3.10/site-packages/keras/src/trainers/data_adapters/py_dataset_adapter.py:120: UserWarning: Your `PyDataset` class should call `super().__init__(**kwargs)` in its constructor. `**kwargs` can include `workers`, `use_multiprocessing`, `max_queue_size`. Do not pass these arguments to `fit()`, as they will be ignored.\n",
      "  self._warn_if_super_not_called()\n"
     ]
    },
    {
     "name": "stdout",
     "output_type": "stream",
     "text": [
      "\u001b[1m14/14\u001b[0m \u001b[32m━━━━━━━━━━━━━━━━━━━━\u001b[0m\u001b[37m\u001b[0m \u001b[1m3s\u001b[0m 108ms/step\n",
      "Accuracy of model 1800 ,300_model on dataset sample-1800 : 0.04\n",
      "trained data size : 2500\n",
      "image size : 16\n",
      "using : 2500 ,16_model ...\n",
      "Testing model : 2500 ,16_model ...\n",
      "Found 448 images belonging to 28 classes.\n",
      "\n"
     ]
    },
    {
     "name": "stderr",
     "output_type": "stream",
     "text": [
      "/opt/conda/lib/python3.10/site-packages/keras/src/trainers/data_adapters/py_dataset_adapter.py:120: UserWarning: Your `PyDataset` class should call `super().__init__(**kwargs)` in its constructor. `**kwargs` can include `workers`, `use_multiprocessing`, `max_queue_size`. Do not pass these arguments to `fit()`, as they will be ignored.\n",
      "  self._warn_if_super_not_called()\n"
     ]
    },
    {
     "name": "stdout",
     "output_type": "stream",
     "text": [
      "\u001b[1m14/14\u001b[0m \u001b[32m━━━━━━━━━━━━━━━━━━━━\u001b[0m\u001b[37m\u001b[0m \u001b[1m1s\u001b[0m 50ms/step\n",
      "Accuracy of model 2500 ,16_model on dataset sample-1800 : 0.069\n",
      "trained data size : 2500\n",
      "image size : 32\n",
      "using : 2500 ,32_model ...\n",
      "Testing model : 2500 ,32_model ...\n",
      "Found 448 images belonging to 28 classes.\n",
      "\n"
     ]
    },
    {
     "name": "stderr",
     "output_type": "stream",
     "text": [
      "/opt/conda/lib/python3.10/site-packages/keras/src/trainers/data_adapters/py_dataset_adapter.py:120: UserWarning: Your `PyDataset` class should call `super().__init__(**kwargs)` in its constructor. `**kwargs` can include `workers`, `use_multiprocessing`, `max_queue_size`. Do not pass these arguments to `fit()`, as they will be ignored.\n",
      "  self._warn_if_super_not_called()\n"
     ]
    },
    {
     "name": "stdout",
     "output_type": "stream",
     "text": [
      "\u001b[1m14/14\u001b[0m \u001b[32m━━━━━━━━━━━━━━━━━━━━\u001b[0m\u001b[37m\u001b[0m \u001b[1m1s\u001b[0m 57ms/step\n",
      "Accuracy of model 2500 ,32_model on dataset sample-1800 : 0.08\n",
      "trained data size : 2500\n",
      "image size : 64\n",
      "using : 2500 ,64_model ...\n",
      "Testing model : 2500 ,64_model ...\n",
      "Found 448 images belonging to 28 classes.\n",
      "\n"
     ]
    },
    {
     "name": "stderr",
     "output_type": "stream",
     "text": [
      "/opt/conda/lib/python3.10/site-packages/keras/src/trainers/data_adapters/py_dataset_adapter.py:120: UserWarning: Your `PyDataset` class should call `super().__init__(**kwargs)` in its constructor. `**kwargs` can include `workers`, `use_multiprocessing`, `max_queue_size`. Do not pass these arguments to `fit()`, as they will be ignored.\n",
      "  self._warn_if_super_not_called()\n"
     ]
    },
    {
     "name": "stdout",
     "output_type": "stream",
     "text": [
      "\u001b[1m14/14\u001b[0m \u001b[32m━━━━━━━━━━━━━━━━━━━━\u001b[0m\u001b[37m\u001b[0m \u001b[1m1s\u001b[0m 72ms/step\n",
      "Accuracy of model 2500 ,64_model on dataset sample-1800 : 0.036\n",
      "trained data size : 2500\n",
      "image size : 128\n",
      "using : 2500 ,128_model ...\n",
      "Testing model : 2500 ,128_model ...\n",
      "Found 448 images belonging to 28 classes.\n",
      "\n"
     ]
    },
    {
     "name": "stderr",
     "output_type": "stream",
     "text": [
      "/opt/conda/lib/python3.10/site-packages/keras/src/trainers/data_adapters/py_dataset_adapter.py:120: UserWarning: Your `PyDataset` class should call `super().__init__(**kwargs)` in its constructor. `**kwargs` can include `workers`, `use_multiprocessing`, `max_queue_size`. Do not pass these arguments to `fit()`, as they will be ignored.\n",
      "  self._warn_if_super_not_called()\n"
     ]
    },
    {
     "name": "stdout",
     "output_type": "stream",
     "text": [
      "\u001b[1m14/14\u001b[0m \u001b[32m━━━━━━━━━━━━━━━━━━━━\u001b[0m\u001b[37m\u001b[0m \u001b[1m1s\u001b[0m 53ms/step\n",
      "Accuracy of model 2500 ,128_model on dataset sample-1800 : 0.04\n",
      "trained data size : 2500\n",
      "image size : 256\n",
      "using : 2500 ,256_model ...\n",
      "Testing model : 2500 ,256_model ...\n",
      "Found 448 images belonging to 28 classes.\n",
      "\n"
     ]
    },
    {
     "name": "stderr",
     "output_type": "stream",
     "text": [
      "/opt/conda/lib/python3.10/site-packages/keras/src/trainers/data_adapters/py_dataset_adapter.py:120: UserWarning: Your `PyDataset` class should call `super().__init__(**kwargs)` in its constructor. `**kwargs` can include `workers`, `use_multiprocessing`, `max_queue_size`. Do not pass these arguments to `fit()`, as they will be ignored.\n",
      "  self._warn_if_super_not_called()\n"
     ]
    },
    {
     "name": "stdout",
     "output_type": "stream",
     "text": [
      "\u001b[1m14/14\u001b[0m \u001b[32m━━━━━━━━━━━━━━━━━━━━\u001b[0m\u001b[37m\u001b[0m \u001b[1m1s\u001b[0m 69ms/step\n",
      "Accuracy of model 2500 ,256_model on dataset sample-1800 : 0.056\n",
      "trained data size : 2500\n",
      "image size : 300\n",
      "using : 2500 ,300_model ...\n",
      "Testing model : 2500 ,300_model ...\n",
      "Found 448 images belonging to 28 classes.\n",
      "\n"
     ]
    },
    {
     "name": "stderr",
     "output_type": "stream",
     "text": [
      "/opt/conda/lib/python3.10/site-packages/keras/src/trainers/data_adapters/py_dataset_adapter.py:120: UserWarning: Your `PyDataset` class should call `super().__init__(**kwargs)` in its constructor. `**kwargs` can include `workers`, `use_multiprocessing`, `max_queue_size`. Do not pass these arguments to `fit()`, as they will be ignored.\n",
      "  self._warn_if_super_not_called()\n"
     ]
    },
    {
     "name": "stdout",
     "output_type": "stream",
     "text": [
      "\u001b[1m14/14\u001b[0m \u001b[32m━━━━━━━━━━━━━━━━━━━━\u001b[0m\u001b[37m\u001b[0m \u001b[1m2s\u001b[0m 106ms/step\n",
      "Accuracy of model 2500 ,300_model on dataset sample-1800 : 0.049\n",
      "Testing dataset : /kaggle/input/sample-2500 ...\n",
      "trained data size : 1800\n",
      "image size : 16\n",
      "using : 1800 ,16_model ...\n",
      "Testing model : 1800 ,16_model ...\n",
      "Found 672 images belonging to 28 classes.\n",
      "\n",
      "\u001b[1m 2/21\u001b[0m \u001b[32m━\u001b[0m\u001b[37m━━━━━━━━━━━━━━━━━━━\u001b[0m \u001b[1m1s\u001b[0m 59ms/step"
     ]
    },
    {
     "name": "stderr",
     "output_type": "stream",
     "text": [
      "/opt/conda/lib/python3.10/site-packages/keras/src/trainers/data_adapters/py_dataset_adapter.py:120: UserWarning: Your `PyDataset` class should call `super().__init__(**kwargs)` in its constructor. `**kwargs` can include `workers`, `use_multiprocessing`, `max_queue_size`. Do not pass these arguments to `fit()`, as they will be ignored.\n",
      "  self._warn_if_super_not_called()\n"
     ]
    },
    {
     "name": "stdout",
     "output_type": "stream",
     "text": [
      "\u001b[1m21/21\u001b[0m \u001b[32m━━━━━━━━━━━━━━━━━━━━\u001b[0m\u001b[37m\u001b[0m \u001b[1m3s\u001b[0m 142ms/step\n",
      "Accuracy of model 1800 ,16_model on dataset sample-2500 : 0.036\n",
      "trained data size : 1800\n",
      "image size : 32\n",
      "using : 1800 ,32_model ...\n",
      "Testing model : 1800 ,32_model ...\n",
      "Found 672 images belonging to 28 classes.\n",
      "\n",
      "\u001b[1m 5/21\u001b[0m \u001b[32m━━━━\u001b[0m\u001b[37m━━━━━━━━━━━━━━━━\u001b[0m \u001b[1m0s\u001b[0m 35ms/step"
     ]
    },
    {
     "name": "stderr",
     "output_type": "stream",
     "text": [
      "/opt/conda/lib/python3.10/site-packages/keras/src/trainers/data_adapters/py_dataset_adapter.py:120: UserWarning: Your `PyDataset` class should call `super().__init__(**kwargs)` in its constructor. `**kwargs` can include `workers`, `use_multiprocessing`, `max_queue_size`. Do not pass these arguments to `fit()`, as they will be ignored.\n",
      "  self._warn_if_super_not_called()\n"
     ]
    },
    {
     "name": "stdout",
     "output_type": "stream",
     "text": [
      "\u001b[1m21/21\u001b[0m \u001b[32m━━━━━━━━━━━━━━━━━━━━\u001b[0m\u001b[37m\u001b[0m \u001b[1m1s\u001b[0m 33ms/step\n",
      "Accuracy of model 1800 ,32_model on dataset sample-2500 : 0.042\n",
      "trained data size : 1800\n",
      "image size : 64\n",
      "using : 1800 ,64_model ...\n",
      "Testing model : 1800 ,64_model ...\n",
      "Found 672 images belonging to 28 classes.\n",
      "\n",
      "\u001b[1m 5/21\u001b[0m \u001b[32m━━━━\u001b[0m\u001b[37m━━━━━━━━━━━━━━━━\u001b[0m \u001b[1m0s\u001b[0m 30ms/step"
     ]
    },
    {
     "name": "stderr",
     "output_type": "stream",
     "text": [
      "/opt/conda/lib/python3.10/site-packages/keras/src/trainers/data_adapters/py_dataset_adapter.py:120: UserWarning: Your `PyDataset` class should call `super().__init__(**kwargs)` in its constructor. `**kwargs` can include `workers`, `use_multiprocessing`, `max_queue_size`. Do not pass these arguments to `fit()`, as they will be ignored.\n",
      "  self._warn_if_super_not_called()\n"
     ]
    },
    {
     "name": "stdout",
     "output_type": "stream",
     "text": [
      "\u001b[1m21/21\u001b[0m \u001b[32m━━━━━━━━━━━━━━━━━━━━\u001b[0m\u001b[37m\u001b[0m \u001b[1m1s\u001b[0m 33ms/step\n",
      "Accuracy of model 1800 ,64_model on dataset sample-2500 : 0.037\n",
      "trained data size : 1800\n",
      "image size : 128\n",
      "using : 1800 ,128_model ...\n",
      "Testing model : 1800 ,128_model ...\n",
      "Found 672 images belonging to 28 classes.\n",
      "\n",
      "\u001b[1m 5/21\u001b[0m \u001b[32m━━━━\u001b[0m\u001b[37m━━━━━━━━━━━━━━━━\u001b[0m \u001b[1m0s\u001b[0m 36ms/step"
     ]
    },
    {
     "name": "stderr",
     "output_type": "stream",
     "text": [
      "/opt/conda/lib/python3.10/site-packages/keras/src/trainers/data_adapters/py_dataset_adapter.py:120: UserWarning: Your `PyDataset` class should call `super().__init__(**kwargs)` in its constructor. `**kwargs` can include `workers`, `use_multiprocessing`, `max_queue_size`. Do not pass these arguments to `fit()`, as they will be ignored.\n",
      "  self._warn_if_super_not_called()\n"
     ]
    },
    {
     "name": "stdout",
     "output_type": "stream",
     "text": [
      "\u001b[1m21/21\u001b[0m \u001b[32m━━━━━━━━━━━━━━━━━━━━\u001b[0m\u001b[37m\u001b[0m \u001b[1m1s\u001b[0m 34ms/step\n",
      "Accuracy of model 1800 ,128_model on dataset sample-2500 : 0.024\n",
      "trained data size : 1800\n",
      "image size : 256\n",
      "using : 1800 ,256_model ...\n",
      "Testing model : 1800 ,256_model ...\n",
      "Found 672 images belonging to 28 classes.\n",
      "\n",
      "\u001b[1m 2/21\u001b[0m \u001b[32m━\u001b[0m\u001b[37m━━━━━━━━━━━━━━━━━━━\u001b[0m \u001b[1m1s\u001b[0m 70ms/step "
     ]
    },
    {
     "name": "stderr",
     "output_type": "stream",
     "text": [
      "/opt/conda/lib/python3.10/site-packages/keras/src/trainers/data_adapters/py_dataset_adapter.py:120: UserWarning: Your `PyDataset` class should call `super().__init__(**kwargs)` in its constructor. `**kwargs` can include `workers`, `use_multiprocessing`, `max_queue_size`. Do not pass these arguments to `fit()`, as they will be ignored.\n",
      "  self._warn_if_super_not_called()\n"
     ]
    },
    {
     "name": "stdout",
     "output_type": "stream",
     "text": [
      "\u001b[1m21/21\u001b[0m \u001b[32m━━━━━━━━━━━━━━━━━━━━\u001b[0m\u001b[37m\u001b[0m \u001b[1m1s\u001b[0m 53ms/step\n",
      "Accuracy of model 1800 ,256_model on dataset sample-2500 : 0.06\n",
      "trained data size : 1800\n",
      "image size : 300\n",
      "using : 1800 ,300_model ...\n",
      "Testing model : 1800 ,300_model ...\n",
      "Found 672 images belonging to 28 classes.\n",
      "\n",
      "\u001b[1m 2/21\u001b[0m \u001b[32m━\u001b[0m\u001b[37m━━━━━━━━━━━━━━━━━━━\u001b[0m \u001b[1m1s\u001b[0m 92ms/step "
     ]
    },
    {
     "name": "stderr",
     "output_type": "stream",
     "text": [
      "/opt/conda/lib/python3.10/site-packages/keras/src/trainers/data_adapters/py_dataset_adapter.py:120: UserWarning: Your `PyDataset` class should call `super().__init__(**kwargs)` in its constructor. `**kwargs` can include `workers`, `use_multiprocessing`, `max_queue_size`. Do not pass these arguments to `fit()`, as they will be ignored.\n",
      "  self._warn_if_super_not_called()\n"
     ]
    },
    {
     "name": "stdout",
     "output_type": "stream",
     "text": [
      "\u001b[1m21/21\u001b[0m \u001b[32m━━━━━━━━━━━━━━━━━━━━\u001b[0m\u001b[37m\u001b[0m \u001b[1m2s\u001b[0m 96ms/step\n",
      "Accuracy of model 1800 ,300_model on dataset sample-2500 : 0.036\n",
      "trained data size : 2500\n",
      "image size : 16\n",
      "using : 2500 ,16_model ...\n",
      "Testing model : 2500 ,16_model ...\n",
      "Found 672 images belonging to 28 classes.\n",
      "\n",
      "\u001b[1m 5/21\u001b[0m \u001b[32m━━━━\u001b[0m\u001b[37m━━━━━━━━━━━━━━━━\u001b[0m \u001b[1m0s\u001b[0m 28ms/step"
     ]
    },
    {
     "name": "stderr",
     "output_type": "stream",
     "text": [
      "/opt/conda/lib/python3.10/site-packages/keras/src/trainers/data_adapters/py_dataset_adapter.py:120: UserWarning: Your `PyDataset` class should call `super().__init__(**kwargs)` in its constructor. `**kwargs` can include `workers`, `use_multiprocessing`, `max_queue_size`. Do not pass these arguments to `fit()`, as they will be ignored.\n",
      "  self._warn_if_super_not_called()\n"
     ]
    },
    {
     "name": "stdout",
     "output_type": "stream",
     "text": [
      "\u001b[1m21/21\u001b[0m \u001b[32m━━━━━━━━━━━━━━━━━━━━\u001b[0m\u001b[37m\u001b[0m \u001b[1m1s\u001b[0m 29ms/step\n",
      "Accuracy of model 2500 ,16_model on dataset sample-2500 : 0.929\n",
      "trained data size : 2500\n",
      "image size : 32\n",
      "using : 2500 ,32_model ...\n",
      "Testing model : 2500 ,32_model ...\n",
      "Found 672 images belonging to 28 classes.\n",
      "\n",
      "\u001b[1m 7/21\u001b[0m \u001b[32m━━━━━━\u001b[0m\u001b[37m━━━━━━━━━━━━━━\u001b[0m \u001b[1m0s\u001b[0m 26ms/step"
     ]
    },
    {
     "name": "stderr",
     "output_type": "stream",
     "text": [
      "/opt/conda/lib/python3.10/site-packages/keras/src/trainers/data_adapters/py_dataset_adapter.py:120: UserWarning: Your `PyDataset` class should call `super().__init__(**kwargs)` in its constructor. `**kwargs` can include `workers`, `use_multiprocessing`, `max_queue_size`. Do not pass these arguments to `fit()`, as they will be ignored.\n",
      "  self._warn_if_super_not_called()\n"
     ]
    },
    {
     "name": "stdout",
     "output_type": "stream",
     "text": [
      "\u001b[1m21/21\u001b[0m \u001b[32m━━━━━━━━━━━━━━━━━━━━\u001b[0m\u001b[37m\u001b[0m \u001b[1m1s\u001b[0m 28ms/step\n",
      "Accuracy of model 2500 ,32_model on dataset sample-2500 : 0.988\n",
      "trained data size : 2500\n",
      "image size : 64\n",
      "using : 2500 ,64_model ...\n",
      "Testing model : 2500 ,64_model ...\n",
      "Found 672 images belonging to 28 classes.\n",
      "\n",
      "\u001b[1m 7/21\u001b[0m \u001b[32m━━━━━━\u001b[0m\u001b[37m━━━━━━━━━━━━━━\u001b[0m \u001b[1m0s\u001b[0m 27ms/step"
     ]
    },
    {
     "name": "stderr",
     "output_type": "stream",
     "text": [
      "/opt/conda/lib/python3.10/site-packages/keras/src/trainers/data_adapters/py_dataset_adapter.py:120: UserWarning: Your `PyDataset` class should call `super().__init__(**kwargs)` in its constructor. `**kwargs` can include `workers`, `use_multiprocessing`, `max_queue_size`. Do not pass these arguments to `fit()`, as they will be ignored.\n",
      "  self._warn_if_super_not_called()\n"
     ]
    },
    {
     "name": "stdout",
     "output_type": "stream",
     "text": [
      "\u001b[1m21/21\u001b[0m \u001b[32m━━━━━━━━━━━━━━━━━━━━\u001b[0m\u001b[37m\u001b[0m \u001b[1m1s\u001b[0m 28ms/step\n",
      "Accuracy of model 2500 ,64_model on dataset sample-2500 : 0.996\n",
      "trained data size : 2500\n",
      "image size : 128\n",
      "using : 2500 ,128_model ...\n",
      "Testing model : 2500 ,128_model ...\n",
      "Found 672 images belonging to 28 classes.\n",
      "\n",
      "\u001b[1m 5/21\u001b[0m \u001b[32m━━━━\u001b[0m\u001b[37m━━━━━━━━━━━━━━━━\u001b[0m \u001b[1m0s\u001b[0m 32ms/step"
     ]
    },
    {
     "name": "stderr",
     "output_type": "stream",
     "text": [
      "/opt/conda/lib/python3.10/site-packages/keras/src/trainers/data_adapters/py_dataset_adapter.py:120: UserWarning: Your `PyDataset` class should call `super().__init__(**kwargs)` in its constructor. `**kwargs` can include `workers`, `use_multiprocessing`, `max_queue_size`. Do not pass these arguments to `fit()`, as they will be ignored.\n",
      "  self._warn_if_super_not_called()\n"
     ]
    },
    {
     "name": "stdout",
     "output_type": "stream",
     "text": [
      "\u001b[1m21/21\u001b[0m \u001b[32m━━━━━━━━━━━━━━━━━━━━\u001b[0m\u001b[37m\u001b[0m \u001b[1m1s\u001b[0m 32ms/step\n",
      "Accuracy of model 2500 ,128_model on dataset sample-2500 : 0.979\n",
      "trained data size : 2500\n",
      "image size : 256\n",
      "using : 2500 ,256_model ...\n",
      "Testing model : 2500 ,256_model ...\n",
      "Found 672 images belonging to 28 classes.\n",
      "\n",
      "\u001b[1m 2/21\u001b[0m \u001b[32m━\u001b[0m\u001b[37m━━━━━━━━━━━━━━━━━━━\u001b[0m \u001b[1m1s\u001b[0m 82ms/step"
     ]
    },
    {
     "name": "stderr",
     "output_type": "stream",
     "text": [
      "/opt/conda/lib/python3.10/site-packages/keras/src/trainers/data_adapters/py_dataset_adapter.py:120: UserWarning: Your `PyDataset` class should call `super().__init__(**kwargs)` in its constructor. `**kwargs` can include `workers`, `use_multiprocessing`, `max_queue_size`. Do not pass these arguments to `fit()`, as they will be ignored.\n",
      "  self._warn_if_super_not_called()\n"
     ]
    },
    {
     "name": "stdout",
     "output_type": "stream",
     "text": [
      "\u001b[1m21/21\u001b[0m \u001b[32m━━━━━━━━━━━━━━━━━━━━\u001b[0m\u001b[37m\u001b[0m \u001b[1m1s\u001b[0m 60ms/step\n",
      "Accuracy of model 2500 ,256_model on dataset sample-2500 : 0.99\n",
      "trained data size : 2500\n",
      "image size : 300\n",
      "using : 2500 ,300_model ...\n",
      "Testing model : 2500 ,300_model ...\n",
      "Found 672 images belonging to 28 classes.\n",
      "\n",
      "\u001b[1m 1/21\u001b[0m \u001b[37m━━━━━━━━━━━━━━━━━━━━\u001b[0m \u001b[1m2s\u001b[0m 119ms/step"
     ]
    },
    {
     "name": "stderr",
     "output_type": "stream",
     "text": [
      "/opt/conda/lib/python3.10/site-packages/keras/src/trainers/data_adapters/py_dataset_adapter.py:120: UserWarning: Your `PyDataset` class should call `super().__init__(**kwargs)` in its constructor. `**kwargs` can include `workers`, `use_multiprocessing`, `max_queue_size`. Do not pass these arguments to `fit()`, as they will be ignored.\n",
      "  self._warn_if_super_not_called()\n"
     ]
    },
    {
     "name": "stdout",
     "output_type": "stream",
     "text": [
      "\u001b[1m21/21\u001b[0m \u001b[32m━━━━━━━━━━━━━━━━━━━━\u001b[0m\u001b[37m\u001b[0m \u001b[1m2s\u001b[0m 98ms/step\n",
      "Accuracy of model 2500 ,300_model on dataset sample-2500 : 0.975\n",
      "Testing dataset : /kaggle/input/clean-2500-letters-only ...\n",
      "trained data size : 1800\n",
      "image size : 16\n",
      "using : 1800 ,16_model ...\n",
      "Testing model : 1800 ,16_model ...\n",
      "Found 69468 images belonging to 28 classes.\n",
      "\n",
      "\u001b[1m   1/2171\u001b[0m \u001b[37m━━━━━━━━━━━━━━━━━━━━\u001b[0m \u001b[1m2:16\u001b[0m 63ms/step"
     ]
    },
    {
     "name": "stderr",
     "output_type": "stream",
     "text": [
      "/opt/conda/lib/python3.10/site-packages/keras/src/trainers/data_adapters/py_dataset_adapter.py:120: UserWarning: Your `PyDataset` class should call `super().__init__(**kwargs)` in its constructor. `**kwargs` can include `workers`, `use_multiprocessing`, `max_queue_size`. Do not pass these arguments to `fit()`, as they will be ignored.\n",
      "  self._warn_if_super_not_called()\n"
     ]
    },
    {
     "name": "stdout",
     "output_type": "stream",
     "text": [
      "\u001b[1m2171/2171\u001b[0m \u001b[32m━━━━━━━━━━━━━━━━━━━━\u001b[0m\u001b[37m\u001b[0m \u001b[1m343s\u001b[0m 158ms/step\n",
      "Accuracy of model 1800 ,16_model on dataset clean-2500-letters-only : 0.036\n",
      "trained data size : 1800\n",
      "image size : 32\n",
      "using : 1800 ,32_model ...\n",
      "Testing model : 1800 ,32_model ...\n",
      "Found 69468 images belonging to 28 classes.\n",
      "\n",
      "\u001b[1m   5/2171\u001b[0m \u001b[37m━━━━━━━━━━━━━━━━━━━━\u001b[0m \u001b[1m1:16\u001b[0m 35ms/step"
     ]
    },
    {
     "name": "stderr",
     "output_type": "stream",
     "text": [
      "/opt/conda/lib/python3.10/site-packages/keras/src/trainers/data_adapters/py_dataset_adapter.py:120: UserWarning: Your `PyDataset` class should call `super().__init__(**kwargs)` in its constructor. `**kwargs` can include `workers`, `use_multiprocessing`, `max_queue_size`. Do not pass these arguments to `fit()`, as they will be ignored.\n",
      "  self._warn_if_super_not_called()\n"
     ]
    },
    {
     "name": "stdout",
     "output_type": "stream",
     "text": [
      "\u001b[1m2171/2171\u001b[0m \u001b[32m━━━━━━━━━━━━━━━━━━━━\u001b[0m\u001b[37m\u001b[0m \u001b[1m78s\u001b[0m 36ms/step\n",
      "Accuracy of model 1800 ,32_model on dataset clean-2500-letters-only : 0.043\n",
      "trained data size : 1800\n",
      "image size : 64\n",
      "using : 1800 ,64_model ...\n",
      "Testing model : 1800 ,64_model ...\n",
      "Found 69468 images belonging to 28 classes.\n",
      "\n",
      "\u001b[1m   5/2171\u001b[0m \u001b[37m━━━━━━━━━━━━━━━━━━━━\u001b[0m \u001b[1m1:09\u001b[0m 32ms/step"
     ]
    },
    {
     "name": "stderr",
     "output_type": "stream",
     "text": [
      "/opt/conda/lib/python3.10/site-packages/keras/src/trainers/data_adapters/py_dataset_adapter.py:120: UserWarning: Your `PyDataset` class should call `super().__init__(**kwargs)` in its constructor. `**kwargs` can include `workers`, `use_multiprocessing`, `max_queue_size`. Do not pass these arguments to `fit()`, as they will be ignored.\n",
      "  self._warn_if_super_not_called()\n"
     ]
    },
    {
     "name": "stdout",
     "output_type": "stream",
     "text": [
      "\u001b[1m2171/2171\u001b[0m \u001b[32m━━━━━━━━━━━━━━━━━━━━\u001b[0m\u001b[37m\u001b[0m \u001b[1m70s\u001b[0m 32ms/step\n",
      "Accuracy of model 1800 ,64_model on dataset clean-2500-letters-only : 0.036\n",
      "trained data size : 1800\n",
      "image size : 128\n",
      "using : 1800 ,128_model ...\n",
      "Testing model : 1800 ,128_model ...\n",
      "Found 69468 images belonging to 28 classes.\n",
      "\n",
      "\u001b[1m   5/2171\u001b[0m \u001b[37m━━━━━━━━━━━━━━━━━━━━\u001b[0m \u001b[1m1:17\u001b[0m 36ms/step"
     ]
    },
    {
     "name": "stderr",
     "output_type": "stream",
     "text": [
      "/opt/conda/lib/python3.10/site-packages/keras/src/trainers/data_adapters/py_dataset_adapter.py:120: UserWarning: Your `PyDataset` class should call `super().__init__(**kwargs)` in its constructor. `**kwargs` can include `workers`, `use_multiprocessing`, `max_queue_size`. Do not pass these arguments to `fit()`, as they will be ignored.\n",
      "  self._warn_if_super_not_called()\n"
     ]
    },
    {
     "name": "stdout",
     "output_type": "stream",
     "text": [
      "\u001b[1m2171/2171\u001b[0m \u001b[32m━━━━━━━━━━━━━━━━━━━━\u001b[0m\u001b[37m\u001b[0m \u001b[1m80s\u001b[0m 37ms/step\n",
      "Accuracy of model 1800 ,128_model on dataset clean-2500-letters-only : 0.027\n",
      "trained data size : 1800\n",
      "image size : 256\n",
      "using : 1800 ,256_model ...\n",
      "Testing model : 1800 ,256_model ...\n",
      "Found 69468 images belonging to 28 classes.\n",
      "\n",
      "\u001b[1m   3/2171\u001b[0m \u001b[37m━━━━━━━━━━━━━━━━━━━━\u001b[0m \u001b[1m2:40\u001b[0m 74ms/step"
     ]
    },
    {
     "name": "stderr",
     "output_type": "stream",
     "text": [
      "/opt/conda/lib/python3.10/site-packages/keras/src/trainers/data_adapters/py_dataset_adapter.py:120: UserWarning: Your `PyDataset` class should call `super().__init__(**kwargs)` in its constructor. `**kwargs` can include `workers`, `use_multiprocessing`, `max_queue_size`. Do not pass these arguments to `fit()`, as they will be ignored.\n",
      "  self._warn_if_super_not_called()\n"
     ]
    },
    {
     "name": "stdout",
     "output_type": "stream",
     "text": [
      "\u001b[1m2171/2171\u001b[0m \u001b[32m━━━━━━━━━━━━━━━━━━━━\u001b[0m\u001b[37m\u001b[0m \u001b[1m126s\u001b[0m 58ms/step\n",
      "Accuracy of model 1800 ,256_model on dataset clean-2500-letters-only : 0.058\n",
      "trained data size : 1800\n",
      "image size : 300\n",
      "using : 1800 ,300_model ...\n",
      "Testing model : 1800 ,300_model ...\n",
      "Found 69468 images belonging to 28 classes.\n",
      "\n",
      "\u001b[1m   1/2171\u001b[0m \u001b[37m━━━━━━━━━━━━━━━━━━━━\u001b[0m \u001b[1m4:38\u001b[0m 128ms/step"
     ]
    },
    {
     "name": "stderr",
     "output_type": "stream",
     "text": [
      "/opt/conda/lib/python3.10/site-packages/keras/src/trainers/data_adapters/py_dataset_adapter.py:120: UserWarning: Your `PyDataset` class should call `super().__init__(**kwargs)` in its constructor. `**kwargs` can include `workers`, `use_multiprocessing`, `max_queue_size`. Do not pass these arguments to `fit()`, as they will be ignored.\n",
      "  self._warn_if_super_not_called()\n"
     ]
    },
    {
     "name": "stdout",
     "output_type": "stream",
     "text": [
      "\u001b[1m2171/2171\u001b[0m \u001b[32m━━━━━━━━━━━━━━━━━━━━\u001b[0m\u001b[37m\u001b[0m \u001b[1m222s\u001b[0m 102ms/step\n",
      "Accuracy of model 1800 ,300_model on dataset clean-2500-letters-only : 0.036\n",
      "trained data size : 2500\n",
      "image size : 16\n",
      "using : 2500 ,16_model ...\n",
      "Testing model : 2500 ,16_model ...\n",
      "Found 69468 images belonging to 28 classes.\n",
      "\n",
      "\u001b[1m   5/2171\u001b[0m \u001b[37m━━━━━━━━━━━━━━━━━━━━\u001b[0m \u001b[1m1:08\u001b[0m 31ms/step"
     ]
    },
    {
     "name": "stderr",
     "output_type": "stream",
     "text": [
      "/opt/conda/lib/python3.10/site-packages/keras/src/trainers/data_adapters/py_dataset_adapter.py:120: UserWarning: Your `PyDataset` class should call `super().__init__(**kwargs)` in its constructor. `**kwargs` can include `workers`, `use_multiprocessing`, `max_queue_size`. Do not pass these arguments to `fit()`, as they will be ignored.\n",
      "  self._warn_if_super_not_called()\n"
     ]
    },
    {
     "name": "stdout",
     "output_type": "stream",
     "text": [
      "\u001b[1m2171/2171\u001b[0m \u001b[32m━━━━━━━━━━━━━━━━━━━━\u001b[0m\u001b[37m\u001b[0m \u001b[1m62s\u001b[0m 29ms/step\n",
      "Accuracy of model 2500 ,16_model on dataset clean-2500-letters-only : 0.933\n",
      "trained data size : 2500\n",
      "image size : 32\n",
      "using : 2500 ,32_model ...\n",
      "Testing model : 2500 ,32_model ...\n",
      "Found 69468 images belonging to 28 classes.\n",
      "\n",
      "\u001b[1m   7/2171\u001b[0m \u001b[37m━━━━━━━━━━━━━━━━━━━━\u001b[0m \u001b[1m56s\u001b[0m 26ms/step"
     ]
    },
    {
     "name": "stderr",
     "output_type": "stream",
     "text": [
      "/opt/conda/lib/python3.10/site-packages/keras/src/trainers/data_adapters/py_dataset_adapter.py:120: UserWarning: Your `PyDataset` class should call `super().__init__(**kwargs)` in its constructor. `**kwargs` can include `workers`, `use_multiprocessing`, `max_queue_size`. Do not pass these arguments to `fit()`, as they will be ignored.\n",
      "  self._warn_if_super_not_called()\n"
     ]
    },
    {
     "name": "stdout",
     "output_type": "stream",
     "text": [
      "\u001b[1m2171/2171\u001b[0m \u001b[32m━━━━━━━━━━━━━━━━━━━━\u001b[0m\u001b[37m\u001b[0m \u001b[1m62s\u001b[0m 28ms/step\n",
      "Accuracy of model 2500 ,32_model on dataset clean-2500-letters-only : 0.984\n",
      "trained data size : 2500\n",
      "image size : 64\n",
      "using : 2500 ,64_model ...\n",
      "Testing model : 2500 ,64_model ...\n",
      "Found 69468 images belonging to 28 classes.\n",
      "\n",
      "\u001b[1m   7/2171\u001b[0m \u001b[37m━━━━━━━━━━━━━━━━━━━━\u001b[0m \u001b[1m1:01\u001b[0m 28ms/step"
     ]
    },
    {
     "name": "stderr",
     "output_type": "stream",
     "text": [
      "/opt/conda/lib/python3.10/site-packages/keras/src/trainers/data_adapters/py_dataset_adapter.py:120: UserWarning: Your `PyDataset` class should call `super().__init__(**kwargs)` in its constructor. `**kwargs` can include `workers`, `use_multiprocessing`, `max_queue_size`. Do not pass these arguments to `fit()`, as they will be ignored.\n",
      "  self._warn_if_super_not_called()\n"
     ]
    },
    {
     "name": "stdout",
     "output_type": "stream",
     "text": [
      "\u001b[1m2171/2171\u001b[0m \u001b[32m━━━━━━━━━━━━━━━━━━━━\u001b[0m\u001b[37m\u001b[0m \u001b[1m64s\u001b[0m 30ms/step\n",
      "Accuracy of model 2500 ,64_model on dataset clean-2500-letters-only : 0.998\n",
      "trained data size : 2500\n",
      "image size : 128\n",
      "using : 2500 ,128_model ...\n",
      "Testing model : 2500 ,128_model ...\n",
      "Found 69468 images belonging to 28 classes.\n",
      "\n",
      "\u001b[1m   5/2171\u001b[0m \u001b[37m━━━━━━━━━━━━━━━━━━━━\u001b[0m \u001b[1m1:17\u001b[0m 36ms/step"
     ]
    },
    {
     "name": "stderr",
     "output_type": "stream",
     "text": [
      "/opt/conda/lib/python3.10/site-packages/keras/src/trainers/data_adapters/py_dataset_adapter.py:120: UserWarning: Your `PyDataset` class should call `super().__init__(**kwargs)` in its constructor. `**kwargs` can include `workers`, `use_multiprocessing`, `max_queue_size`. Do not pass these arguments to `fit()`, as they will be ignored.\n",
      "  self._warn_if_super_not_called()\n"
     ]
    },
    {
     "name": "stdout",
     "output_type": "stream",
     "text": [
      "\u001b[1m2171/2171\u001b[0m \u001b[32m━━━━━━━━━━━━━━━━━━━━\u001b[0m\u001b[37m\u001b[0m \u001b[1m72s\u001b[0m 33ms/step\n",
      "Accuracy of model 2500 ,128_model on dataset clean-2500-letters-only : 0.98\n",
      "trained data size : 2500\n",
      "image size : 256\n",
      "using : 2500 ,256_model ...\n",
      "Testing model : 2500 ,256_model ...\n",
      "Found 69468 images belonging to 28 classes.\n",
      "\n",
      "\u001b[1m   3/2171\u001b[0m \u001b[37m━━━━━━━━━━━━━━━━━━━━\u001b[0m \u001b[1m2:01\u001b[0m 56ms/step"
     ]
    },
    {
     "name": "stderr",
     "output_type": "stream",
     "text": [
      "/opt/conda/lib/python3.10/site-packages/keras/src/trainers/data_adapters/py_dataset_adapter.py:120: UserWarning: Your `PyDataset` class should call `super().__init__(**kwargs)` in its constructor. `**kwargs` can include `workers`, `use_multiprocessing`, `max_queue_size`. Do not pass these arguments to `fit()`, as they will be ignored.\n",
      "  self._warn_if_super_not_called()\n"
     ]
    },
    {
     "name": "stdout",
     "output_type": "stream",
     "text": [
      "\u001b[1m2171/2171\u001b[0m \u001b[32m━━━━━━━━━━━━━━━━━━━━\u001b[0m\u001b[37m\u001b[0m \u001b[1m113s\u001b[0m 52ms/step\n",
      "Accuracy of model 2500 ,256_model on dataset clean-2500-letters-only : 0.986\n",
      "trained data size : 2500\n",
      "image size : 300\n",
      "using : 2500 ,300_model ...\n",
      "Testing model : 2500 ,300_model ...\n",
      "Found 69468 images belonging to 28 classes.\n",
      "\n",
      "\u001b[1m   1/2171\u001b[0m \u001b[37m━━━━━━━━━━━━━━━━━━━━\u001b[0m \u001b[1m4:33\u001b[0m 126ms/step"
     ]
    },
    {
     "name": "stderr",
     "output_type": "stream",
     "text": [
      "/opt/conda/lib/python3.10/site-packages/keras/src/trainers/data_adapters/py_dataset_adapter.py:120: UserWarning: Your `PyDataset` class should call `super().__init__(**kwargs)` in its constructor. `**kwargs` can include `workers`, `use_multiprocessing`, `max_queue_size`. Do not pass these arguments to `fit()`, as they will be ignored.\n",
      "  self._warn_if_super_not_called()\n"
     ]
    },
    {
     "name": "stdout",
     "output_type": "stream",
     "text": [
      "\u001b[1m2171/2171\u001b[0m \u001b[32m━━━━━━━━━━━━━━━━━━━━\u001b[0m\u001b[37m\u001b[0m \u001b[1m210s\u001b[0m 97ms/step\n",
      "Accuracy of model 2500 ,300_model on dataset clean-2500-letters-only : 0.975\n",
      "Testing dataset : /kaggle/input/clean-1800-letters-only ...\n",
      "trained data size : 1800\n",
      "image size : 16\n",
      "using : 1800 ,16_model ...\n",
      "Testing model : 1800 ,16_model ...\n",
      "Found 46130 images belonging to 28 classes.\n",
      "\n",
      "\u001b[1m   2/1442\u001b[0m \u001b[37m━━━━━━━━━━━━━━━━━━━━\u001b[0m \u001b[1m1:13\u001b[0m 51ms/step"
     ]
    },
    {
     "name": "stderr",
     "output_type": "stream",
     "text": [
      "/opt/conda/lib/python3.10/site-packages/keras/src/trainers/data_adapters/py_dataset_adapter.py:120: UserWarning: Your `PyDataset` class should call `super().__init__(**kwargs)` in its constructor. `**kwargs` can include `workers`, `use_multiprocessing`, `max_queue_size`. Do not pass these arguments to `fit()`, as they will be ignored.\n",
      "  self._warn_if_super_not_called()\n"
     ]
    },
    {
     "name": "stdout",
     "output_type": "stream",
     "text": [
      "\u001b[1m1442/1442\u001b[0m \u001b[32m━━━━━━━━━━━━━━━━━━━━\u001b[0m\u001b[37m\u001b[0m \u001b[1m264s\u001b[0m 183ms/step\n",
      "Accuracy of model 1800 ,16_model on dataset clean-1800-letters-only : 0.156\n",
      "trained data size : 1800\n",
      "image size : 32\n",
      "using : 1800 ,32_model ...\n",
      "Testing model : 1800 ,32_model ...\n",
      "Found 46130 images belonging to 28 classes.\n",
      "\n",
      "\u001b[1m   3/1442\u001b[0m \u001b[37m━━━━━━━━━━━━━━━━━━━━\u001b[0m \u001b[1m58s\u001b[0m 41ms/step "
     ]
    },
    {
     "name": "stderr",
     "output_type": "stream",
     "text": [
      "/opt/conda/lib/python3.10/site-packages/keras/src/trainers/data_adapters/py_dataset_adapter.py:120: UserWarning: Your `PyDataset` class should call `super().__init__(**kwargs)` in its constructor. `**kwargs` can include `workers`, `use_multiprocessing`, `max_queue_size`. Do not pass these arguments to `fit()`, as they will be ignored.\n",
      "  self._warn_if_super_not_called()\n"
     ]
    },
    {
     "name": "stdout",
     "output_type": "stream",
     "text": [
      "\u001b[1m1442/1442\u001b[0m \u001b[32m━━━━━━━━━━━━━━━━━━━━\u001b[0m\u001b[37m\u001b[0m \u001b[1m61s\u001b[0m 42ms/step\n",
      "Accuracy of model 1800 ,32_model on dataset clean-1800-letters-only : 0.404\n",
      "trained data size : 1800\n",
      "image size : 64\n",
      "using : 1800 ,64_model ...\n",
      "Testing model : 1800 ,64_model ...\n",
      "Found 46130 images belonging to 28 classes.\n",
      "\n",
      "\u001b[1m   3/1442\u001b[0m \u001b[37m━━━━━━━━━━━━━━━━━━━━\u001b[0m \u001b[1m58s\u001b[0m 40ms/step "
     ]
    },
    {
     "name": "stderr",
     "output_type": "stream",
     "text": [
      "/opt/conda/lib/python3.10/site-packages/keras/src/trainers/data_adapters/py_dataset_adapter.py:120: UserWarning: Your `PyDataset` class should call `super().__init__(**kwargs)` in its constructor. `**kwargs` can include `workers`, `use_multiprocessing`, `max_queue_size`. Do not pass these arguments to `fit()`, as they will be ignored.\n",
      "  self._warn_if_super_not_called()\n"
     ]
    },
    {
     "name": "stdout",
     "output_type": "stream",
     "text": [
      "\u001b[1m1442/1442\u001b[0m \u001b[32m━━━━━━━━━━━━━━━━━━━━\u001b[0m\u001b[37m\u001b[0m \u001b[1m62s\u001b[0m 43ms/step\n",
      "Accuracy of model 1800 ,64_model on dataset clean-1800-letters-only : 0.465\n",
      "trained data size : 1800\n",
      "image size : 128\n",
      "using : 1800 ,128_model ...\n",
      "Testing model : 1800 ,128_model ...\n",
      "Found 46130 images belonging to 28 classes.\n",
      "\n",
      "\u001b[1m   3/1442\u001b[0m \u001b[37m━━━━━━━━━━━━━━━━━━━━\u001b[0m \u001b[1m1:10\u001b[0m 49ms/step"
     ]
    },
    {
     "name": "stderr",
     "output_type": "stream",
     "text": [
      "/opt/conda/lib/python3.10/site-packages/keras/src/trainers/data_adapters/py_dataset_adapter.py:120: UserWarning: Your `PyDataset` class should call `super().__init__(**kwargs)` in its constructor. `**kwargs` can include `workers`, `use_multiprocessing`, `max_queue_size`. Do not pass these arguments to `fit()`, as they will be ignored.\n",
      "  self._warn_if_super_not_called()\n"
     ]
    },
    {
     "name": "stdout",
     "output_type": "stream",
     "text": [
      "\u001b[1m1442/1442\u001b[0m \u001b[32m━━━━━━━━━━━━━━━━━━━━\u001b[0m\u001b[37m\u001b[0m \u001b[1m67s\u001b[0m 46ms/step\n",
      "Accuracy of model 1800 ,128_model on dataset clean-1800-letters-only : 0.842\n",
      "trained data size : 1800\n",
      "image size : 256\n",
      "using : 1800 ,256_model ...\n",
      "Testing model : 1800 ,256_model ...\n",
      "Found 46130 images belonging to 28 classes.\n",
      "\n",
      "\u001b[1m   2/1442\u001b[0m \u001b[37m━━━━━━━━━━━━━━━━━━━━\u001b[0m \u001b[1m1:38\u001b[0m 68ms/step "
     ]
    },
    {
     "name": "stderr",
     "output_type": "stream",
     "text": [
      "/opt/conda/lib/python3.10/site-packages/keras/src/trainers/data_adapters/py_dataset_adapter.py:120: UserWarning: Your `PyDataset` class should call `super().__init__(**kwargs)` in its constructor. `**kwargs` can include `workers`, `use_multiprocessing`, `max_queue_size`. Do not pass these arguments to `fit()`, as they will be ignored.\n",
      "  self._warn_if_super_not_called()\n"
     ]
    },
    {
     "name": "stdout",
     "output_type": "stream",
     "text": [
      "\u001b[1m1442/1442\u001b[0m \u001b[32m━━━━━━━━━━━━━━━━━━━━\u001b[0m\u001b[37m\u001b[0m \u001b[1m93s\u001b[0m 65ms/step\n",
      "Accuracy of model 1800 ,256_model on dataset clean-1800-letters-only : 0.06\n",
      "trained data size : 1800\n",
      "image size : 300\n",
      "using : 1800 ,300_model ...\n",
      "Testing model : 1800 ,300_model ...\n",
      "Found 46130 images belonging to 28 classes.\n",
      "\n",
      "\u001b[1m   1/1442\u001b[0m \u001b[37m━━━━━━━━━━━━━━━━━━━━\u001b[0m \u001b[1m3:25\u001b[0m 143ms/step"
     ]
    },
    {
     "name": "stderr",
     "output_type": "stream",
     "text": [
      "/opt/conda/lib/python3.10/site-packages/keras/src/trainers/data_adapters/py_dataset_adapter.py:120: UserWarning: Your `PyDataset` class should call `super().__init__(**kwargs)` in its constructor. `**kwargs` can include `workers`, `use_multiprocessing`, `max_queue_size`. Do not pass these arguments to `fit()`, as they will be ignored.\n",
      "  self._warn_if_super_not_called()\n"
     ]
    },
    {
     "name": "stdout",
     "output_type": "stream",
     "text": [
      "\u001b[1m1442/1442\u001b[0m \u001b[32m━━━━━━━━━━━━━━━━━━━━\u001b[0m\u001b[37m\u001b[0m \u001b[1m129s\u001b[0m 89ms/step\n",
      "Accuracy of model 1800 ,300_model on dataset clean-1800-letters-only : 0.04\n",
      "trained data size : 2500\n",
      "image size : 16\n",
      "using : 2500 ,16_model ...\n",
      "Testing model : 2500 ,16_model ...\n",
      "Found 46130 images belonging to 28 classes.\n",
      "\n",
      "\u001b[1m   3/1442\u001b[0m \u001b[37m━━━━━━━━━━━━━━━━━━━━\u001b[0m \u001b[1m1:05\u001b[0m 46ms/step"
     ]
    },
    {
     "name": "stderr",
     "output_type": "stream",
     "text": [
      "/opt/conda/lib/python3.10/site-packages/keras/src/trainers/data_adapters/py_dataset_adapter.py:120: UserWarning: Your `PyDataset` class should call `super().__init__(**kwargs)` in its constructor. `**kwargs` can include `workers`, `use_multiprocessing`, `max_queue_size`. Do not pass these arguments to `fit()`, as they will be ignored.\n",
      "  self._warn_if_super_not_called()\n"
     ]
    },
    {
     "name": "stdout",
     "output_type": "stream",
     "text": [
      "\u001b[1m1442/1442\u001b[0m \u001b[32m━━━━━━━━━━━━━━━━━━━━\u001b[0m\u001b[37m\u001b[0m \u001b[1m60s\u001b[0m 42ms/step\n",
      "Accuracy of model 2500 ,16_model on dataset clean-1800-letters-only : 0.067\n",
      "trained data size : 2500\n",
      "image size : 32\n",
      "using : 2500 ,32_model ...\n",
      "Testing model : 2500 ,32_model ...\n",
      "Found 46130 images belonging to 28 classes.\n",
      "\n",
      "\u001b[1m   5/1442\u001b[0m \u001b[37m━━━━━━━━━━━━━━━━━━━━\u001b[0m \u001b[1m53s\u001b[0m 37ms/step"
     ]
    },
    {
     "name": "stderr",
     "output_type": "stream",
     "text": [
      "/opt/conda/lib/python3.10/site-packages/keras/src/trainers/data_adapters/py_dataset_adapter.py:120: UserWarning: Your `PyDataset` class should call `super().__init__(**kwargs)` in its constructor. `**kwargs` can include `workers`, `use_multiprocessing`, `max_queue_size`. Do not pass these arguments to `fit()`, as they will be ignored.\n",
      "  self._warn_if_super_not_called()\n"
     ]
    },
    {
     "name": "stdout",
     "output_type": "stream",
     "text": [
      "\u001b[1m1442/1442\u001b[0m \u001b[32m━━━━━━━━━━━━━━━━━━━━\u001b[0m\u001b[37m\u001b[0m \u001b[1m59s\u001b[0m 41ms/step\n",
      "Accuracy of model 2500 ,32_model on dataset clean-1800-letters-only : 0.073\n",
      "trained data size : 2500\n",
      "image size : 64\n",
      "using : 2500 ,64_model ...\n",
      "Testing model : 2500 ,64_model ...\n",
      "Found 46130 images belonging to 28 classes.\n",
      "\n",
      "\u001b[1m   5/1442\u001b[0m \u001b[37m━━━━━━━━━━━━━━━━━━━━\u001b[0m \u001b[1m57s\u001b[0m 40ms/step"
     ]
    },
    {
     "name": "stderr",
     "output_type": "stream",
     "text": [
      "/opt/conda/lib/python3.10/site-packages/keras/src/trainers/data_adapters/py_dataset_adapter.py:120: UserWarning: Your `PyDataset` class should call `super().__init__(**kwargs)` in its constructor. `**kwargs` can include `workers`, `use_multiprocessing`, `max_queue_size`. Do not pass these arguments to `fit()`, as they will be ignored.\n",
      "  self._warn_if_super_not_called()\n"
     ]
    },
    {
     "name": "stdout",
     "output_type": "stream",
     "text": [
      "\u001b[1m1442/1442\u001b[0m \u001b[32m━━━━━━━━━━━━━━━━━━━━\u001b[0m\u001b[37m\u001b[0m \u001b[1m63s\u001b[0m 44ms/step\n",
      "Accuracy of model 2500 ,64_model on dataset clean-1800-letters-only : 0.04\n",
      "trained data size : 2500\n",
      "image size : 128\n",
      "using : 2500 ,128_model ...\n",
      "Testing model : 2500 ,128_model ...\n",
      "Found 46130 images belonging to 28 classes.\n",
      "\n",
      "\u001b[1m   4/1442\u001b[0m \u001b[37m━━━━━━━━━━━━━━━━━━━━\u001b[0m \u001b[1m1:07\u001b[0m 47ms/step"
     ]
    },
    {
     "name": "stderr",
     "output_type": "stream",
     "text": [
      "/opt/conda/lib/python3.10/site-packages/keras/src/trainers/data_adapters/py_dataset_adapter.py:120: UserWarning: Your `PyDataset` class should call `super().__init__(**kwargs)` in its constructor. `**kwargs` can include `workers`, `use_multiprocessing`, `max_queue_size`. Do not pass these arguments to `fit()`, as they will be ignored.\n",
      "  self._warn_if_super_not_called()\n"
     ]
    },
    {
     "name": "stdout",
     "output_type": "stream",
     "text": [
      "\u001b[1m1442/1442\u001b[0m \u001b[32m━━━━━━━━━━━━━━━━━━━━\u001b[0m\u001b[37m\u001b[0m \u001b[1m68s\u001b[0m 47ms/step\n",
      "Accuracy of model 2500 ,128_model on dataset clean-1800-letters-only : 0.041\n",
      "trained data size : 2500\n",
      "image size : 256\n",
      "using : 2500 ,256_model ...\n",
      "Testing model : 2500 ,256_model ...\n",
      "Found 46130 images belonging to 28 classes.\n",
      "\n",
      "\u001b[1m   3/1442\u001b[0m \u001b[37m━━━━━━━━━━━━━━━━━━━━\u001b[0m \u001b[1m1:29\u001b[0m 62ms/step"
     ]
    },
    {
     "name": "stderr",
     "output_type": "stream",
     "text": [
      "/opt/conda/lib/python3.10/site-packages/keras/src/trainers/data_adapters/py_dataset_adapter.py:120: UserWarning: Your `PyDataset` class should call `super().__init__(**kwargs)` in its constructor. `**kwargs` can include `workers`, `use_multiprocessing`, `max_queue_size`. Do not pass these arguments to `fit()`, as they will be ignored.\n",
      "  self._warn_if_super_not_called()\n"
     ]
    },
    {
     "name": "stdout",
     "output_type": "stream",
     "text": [
      "\u001b[1m1442/1442\u001b[0m \u001b[32m━━━━━━━━━━━━━━━━━━━━\u001b[0m\u001b[37m\u001b[0m \u001b[1m95s\u001b[0m 66ms/step\n",
      "Accuracy of model 2500 ,256_model on dataset clean-1800-letters-only : 0.043\n",
      "trained data size : 2500\n",
      "image size : 300\n",
      "using : 2500 ,300_model ...\n",
      "Testing model : 2500 ,300_model ...\n",
      "Found 46130 images belonging to 28 classes.\n",
      "\n",
      "\u001b[1m   1/1442\u001b[0m \u001b[37m━━━━━━━━━━━━━━━━━━━━\u001b[0m \u001b[1m3:11\u001b[0m 133ms/step"
     ]
    },
    {
     "name": "stderr",
     "output_type": "stream",
     "text": [
      "/opt/conda/lib/python3.10/site-packages/keras/src/trainers/data_adapters/py_dataset_adapter.py:120: UserWarning: Your `PyDataset` class should call `super().__init__(**kwargs)` in its constructor. `**kwargs` can include `workers`, `use_multiprocessing`, `max_queue_size`. Do not pass these arguments to `fit()`, as they will be ignored.\n",
      "  self._warn_if_super_not_called()\n"
     ]
    },
    {
     "name": "stdout",
     "output_type": "stream",
     "text": [
      "\u001b[1m1442/1442\u001b[0m \u001b[32m━━━━━━━━━━━━━━━━━━━━\u001b[0m\u001b[37m\u001b[0m \u001b[1m130s\u001b[0m 90ms/step\n",
      "Accuracy of model 2500 ,300_model on dataset clean-1800-letters-only : 0.049\n",
      "all datasets accuracies : {'sample-1800': {'1800 ,16_model': 0.174, '1800 ,32_model': 0.4, '1800 ,64_model': 0.475, '1800 ,128_model': 0.833, '1800 ,256_model': 0.058, '1800 ,300_model': 0.04, '2500 ,16_model': 0.069, '2500 ,32_model': 0.08, '2500 ,64_model': 0.036, '2500 ,128_model': 0.04, '2500 ,256_model': 0.056, '2500 ,300_model': 0.049}, 'sample-2500': {'1800 ,16_model': 0.036, '1800 ,32_model': 0.042, '1800 ,64_model': 0.037, '1800 ,128_model': 0.024, '1800 ,256_model': 0.06, '1800 ,300_model': 0.036, '2500 ,16_model': 0.929, '2500 ,32_model': 0.988, '2500 ,64_model': 0.996, '2500 ,128_model': 0.979, '2500 ,256_model': 0.99, '2500 ,300_model': 0.975}, 'clean-2500-letters-only': {'1800 ,16_model': 0.036, '1800 ,32_model': 0.043, '1800 ,64_model': 0.036, '1800 ,128_model': 0.027, '1800 ,256_model': 0.058, '1800 ,300_model': 0.036, '2500 ,16_model': 0.933, '2500 ,32_model': 0.984, '2500 ,64_model': 0.998, '2500 ,128_model': 0.98, '2500 ,256_model': 0.986, '2500 ,300_model': 0.975}, 'clean-1800-letters-only': {'1800 ,16_model': 0.156, '1800 ,32_model': 0.404, '1800 ,64_model': 0.465, '1800 ,128_model': 0.842, '1800 ,256_model': 0.06, '1800 ,300_model': 0.04, '2500 ,16_model': 0.067, '2500 ,32_model': 0.073, '2500 ,64_model': 0.04, '2500 ,128_model': 0.041, '2500 ,256_model': 0.043, '2500 ,300_model': 0.049}}\n"
     ]
    },
    {
     "data": {
      "text/html": [
       "<style type=\"text/css\">\n",
       "#T_30c4a th {\n",
       "  text-align: center;\n",
       "}\n",
       "#T_30c4a_row0_col0, #T_30c4a_row0_col1, #T_30c4a_row0_col2, #T_30c4a_row0_col3, #T_30c4a_row0_col5, #T_30c4a_row1_col4, #T_30c4a_row1_col6, #T_30c4a_row1_col7, #T_30c4a_row1_col8, #T_30c4a_row1_col9, #T_30c4a_row1_col10, #T_30c4a_row1_col11, #T_30c4a_row2_col6, #T_30c4a_row2_col7, #T_30c4a_row2_col8, #T_30c4a_row2_col9, #T_30c4a_row2_col10, #T_30c4a_row2_col11, #T_30c4a_row3_col1, #T_30c4a_row3_col2, #T_30c4a_row3_col3, #T_30c4a_row3_col4, #T_30c4a_row3_col5 {\n",
       "  background-color: #1f77b4;\n",
       "  color: #f1f1f1;\n",
       "}\n",
       "#T_30c4a_row0_col4, #T_30c4a_row0_col6, #T_30c4a_row0_col7, #T_30c4a_row0_col8, #T_30c4a_row0_col9, #T_30c4a_row0_col10, #T_30c4a_row0_col11, #T_30c4a_row1_col0, #T_30c4a_row1_col1, #T_30c4a_row1_col2, #T_30c4a_row1_col3, #T_30c4a_row1_col5, #T_30c4a_row2_col0, #T_30c4a_row2_col1, #T_30c4a_row2_col2, #T_30c4a_row2_col3, #T_30c4a_row2_col4, #T_30c4a_row2_col5, #T_30c4a_row3_col6, #T_30c4a_row3_col7, #T_30c4a_row3_col8, #T_30c4a_row3_col9, #T_30c4a_row3_col10, #T_30c4a_row3_col11 {\n",
       "  background-color: #9edae5;\n",
       "  color: #000000;\n",
       "}\n",
       "#T_30c4a_row3_col0 {\n",
       "  background-color: #ff7f0e;\n",
       "  color: #f1f1f1;\n",
       "}\n",
       "</style>\n",
       "<table id=\"T_30c4a\">\n",
       "  <thead>\n",
       "    <tr>\n",
       "      <th class=\"blank level0\" >&nbsp;</th>\n",
       "      <th id=\"T_30c4a_level0_col0\" class=\"col_heading level0 col0\" >1800 ,16_model</th>\n",
       "      <th id=\"T_30c4a_level0_col1\" class=\"col_heading level0 col1\" >1800 ,32_model</th>\n",
       "      <th id=\"T_30c4a_level0_col2\" class=\"col_heading level0 col2\" >1800 ,64_model</th>\n",
       "      <th id=\"T_30c4a_level0_col3\" class=\"col_heading level0 col3\" >1800 ,128_model</th>\n",
       "      <th id=\"T_30c4a_level0_col4\" class=\"col_heading level0 col4\" >1800 ,256_model</th>\n",
       "      <th id=\"T_30c4a_level0_col5\" class=\"col_heading level0 col5\" >1800 ,300_model</th>\n",
       "      <th id=\"T_30c4a_level0_col6\" class=\"col_heading level0 col6\" >2500 ,16_model</th>\n",
       "      <th id=\"T_30c4a_level0_col7\" class=\"col_heading level0 col7\" >2500 ,32_model</th>\n",
       "      <th id=\"T_30c4a_level0_col8\" class=\"col_heading level0 col8\" >2500 ,64_model</th>\n",
       "      <th id=\"T_30c4a_level0_col9\" class=\"col_heading level0 col9\" >2500 ,128_model</th>\n",
       "      <th id=\"T_30c4a_level0_col10\" class=\"col_heading level0 col10\" >2500 ,256_model</th>\n",
       "      <th id=\"T_30c4a_level0_col11\" class=\"col_heading level0 col11\" >2500 ,300_model</th>\n",
       "    </tr>\n",
       "  </thead>\n",
       "  <tbody>\n",
       "    <tr>\n",
       "      <th id=\"T_30c4a_level0_row0\" class=\"row_heading level0 row0\" >sample-1800</th>\n",
       "      <td id=\"T_30c4a_row0_col0\" class=\"data row0 col0\" >0.174000</td>\n",
       "      <td id=\"T_30c4a_row0_col1\" class=\"data row0 col1\" >0.400000</td>\n",
       "      <td id=\"T_30c4a_row0_col2\" class=\"data row0 col2\" >0.475000</td>\n",
       "      <td id=\"T_30c4a_row0_col3\" class=\"data row0 col3\" >0.833000</td>\n",
       "      <td id=\"T_30c4a_row0_col4\" class=\"data row0 col4\" >0.058000</td>\n",
       "      <td id=\"T_30c4a_row0_col5\" class=\"data row0 col5\" >0.040000</td>\n",
       "      <td id=\"T_30c4a_row0_col6\" class=\"data row0 col6\" >0.069000</td>\n",
       "      <td id=\"T_30c4a_row0_col7\" class=\"data row0 col7\" >0.080000</td>\n",
       "      <td id=\"T_30c4a_row0_col8\" class=\"data row0 col8\" >0.036000</td>\n",
       "      <td id=\"T_30c4a_row0_col9\" class=\"data row0 col9\" >0.040000</td>\n",
       "      <td id=\"T_30c4a_row0_col10\" class=\"data row0 col10\" >0.056000</td>\n",
       "      <td id=\"T_30c4a_row0_col11\" class=\"data row0 col11\" >0.049000</td>\n",
       "    </tr>\n",
       "    <tr>\n",
       "      <th id=\"T_30c4a_level0_row1\" class=\"row_heading level0 row1\" >sample-2500</th>\n",
       "      <td id=\"T_30c4a_row1_col0\" class=\"data row1 col0\" >0.036000</td>\n",
       "      <td id=\"T_30c4a_row1_col1\" class=\"data row1 col1\" >0.042000</td>\n",
       "      <td id=\"T_30c4a_row1_col2\" class=\"data row1 col2\" >0.037000</td>\n",
       "      <td id=\"T_30c4a_row1_col3\" class=\"data row1 col3\" >0.024000</td>\n",
       "      <td id=\"T_30c4a_row1_col4\" class=\"data row1 col4\" >0.060000</td>\n",
       "      <td id=\"T_30c4a_row1_col5\" class=\"data row1 col5\" >0.036000</td>\n",
       "      <td id=\"T_30c4a_row1_col6\" class=\"data row1 col6\" >0.929000</td>\n",
       "      <td id=\"T_30c4a_row1_col7\" class=\"data row1 col7\" >0.988000</td>\n",
       "      <td id=\"T_30c4a_row1_col8\" class=\"data row1 col8\" >0.996000</td>\n",
       "      <td id=\"T_30c4a_row1_col9\" class=\"data row1 col9\" >0.979000</td>\n",
       "      <td id=\"T_30c4a_row1_col10\" class=\"data row1 col10\" >0.990000</td>\n",
       "      <td id=\"T_30c4a_row1_col11\" class=\"data row1 col11\" >0.975000</td>\n",
       "    </tr>\n",
       "    <tr>\n",
       "      <th id=\"T_30c4a_level0_row2\" class=\"row_heading level0 row2\" >clean-2500-letters-only</th>\n",
       "      <td id=\"T_30c4a_row2_col0\" class=\"data row2 col0\" >0.036000</td>\n",
       "      <td id=\"T_30c4a_row2_col1\" class=\"data row2 col1\" >0.043000</td>\n",
       "      <td id=\"T_30c4a_row2_col2\" class=\"data row2 col2\" >0.036000</td>\n",
       "      <td id=\"T_30c4a_row2_col3\" class=\"data row2 col3\" >0.027000</td>\n",
       "      <td id=\"T_30c4a_row2_col4\" class=\"data row2 col4\" >0.058000</td>\n",
       "      <td id=\"T_30c4a_row2_col5\" class=\"data row2 col5\" >0.036000</td>\n",
       "      <td id=\"T_30c4a_row2_col6\" class=\"data row2 col6\" >0.933000</td>\n",
       "      <td id=\"T_30c4a_row2_col7\" class=\"data row2 col7\" >0.984000</td>\n",
       "      <td id=\"T_30c4a_row2_col8\" class=\"data row2 col8\" >0.998000</td>\n",
       "      <td id=\"T_30c4a_row2_col9\" class=\"data row2 col9\" >0.980000</td>\n",
       "      <td id=\"T_30c4a_row2_col10\" class=\"data row2 col10\" >0.986000</td>\n",
       "      <td id=\"T_30c4a_row2_col11\" class=\"data row2 col11\" >0.975000</td>\n",
       "    </tr>\n",
       "    <tr>\n",
       "      <th id=\"T_30c4a_level0_row3\" class=\"row_heading level0 row3\" >clean-1800-letters-only</th>\n",
       "      <td id=\"T_30c4a_row3_col0\" class=\"data row3 col0\" >0.156000</td>\n",
       "      <td id=\"T_30c4a_row3_col1\" class=\"data row3 col1\" >0.404000</td>\n",
       "      <td id=\"T_30c4a_row3_col2\" class=\"data row3 col2\" >0.465000</td>\n",
       "      <td id=\"T_30c4a_row3_col3\" class=\"data row3 col3\" >0.842000</td>\n",
       "      <td id=\"T_30c4a_row3_col4\" class=\"data row3 col4\" >0.060000</td>\n",
       "      <td id=\"T_30c4a_row3_col5\" class=\"data row3 col5\" >0.040000</td>\n",
       "      <td id=\"T_30c4a_row3_col6\" class=\"data row3 col6\" >0.067000</td>\n",
       "      <td id=\"T_30c4a_row3_col7\" class=\"data row3 col7\" >0.073000</td>\n",
       "      <td id=\"T_30c4a_row3_col8\" class=\"data row3 col8\" >0.040000</td>\n",
       "      <td id=\"T_30c4a_row3_col9\" class=\"data row3 col9\" >0.041000</td>\n",
       "      <td id=\"T_30c4a_row3_col10\" class=\"data row3 col10\" >0.043000</td>\n",
       "      <td id=\"T_30c4a_row3_col11\" class=\"data row3 col11\" >0.049000</td>\n",
       "    </tr>\n",
       "  </tbody>\n",
       "</table>\n"
      ],
      "text/plain": [
       "<pandas.io.formats.style.Styler at 0x7b7e71095b10>"
      ]
     },
     "metadata": {},
     "output_type": "display_data"
    }
   ],
   "source": [
    "from tensorflow.keras.preprocessing.image import ImageDataGenerator\n",
    "from tensorflow.keras.models import load_model\n",
    "from sklearn.metrics import accuracy_score\n",
    "import pandas as pd\n",
    "import shutil\n",
    "import os\n",
    "import numpy as np\n",
    "\n",
    "def copy_models_to_kaggle(model_paths):\n",
    "    os.makedirs('/kaggle/working/models', exist_ok=True)\n",
    "    new_paths = []\n",
    "    for model_path in model_paths:\n",
    "        model_trained_data_size = model_path.split(\"/\")[3]\n",
    "        model_trained_img_size = model_path.split(\"/\")[5]\n",
    "        new_model_path = '/kaggle/working/models/' + model_trained_data_size + \"_dataset\" + \"_imgsize_\" + model_trained_img_size + \"_model.keras\"\n",
    "        new_paths.append(new_model_path)\n",
    "        if os.path.exists(new_model_path):\n",
    "            # raise Exception(f\"model already exists at {new_model_path}\")\n",
    "            print(f\"model already exists at {new_model_path}\")\n",
    "        shutil.copy(model_path, new_model_path)\n",
    "    return new_paths\n",
    " \n",
    "\n",
    "batch_size = 32\n",
    "test_dataset_paths = [\n",
    "    # '/kaggle/input/sample-1800',\n",
    "    # '/kaggle/input/sample-2500',\n",
    "    # '/kaggle/input/clean-2500-letters-only',\n",
    "    # '/kaggle/input/clean-1800-letters-only'\n",
    "    '/kaggle/input/2500-baa-taa-thaa',\n",
    "    '/kaggle/input/1800-baa-taa-thaa'\n",
    "]\n",
    "models_paths = [\n",
    "        # '/kaggle/input/1800-model/keras/16/1/model img_size_16.keras',\n",
    "        # '/kaggle/input/1800-model/keras/32/1/model img_size_32.keras',\n",
    "        # '/kaggle/input/1800-model/keras/64/1/model img_size_64.keras',\n",
    "        # '/kaggle/input/1800-model/keras/128/1/model img_size_128.keras',\n",
    "        # '/kaggle/input/1800-model/keras/256/1/model img_size_256.keras',\n",
    "        # '/kaggle/input/1800-model/keras/300/1/model img_size_300.keras',\n",
    "\n",
    "        # '/kaggle/input/2500-model/keras/16/1/model img_size_16.keras',\n",
    "        # '/kaggle/input/2500-model/keras/32/1/model img_size_32.keras',\n",
    "        # '/kaggle/input/2500-model/keras/64/1/model img_size_64.keras',\n",
    "        # '/kaggle/input/2500-model/keras/128/1/model img_size_128.keras',\n",
    "        # '/kaggle/input/2500-model/keras/256/1/model img_size_256.keras',\n",
    "        # '/kaggle/input/2500-model/keras/300/1/model img_size_300.keras'\n",
    "        '/kaggle/input/1800-baa-taa-thaa-model/keras/imgsize_128/1/model_5616_images_img_size_128.keras'\n",
    "]\n",
    "print(\"copying models to kaggle to be able to work with WRITE ACESS ...\")\n",
    "copied_models_paths = copy_models_to_kaggle(models_paths)\n",
    "print(f\"loading models in RAM...\")\n",
    "model_path_to_model = {}\n",
    "for model_path in copied_models_paths:\n",
    "    print(f\"loading model in : {model_path} ...\")\n",
    "    model = load_model(model_path)\n",
    "    model_path_to_model[model_path] = model\n",
    "\n",
    "all_datasets_accuracies = {}\n",
    "for dataset_path in test_dataset_paths:\n",
    "    dataset_name  = dataset_path.split(\"/\")[-1]\n",
    "    print(f\"Testing dataset : {dataset_path} ...\")\n",
    "    dataset_test_accuracies = {}\n",
    "    for model_path in copied_models_paths:\n",
    "        # /kaggle/working/models/2500-model_dataset_imgsize_300_model.keras\n",
    "        trained_data_size = int(model_path.split(\"/\")[4].split(\"-\")[0])\n",
    "        print(f\"trained data size : {trained_data_size}\")\n",
    "        img_size = int(model_path.split(\"/\")[4].split(\"_\")[-2])\n",
    "        print(f\"image size : {img_size}\")\n",
    "        current_model_name =  str(trained_data_size) + \" ,\" + str(img_size) + \"_model\"\n",
    "        print(f\"using : {current_model_name} ...\")\n",
    "        model = model_path_to_model[model_path]\n",
    "\n",
    "        print(f\"Testing model : {current_model_name} ...\")\n",
    "        test_datagen = ImageDataGenerator(rescale=1./255)\n",
    "        test_generator = test_datagen.flow_from_directory(\n",
    "            dataset_path,\n",
    "            target_size=(img_size, img_size),\n",
    "            batch_size=batch_size,\n",
    "            class_mode='categorical',\n",
    "            shuffle=False)\n",
    "        print()\n",
    "\n",
    "        # Predict the output\n",
    "        steps = int(np.ceil(test_generator.samples / test_generator.batch_size))\n",
    "        predictions = model.predict(test_generator, steps=steps)\n",
    "        predictions = predictions.argmax(axis=-1)                    \n",
    "        true_classes = test_generator.classes\n",
    "        accuracy = round(accuracy_score(true_classes, predictions), 3)\n",
    "        dataset_test_accuracies[current_model_name] = accuracy\n",
    "        print(f\"Accuracy of model {current_model_name} on dataset {dataset_name} : {accuracy}\")\n",
    "    all_datasets_accuracies[dataset_name] = dataset_test_accuracies\n",
    "\n",
    "print(f\"all datasets accuracies : {all_datasets_accuracies}\")\n",
    "accuracies_df = pd.DataFrame(all_datasets_accuracies).transpose()\n",
    "accuracies_df = accuracies_df.style.background_gradient(cmap='tab20_r').set_table_styles([dict(selector=\"th\", props=[(\"text-align\", \"center\")])])\n",
    "display(accuracies_df)\n"
   ]
  }
 ],
 "metadata": {
  "kaggle": {
   "accelerator": "gpu",
   "dataSources": [
    {
     "datasetId": 4819728,
     "sourceId": 8177275,
     "sourceType": "datasetVersion"
    },
    {
     "datasetId": 4819790,
     "sourceId": 8177358,
     "sourceType": "datasetVersion"
    },
    {
     "datasetId": 4852399,
     "sourceId": 8193116,
     "sourceType": "datasetVersion"
    },
    {
     "datasetId": 4852442,
     "sourceId": 8193171,
     "sourceType": "datasetVersion"
    },
    {
     "isSourceIdPinned": true,
     "modelInstanceId": 30259,
     "sourceId": 35932,
     "sourceType": "modelInstanceVersion"
    },
    {
     "isSourceIdPinned": true,
     "modelInstanceId": 30261,
     "sourceId": 35934,
     "sourceType": "modelInstanceVersion"
    },
    {
     "isSourceIdPinned": true,
     "modelInstanceId": 30265,
     "sourceId": 35938,
     "sourceType": "modelInstanceVersion"
    },
    {
     "isSourceIdPinned": true,
     "modelInstanceId": 30269,
     "sourceId": 35942,
     "sourceType": "modelInstanceVersion"
    },
    {
     "isSourceIdPinned": true,
     "modelInstanceId": 30270,
     "sourceId": 35943,
     "sourceType": "modelInstanceVersion"
    },
    {
     "isSourceIdPinned": true,
     "modelInstanceId": 30273,
     "sourceId": 35946,
     "sourceType": "modelInstanceVersion"
    },
    {
     "isSourceIdPinned": true,
     "modelInstanceId": 30277,
     "sourceId": 35950,
     "sourceType": "modelInstanceVersion"
    },
    {
     "isSourceIdPinned": true,
     "modelInstanceId": 30281,
     "sourceId": 35956,
     "sourceType": "modelInstanceVersion"
    },
    {
     "isSourceIdPinned": true,
     "modelInstanceId": 30291,
     "sourceId": 35967,
     "sourceType": "modelInstanceVersion"
    },
    {
     "isSourceIdPinned": true,
     "modelInstanceId": 30292,
     "sourceId": 35968,
     "sourceType": "modelInstanceVersion"
    },
    {
     "isSourceIdPinned": true,
     "modelInstanceId": 30295,
     "sourceId": 35971,
     "sourceType": "modelInstanceVersion"
    },
    {
     "isSourceIdPinned": true,
     "modelInstanceId": 30296,
     "sourceId": 35972,
     "sourceType": "modelInstanceVersion"
    }
   ],
   "dockerImageVersionId": 30699,
   "isGpuEnabled": true,
   "isInternetEnabled": true,
   "language": "python",
   "sourceType": "notebook"
  },
  "kernelspec": {
   "display_name": "Python 3",
   "language": "python",
   "name": "python3"
  },
  "language_info": {
   "codemirror_mode": {
    "name": "ipython",
    "version": 3
   },
   "file_extension": ".py",
   "mimetype": "text/x-python",
   "name": "python",
   "nbconvert_exporter": "python",
   "pygments_lexer": "ipython3",
   "version": "3.10.13"
  },
  "papermill": {
   "default_parameters": {},
   "duration": 3097.361741,
   "end_time": "2024-04-22T16:08:33.965837",
   "environment_variables": {},
   "exception": null,
   "input_path": "__notebook__.ipynb",
   "output_path": "__notebook__.ipynb",
   "parameters": {},
   "start_time": "2024-04-22T15:16:56.604096",
   "version": "2.5.0"
  }
 },
 "nbformat": 4,
 "nbformat_minor": 5
}
