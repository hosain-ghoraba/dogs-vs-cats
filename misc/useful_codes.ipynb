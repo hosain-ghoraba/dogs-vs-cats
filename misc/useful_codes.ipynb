{
 "cells": [
  {
   "cell_type": "markdown",
   "metadata": {},
   "source": [
    "Choose a zip file to extract"
   ]
  },
  {
   "cell_type": "code",
   "execution_count": null,
   "metadata": {},
   "outputs": [],
   "source": [
    "import os\n",
    "import shutil\n",
    "import zipfile\n",
    "from tkinter import Button, ttk ,filedialog, Label, TclError, Frame\n",
    "from tkinterdnd2 import DND_FILES, TkinterDnD\n",
    "import tkinter.messagebox\n",
    "\n",
    "def extract_zip(source_path, destination_path, progressbar , drop_label):\n",
    "    drop_label.config(text=\"Extracting....\")\n",
    "    drop_label.update()\n",
    "    if os.path.exists(destination_path):\n",
    "        shutil.rmtree(destination_path)\n",
    "    with zipfile.ZipFile(source_path, 'r') as zip_ref:\n",
    "        files = zip_ref.infolist()\n",
    "        progressbar['maximum'] = len(files)\n",
    "        for i, file in enumerate(files):\n",
    "            zip_ref.extract(file, path=destination_path)\n",
    "            progressbar['value'] = i\n",
    "            progressbar.update()\n",
    "        progressbar['value'] = len(files)\n",
    "        \n",
    "        \n",
    "\n",
    "def drop(event):\n",
    "    file_path = event.data[1:-1]  # remove the curly braces\n",
    "    if file_path:\n",
    "        zip_file_name = os.path.basename(file_path)\n",
    "        destination_path = os.path.join(os.path.dirname(file_path), os.path.splitext(zip_file_name)[0])\n",
    "        extract_zip(file_path, destination_path, progressbar, drop_label)\n",
    "        os.startfile(os.path.dirname(destination_path))\n",
    "\n",
    "def choose_file_and_extract(root, progressbar, drop_label):\n",
    "    file_path = filedialog.askopenfilename(filetypes=[('Zip files', '*.zip')])\n",
    "    if file_path:\n",
    "        zip_file_name = os.path.basename(file_path)\n",
    "        destination_path = os.path.join(os.path.dirname(file_path), os.path.splitext(zip_file_name)[0])\n",
    "        extract_zip(file_path, destination_path, progressbar, drop_label)\n",
    "        os.startfile(os.path.dirname(destination_path))\n",
    "        root.destroy()  # Close the window after execution\n",
    "\n",
    "\n",
    "root = TkinterDnD.Tk()\n",
    "root.title(\"Zip Extractor\") \n",
    "# root.configure(bg='lightblue')\n",
    "root.geometry('990x540')  # Set the window size to half of your screen size\n",
    "\n",
    "progressbar = ttk.Progressbar(root, length=990, mode='determinate')\n",
    "progressbar.pack() \n",
    "\n",
    "drop_label = Label(root, text=\"Drop your file here\", font=(\"Arial\", 24))\n",
    "# drop_label.place(relx=0.5, rely=0.5, anchor='center')\n",
    "drop_label.pack(pady=100)\n",
    "\n",
    "choose_button = Button(root, text=\"Or Choose Manually\", command=lambda: choose_file_and_extract(root, progressbar, drop_label), height=2, width=20, font=(\"Arial\", 20), bg='green', fg='white', relief='raised', borderwidth=5)\n",
    "choose_button.pack()\n",
    "\n",
    "root.drop_target_register(DND_FILES)\n",
    "root.dnd_bind('<<Drop>>', drop)\n",
    "\n",
    "try:\n",
    "    root.mainloop()\n",
    "except TclError:\n",
    "    pass\n",
    "except Exception as e:\n",
    "    tkinter.messagebox.showerror(\"Error\", str(e))\n",
    "\n"
   ]
  },
  {
   "cell_type": "markdown",
   "metadata": {},
   "source": [
    "Move images from one folder to another(and fix conflicting names if any)\n"
   ]
  },
  {
   "cell_type": "code",
   "execution_count": null,
   "metadata": {},
   "outputs": [],
   "source": [
    "import os\n",
    "import shutil\n",
    "\n",
    "def move_files_with_rename(src_folder, dst_folder):\n",
    "    # Iterate over all files in the source folder\n",
    "    for filename in os.listdir(src_folder):\n",
    "        src_file = os.path.join(src_folder, filename)\n",
    "        dst_file = os.path.join(dst_folder, filename)\n",
    "\n",
    "        # If a file with the same name exists in the destination folder, rename the file being moved\n",
    "        if os.path.exists(dst_file):\n",
    "            base, extension = os.path.splitext(filename)\n",
    "            filename = f\"{base}_changed{extension}\"\n",
    "            dst_file = os.path.join(dst_folder, filename)\n",
    "\n",
    "        # Move the file\n",
    "        shutil.move(src_file, dst_file)\n",
    "\n",
    "# Use the function\n",
    "src_folder = \"C:/Users/Dell/Desktop/test/500/test\"\n",
    "dst_folder = \"C:/Users/Dell/Desktop/test/500/train\"\n",
    "move_files_with_rename(src_folder, dst_folder)"
   ]
  },
  {
   "cell_type": "markdown",
   "metadata": {},
   "source": [
    "Divide a dataset into train & test folders"
   ]
  },
  {
   "cell_type": "code",
   "execution_count": null,
   "metadata": {},
   "outputs": [],
   "source": [
    "import os\n",
    "import shutil\n",
    "from sklearn.model_selection import train_test_split\n",
    "\n",
    "# Define the source directory and the target directories\n",
    "source_dir = './data set/all/'\n",
    "train_dir = './data set/train/'\n",
    "test_dir = './data set/test/'\n",
    "\n",
    "# Create the target directories if they don't exist\n",
    "os.makedirs(train_dir, exist_ok=True)\n",
    "os.makedirs(test_dir, exist_ok=True)\n",
    "\n",
    "# Get a list of all the dog and cat image filenames\n",
    "dog_images = [i for i in os.listdir(source_dir) if 'dog' in i]\n",
    "cat_images = [i for i in os.listdir(source_dir) if 'cat' in i]\n",
    "\n",
    "# Split the filenames into training and testing sets\n",
    "train_dogs, test_dogs = train_test_split(dog_images, test_size=0.25)\n",
    "train_cats, test_cats = train_test_split(cat_images, test_size=0.25)\n",
    "\n",
    "# Function to move files\n",
    "def move_files(files, target_dir):\n",
    "    for file in files:\n",
    "        shutil.move(source_dir + file, target_dir + file)\n",
    "\n",
    "# Move the corresponding files into the appropriate directories\n",
    "move_files(train_dogs, train_dir)\n",
    "move_files(test_dogs, test_dir)\n",
    "move_files(train_cats, train_dir)\n",
    "move_files(test_cats, test_dir)\n"
   ]
  },
  {
   "cell_type": "markdown",
   "metadata": {},
   "source": [
    "Join folders containing different letter positions into one folder"
   ]
  },
  {
   "cell_type": "code",
   "execution_count": null,
   "metadata": {},
   "outputs": [],
   "source": [
    "import os\n",
    "import shutil\n",
    "\n",
    "root_dir = r\"C:\\Users\\Dell\\Desktop\\datasets\\1500 (also contains paragraphs)\\1500 (also contains paragraphs)\\isolated_alphabets_per_alphabet\"\n",
    "# dest is beside the root directory\n",
    "dest_dir = os.path.join(os.path.dirname(root_dir), \"joined\")\n",
    "\n",
    "# Get a list of all subdirectories in the root directory\n",
    "subdirs = [d for d in os.listdir(root_dir) if os.path.isdir(os.path.join(root_dir, d))]\n",
    "print(\"started\")\n",
    "if(os.path.exists(dest_dir)):\n",
    "    print(\"deleting existing root directory...\")\n",
    "    shutil.rmtree(dest_dir)\n",
    "for subdir in subdirs:\n",
    "    print(\"woring in \", subdir)\n",
    "    if '_' in subdir: # because some subdirectories (numbers) don't have an underscore in their naems and dont need joining\n",
    "        letter_name = subdir.split('_')[0]\n",
    "        new_dir = os.path.join(dest_dir, letter_name)\n",
    "        os.makedirs(new_dir, exist_ok=True)\n",
    "        files = [f for f in os.listdir(os.path.join(root_dir, subdir))]\n",
    "        for file in files:\n",
    "            shutil.copy(os.path.join(root_dir, subdir, file), os.path.join(new_dir, file))\n",
    "    else:\n",
    "        shutil.copytree(os.path.join(root_dir, subdir), os.path.join(dest_dir, subdir))\n",
    "print(\"done\")        "
   ]
  }
 ],
 "metadata": {
  "kernelspec": {
   "display_name": "env",
   "language": "python",
   "name": "python3"
  },
  "language_info": {
   "codemirror_mode": {
    "name": "ipython",
    "version": 3
   },
   "file_extension": ".py",
   "mimetype": "text/x-python",
   "name": "python",
   "nbconvert_exporter": "python",
   "pygments_lexer": "ipython3",
   "version": "3.11.8"
  }
 },
 "nbformat": 4,
 "nbformat_minor": 2
}
